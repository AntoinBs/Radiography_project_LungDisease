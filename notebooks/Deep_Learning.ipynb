{
 "cells": [
  {
   "cell_type": "markdown",
   "metadata": {
    "id": "rIuzHmD-ESUl"
   },
   "source": [
    "# Générer environnement\n",
    "\n",
    "\n"
   ]
  },
  {
   "cell_type": "code",
   "execution_count": null,
   "metadata": {
    "executionInfo": {
     "elapsed": 25949,
     "status": "ok",
     "timestamp": 1738333116718,
     "user": {
      "displayName": "Antoine Carton-Leclercq",
      "userId": "16762079514641463759"
     },
     "user_tz": -60
    },
    "id": "S6n0t-9lFHP_"
   },
   "outputs": [],
   "source": [
    "import numpy as np\n",
    "import tensorflow as tf\n",
    "import pandas as pd\n",
    "from tqdm import tqdm\n",
    "from pathlib import Path\n",
    "import Libraries\n",
    "\n",
    "# Importations pour la construction du modèle\n",
    "from tensorflow.keras.models import Model\n",
    "from tensorflow.keras.layers import Input\n",
    "from tensorflow.keras.layers import Dense\n",
    "from tensorflow.keras.layers import MaxPooling2D\n",
    "from tensorflow.keras.layers import Dropout\n",
    "from tensorflow.keras.layers import Conv2D\n",
    "from tensorflow.keras.layers import Flatten\n",
    "from tensorflow.keras.layers import LeakyReLU\n",
    "from sklearn.model_selection import train_test_split\n",
    "\n",
    "# Importation pour la transformation sur les images\n",
    "import tensorflow as tf\n",
    "from tensorflow.keras.layers import Resizing\n",
    "from tensorflow.keras.layers import Rescaling\n",
    "from tensorflow.keras.callbacks import ReduceLROnPlateau, EarlyStopping\n",
    "from tensorflow.keras.callbacks import Callback\n",
    "from tensorflow.keras import layers, models\n",
    "from tensorflow.keras.layers import RandomFlip, RandomRotation, RandomZoom\n",
    "from tensorflow.keras.layers import RandomBrightness\n",
    "from tensorflow.keras.layers import RandomContrast\n",
    "from tensorflow.keras.layers import RandomTranslation\n",
    "\n",
    "# Importation callbacks\n",
    "from tensorflow.keras.callbacks import ReduceLROnPlateau, EarlyStopping\n",
    "from tensorflow.keras.callbacks import Callback\n",
    "from timeit import default_timer as timer\n",
    "\n",
    "\n",
    "# Importation de l'utilitaire image_dataset_from_directory de Keras\n",
    "from keras.utils import image_dataset_from_directory\n",
    "\n",
    "# Importation pour les visualisations\n",
    "import matplotlib.pyplot as plt\n",
    "import seaborn as sns\n",
    "from sklearn.metrics import classification_report, confusion_matrix\n",
    "%matplotlib inline\n",
    "import cv2\n",
    "import os\n",
    "\n",
    "\n",
    "from tensorflow.python.ops.numpy_ops import np_config\n",
    "np_config.enable_numpy_behavior()\n",
    "\n",
    "# Initialisation des graines aléatoires pour la reproductibilité\n",
    "import random\n",
    "from sklearn.utils.class_weight import compute_class_weight\n",
    "import numpy as np\n",
    "np.random.seed(24)\n",
    "random.seed(24)\n",
    "tf.random.set_seed(24)\n",
    "tf.keras.utils.set_random_seed(24)\n",
    "tf.config.experimental.enable_op_determinism()"
   ]
  },
  {
   "cell_type": "markdown",
   "metadata": {},
   "source": [
    "# Preprocessing des images et des masques"
   ]
  },
  {
   "cell_type": "markdown",
   "metadata": {
    "id": "pRXcMQ2dIH7J"
   },
   "source": [
    "## *Préparer les images et les séparer en échantillons*"
   ]
  },
  {
   "cell_type": "markdown",
   "metadata": {
    "id": "NUCmoI9lQw4W"
   },
   "source": [
    "Dans cette section nous utilisons une fonction spéciale consue pour:\n",
    "- Remplir le tableau des métadonnées avec:\n",
    "    - L'URL des images et masques\n",
    "- Redimenssionner les masques \n",
    "    - Les sauver dans le dossier des données traitées\n",
    "- Si l'argument 'mask_image' est vrai\n",
    "    - Soustraire les masques redimenssionés aux images\n",
    "    - Sauver les images masquées dans le dossier des données traitées\n",
    "- Séparer les images (masquées ou pas) en échantillons d'entraînement, de test et de validation\n",
    "    - Les sauvegarder dans des sous-dossiers distincts afin d'être récupérés"
   ]
  },
  {
   "cell_type": "code",
   "execution_count": null,
   "metadata": {},
   "outputs": [],
   "source": [
    "from Libraries import Preprocesssing_images_masks\n",
    "metadata=pd.read_csv('../data/processed/metadata.csv')\n",
    "\n",
    "Preprocesssing_images_masks.preprocess_images(metadata,mask_images=True)"
   ]
  },
  {
   "cell_type": "markdown",
   "metadata": {},
   "source": [
    "Ici nous donnons un exemple de contrôle visuel du redimenssionement des images"
   ]
  },
  {
   "cell_type": "code",
   "execution_count": 19,
   "metadata": {},
   "outputs": [
    {
     "name": "stdout",
     "output_type": "stream",
     "text": [
      "data\\raw\\COVID\\masks\\COVID-1.png\n"
     ]
    },
    {
     "data": {
      "image/png": "[encoded data removed]",
      "text/plain": [
       "<Figure size 1000x500 with 2 Axes>"
      ]
     },
     "metadata": {},
     "output_type": "display_data"
    }
   ],
   "source": [
    "from Libraries import get_absolute_path\n",
    "\n",
    "mask = cv2.imread(get_absolute_path.get_absolute_path(metadata.loc[0, \"MASK_URL\"]), cv2.IMREAD_GRAYSCALE)\n",
    "print(metadata.loc[0, \"MASK_URL\"])\n",
    "# Dans notre cas, la méthode d'interpolation la plus adaptée pour augmenter l'image semble être une interpolation nearest car elle ne va pas créer de\n",
    "# valeur intermédiare entre 0 et 255, ce qui pourrait introduire des biais dans le modèle en fusionant avec les images d'origine\n",
    "mask_resized = cv2.resize(mask, dsize=(299,299), interpolation=cv2.INTER_NEAREST)\n",
    "\n",
    "plt.figure(figsize=(10,5))\n",
    "plt.subplot(121)\n",
    "plt.imshow(mask, cmap='gray')\n",
    "plt.title(f\"Masque d'origine : ({mask.shape[0]}x{mask.shape[1]})px\")\n",
    "plt.xticks([])\n",
    "plt.yticks([])\n",
    "\n",
    "plt.subplot(122)\n",
    "plt.imshow(mask_resized, cmap='gray')\n",
    "plt.title(f\"Masque augmenté : ({mask_resized.shape[0]}x{mask_resized.shape[1]})px\")\n",
    "plt.xticks([])\n",
    "plt.yticks([])\n",
    "plt.show()"
   ]
  },
  {
   "cell_type": "markdown",
   "metadata": {},
   "source": [
    "# Chargement des images,Callbacks et Data Augmentation"
   ]
  },
  {
   "cell_type": "markdown",
   "metadata": {},
   "source": [
    "## *Chargement des images*\n"
   ]
  },
  {
   "cell_type": "markdown",
   "metadata": {},
   "source": [
    "Ici nous chargeons les images de nos échantillons, ces images seront:\n",
    "- labellisées sous forme d'entiers\n",
    "- chargées de manière aléatoire (Shuffle) par batch de:\n",
    "    - 32 images pour l'entraînement\n",
    "    - 64 images pour la validation\n",
    "    - 64 images pour le test\n",
    "- chargées en nuances de gris\n",
    "\n",
    "Les images sont ensuite mises en cache afin d'optimiser l'utilisation de mémoire. Finalement nous créons ici le dictionnaire \"class_weights\" qui calcul le biais à donner à l'entraînement de notre modèle, compte-tenu du déséquilibre des classes dans notre jeu de données."
   ]
  },
  {
   "cell_type": "code",
   "execution_count": null,
   "metadata": {
    "colab": {
     "base_uri": "https://localhost:8080/"
    },
    "executionInfo": {
     "elapsed": 4812,
     "status": "ok",
     "timestamp": 1738252284259,
     "user": {
      "displayName": "Antoine Carton-Leclercq",
      "userId": "16762079514641463759"
     },
     "user_tz": -60
    },
    "id": "R3ciY_-tzL1E",
    "outputId": "9ceec17c-d6f9-4d8a-a004-d91be1e6d290"
   },
   "outputs": [
    {
     "name": "stdout",
     "output_type": "stream",
     "text": [
      "Found 16932 files belonging to 4 classes.\n",
      "Found 2116 files belonging to 4 classes.\n",
      "Found 2117 files belonging to 4 classes.\n"
     ]
    }
   ],
   "source": [
    "train_folder='../data/processed/train_test_split/train'\n",
    "validation_folder='../data/processed/train_test_split/validation'\n",
    "test_folder='../data/processed/train_test_split/test'\n",
    "\n",
    "\n",
    "train_ds=image_dataset_from_directory(train_folder,\n",
    "                                    # Encodage des labels en entiers\n",
    "                                    label_mode='int',\n",
    "                                    # Chargement aléatoires des images dans les batchs\n",
    "                                    shuffle=True,\n",
    "                                    # Chargement en nuances de gris\n",
    "                                    color_mode='grayscale',\n",
    "                                    # Taille du batch\n",
    "                                    batch_size=32,\n",
    "                                    # Tailles des images\n",
    "                                    image_size=(299,299),\n",
    "                                      seed=42)\n",
    "\n",
    "val_ds=image_dataset_from_directory(validation_folder,\n",
    "                                     label_mode='int',\n",
    "                                    shuffle=True,\n",
    "                                    color_mode='grayscale',\n",
    "                                    batch_size=64,\n",
    "                                    image_size=(299,299),\n",
    "                                    seed=42)\n",
    "\n",
    "test_ds=image_dataset_from_directory(test_folder,\n",
    "                                     label_mode='int',\n",
    "                                     shuffle=True,\n",
    "                                     color_mode='grayscale',\n",
    "                                     batch_size=64,\n",
    "                                     image_size=(299,299),\n",
    "                                     seed=42)\n",
    "\n",
    "# Nombre de lot dans l'ensemble d'entraînement\n",
    "print(\"Nombre de batch dans train_ds:\", train_ds.cardinality().numpy())\n",
    "\n",
    "# Nombre de lot dans l'ensemble de test\n",
    "print(\"Nombre de batch dans val_ds:\", test_ds.cardinality().numpy())\n",
    "\n",
    "# Nombre de lot dans l'ensemble de validation\n",
    "print(\"Nombre de batch dans val_ds:\", val_ds.cardinality().numpy())\n",
    "\n",
    "import tensorflow as tf\n",
    "# Optimisation du chargement\n",
    "train_ds = train_ds.cache().prefetch(buffer_size=tf.data.AUTOTUNE)\n",
    "val_ds = val_ds.cache().prefetch(buffer_size=tf.data.AUTOTUNE)\n",
    "test_ds = test_ds.cache().prefetch(buffer_size=tf.data.AUTOTUNE)\n",
    "\n",
    "labels = np.concatenate([y for x, y in train_ds], axis=0)\n",
    "\n",
    "# Calcul des poids des classes\n",
    "class_labels = np.unique(labels)\n",
    "class_weight = compute_class_weight(class_weight='balanced', classes=class_labels, y=labels)\n",
    "class_weight_dict = dict(enumerate(class_weight))\n",
    "\n",
    "print(\"Poids des classes :\", class_weight_dict)"
   ]
  },
  {
   "cell_type": "markdown",
   "metadata": {
    "id": "5_-82PkbIprC"
   },
   "source": [
    "## *Callbacks et Data Augmentation*"
   ]
  },
  {
   "cell_type": "code",
   "execution_count": null,
   "metadata": {
    "id": "GT2DANOV3688"
   },
   "outputs": [],
   "source": [
    "\n",
    "class TimingCallback(Callback):\n",
    "    def __init__(self, logs={}):\n",
    "        self.logs=[]\n",
    "    def on_epoch_begin(self, epoch, logs={}):\n",
    "        self.starttime = timer()\n",
    "    def on_epoch_end(self, epoch, logs={}):\n",
    "        self.logs.append(timer()-self.starttime)\n",
    "\n",
    "\n",
    "# Early stopping, attente de 10 epochs ou la valeur de la fonction de perte pendant la validation ne descend pas de plus de 0.01\n",
    "# On conserve les poids de la meilleure epoch\n",
    "early_stopping = EarlyStopping(\n",
    "                                patience=20,\n",
    "                                min_delta=0.01,\n",
    "                                verbose=1,\n",
    "                                mode='min',\n",
    "                                monitor='val_loss',\n",
    "                                restore_best_weights= True)\n",
    "\n",
    "# ReduceLR de facteur 2 si la valeur de la fonction de perte ne bouge pas de au moins 0.01, on attend 4 epochs\n",
    "# avant de réitérer\n",
    "reduce_learning_rate = ReduceLROnPlateau(\n",
    "                                    monitor=\"val_loss\",\n",
    "                                    patience=3,\n",
    "                                    min_delta=0.01,\n",
    "                                    factor=0.5,\n",
    "                                    cooldown=4,\n",
    "                                    verbose=1)\n",
    "\n",
    "# Ce Callback permet la sauvegarde du modèle en conservant les poids de l'epoch durant laquelle la valeur de la fonction de perte est la plus basse\n",
    "model_path=r\"../models/AC/model_DL_Convol.keras\"\n",
    "\n",
    "model_checkpoint = tf.keras.callbacks.ModelCheckpoint(filepath=model_path,\n",
    "                                                      monitor='val_loss',\n",
    "                                                      verbose=0,\n",
    "                                                      save_best_only=True,\n",
    "                                                      mode='min')\n",
    "\n",
    "time_callback = TimingCallback()\n",
    "\n",
    "\n",
    "\n",
    "# Data augmentation\n",
    "data_augmentation = tf.keras.Sequential([\n",
    "    # Faire pivoter aléatoirement l'image\n",
    "    RandomFlip(\"horizontal\"),\n",
    "    # Appliquer une rotation aléatoire à l'image en remplissant les espaces laissés par des pixels noirs\n",
    "    RandomRotation(0.1,fill_mode='constant', fill_value= 0),\n",
    "    # Appliquer un zoom/dézoom aléatoire à l'image en remplissant les espaces laissés par des pixels noirs\n",
    "    RandomZoom(0.2,fill_mode='constant',fill_value=0),\n",
    "    # Modifier aléatoirement la luminosité des images\n",
    "    RandomBrightness(0.2),\n",
    "    # Translater les images dans toutes les directions en remplissant les espaces laissés par des pixels noirs\n",
    "    RandomTranslation(0.2, 0.2, fill_mode='constant', fill_value=0),\n",
    "])\n",
    "\n"
   ]
  },
  {
   "cell_type": "markdown",
   "metadata": {
    "id": "4xyaSrJqV-Ca"
   },
   "source": [
    "Dans cette cellule, on affiche des images aléatoires ayant subi les augmentations détaillées dans la cellule précédentes."
   ]
  },
  {
   "cell_type": "code",
   "execution_count": null,
   "metadata": {
    "colab": {
     "base_uri": "https://localhost:8080/",
     "height": 192
    },
    "executionInfo": {
     "elapsed": 1208,
     "status": "ok",
     "timestamp": 1738218531326,
     "user": {
      "displayName": "Antoine Carton-Leclercq",
      "userId": "16762079514641463759"
     },
     "user_tz": -60
    },
    "id": "WkzzJOHUTbe_",
    "outputId": "b975908c-58ed-4c89-e731-80be4ec3781d"
   },
   "outputs": [
    {
     "data": {
      "image/png": "[encoded data removed]",
      "text/plain": [
       "<Figure size 1000x1000 with 5 Axes>"
      ]
     },
     "metadata": {},
     "output_type": "display_data"
    }
   ],
   "source": [
    "import matplotlib.pyplot as plt\n",
    "import numpy as np\n",
    "\n",
    "# Fonction pour afficher des images avec augmentation\n",
    "def plot_random_augmentations(dataset, augmenter, num_images=5):\n",
    "    plt.figure(figsize=(10, 10))\n",
    "\n",
    "    for i, (image, label) in enumerate(dataset.take(num_images)):  # Prendre un échantillon aléatoire\n",
    "        augmented_image = augmenter(image)  # Appliquer l'augmentation\n",
    "\n",
    "        ax = plt.subplot(1, num_images, i + 1)\n",
    "        plt.imshow(augmented_image[0].numpy().squeeze(), cmap='gray')\n",
    "        plt.title(f\"Label: {label.numpy()[0]}\")\n",
    "        plt.axis(\"off\")\n",
    "    plt.savefig('../data/processed/Figures/Data_Augmentation.png')\n",
    "    plt.show()\n",
    "\n",
    "# Afficher quelques exemples d'images augmentées\n",
    "plot_random_augmentations(train_ds, data_augmentation)\n",
    "\n"
   ]
  },
  {
   "cell_type": "markdown",
   "metadata": {},
   "source": [
    "# Deep Learning"
   ]
  },
  {
   "cell_type": "markdown",
   "metadata": {},
   "source": [
    "## *Modèle convolutif 1*"
   ]
  },
  {
   "cell_type": "markdown",
   "metadata": {},
   "source": [
    "Nous avons mis en place un premier modèle convolutif assez simple afin d'étudier les résultats sur notre jeu de données. Celui-ci se compose:\n",
    "- 4 couches convolutives aux nombre de filtres décroissant (256 -> 32)\n",
    "- Chaque couche de convolution est suvie d'une couche de pooling avec un kernel de (5,5) puis de (3,3).\n",
    "- 2 couches de dropout afin de limiter les problèmes d'overfitting\n",
    "- Une couche d'aplatissement pour passer aux couches denses\n",
    "- 2 couches denses au nombre de neurones décroissant (32,4), la dernière couche donnant le nombre de classes en sortie du modèle.\n",
    "\n",
    "Nous utilisons pour ce modèle un optimisateur Adam avec un taux d'apprentissage de départ de 0.001. Nous avons choisi de compiler le modèle avec une fonction de perte sparse_crossentropy idéale pour la classification multi-classes avec des labels de classe encodés en entiers. Finalement nous avons choisi la métrique 'accuracy' bien adaptée à l'éavaluation des performances d'une modèle de classification. "
   ]
  },
  {
   "cell_type": "code",
   "execution_count": null,
   "metadata": {
    "colab": {
     "base_uri": "https://localhost:8080/",
     "height": 638
    },
    "executionInfo": {
     "elapsed": 678,
     "status": "ok",
     "timestamp": 1738222492419,
     "user": {
      "displayName": "Antoine Carton-Leclercq",
      "userId": "16762079514641463759"
     },
     "user_tz": -60
    },
    "id": "itKR2VfBAm_L",
    "outputId": "8f25ab83-3867-4580-de06-d560d980ea73"
   },
   "outputs": [],
   "source": [
    "\n",
    "\n",
    "inputs = tf.keras.Input(shape=(299, 299, 1))\n",
    "x = data_augmentation(inputs)\n",
    "x = layers.Rescaling(1./255)(inputs)\n",
    "x = layers.Conv2D(256, (5,5), padding='same', activation='relu')(x)\n",
    "x = layers.MaxPooling2D(pool_size=(2,2))(x)\n",
    "x = layers.Conv2D(128, (5,5), padding='same', activation='relu')(x)\n",
    "x = layers.MaxPooling2D(pool_size=(2,2))(x)\n",
    "x = layers.Conv2D(64, (3,3), padding='same', activation='relu')(x)\n",
    "x = layers.MaxPooling2D(pool_size=(2,2))(x)\n",
    "x = layers.Conv2D(32, (3,3), padding='same', activation='relu')(x)\n",
    "x = layers.MaxPooling2D(pool_size=(2,2))(x)\n",
    "x = layers.Dropout(0.4)(x)\n",
    "x = layers.Flatten()(x)\n",
    "x = layers.Dense(32, activation='relu')(x)\n",
    "x = layers.Dropout(0.1)(x)\n",
    "outputs = layers.Dense(4, activation='softmax')(x)\n",
    "\n",
    "model = tf.keras.Model(inputs=inputs, outputs=outputs)\n",
    "\n",
    "optimizer = tf.keras.optimizers.Adam(learning_rate=0.001)\n",
    "\n",
    "model.compile(optimizer=optimizer,\n",
    "                loss=\"sparse_categorical_crossentropy\",\n",
    "                metrics=['accuracy'])\n",
    "model.summary()\n"
   ]
  },
  {
   "cell_type": "markdown",
   "metadata": {},
   "source": [
    "Ici nous entraînons le modèle précédemment compilé sur nos données d'entraînement en gardant un échantillon de validation.\n",
    "L'entraînement se fait sur 50 epochs avec tous les callbacks définis et une augmentation des données. Il est également efefctué avec le biais des poids relatifs des différentes classes."
   ]
  },
  {
   "cell_type": "code",
   "execution_count": null,
   "metadata": {
    "colab": {
     "base_uri": "https://localhost:8080/"
    },
    "executionInfo": {
     "elapsed": 607749,
     "status": "ok",
     "timestamp": 1738223136577,
     "user": {
      "displayName": "Antoine Carton-Leclercq",
      "userId": "16762079514641463759"
     },
     "user_tz": -60
    },
    "id": "6zWvCG875pGV",
    "outputId": "587ad68f-1af2-49c9-972f-56c0abfde768"
   },
   "outputs": [],
   "source": [
    "\n",
    "# Entrainement du modèle\n",
    "model_history = model.fit(\n",
    "      train_ds,\n",
    "      validation_data=val_ds,\n",
    "      epochs=50,\n",
    "      callbacks=[reduce_learning_rate, early_stopping, model_checkpoint],\n",
    "      class_weight=class_weight_dict\n",
    "  )\n",
    "\n",
    "\n",
    "# Stocker les valeurs des fonctions de pertes et de l'accuracy durant chaque epoch de l'entraînement\n",
    "train_loss = model_history.history[\"loss\"]\n",
    "val_loss = model_history.history[\"val_loss\"]\n",
    "# Stocker les résultats de la meilleure epoch conservée par notre callback\n",
    "best_epoch_loss=(val_loss.index(min(val_loss)),min(val_loss))\n",
    "\n",
    "train_accuracy = model_history.history[\"accuracy\"]\n",
    "val_accuracy = model_history.history[\"val_accuracy\"]\n",
    "best_epoch_acc=(val_accuracy.index(min(val_accuracy)),min(val_accuracy))\n",
    "\n"
   ]
  },
  {
   "cell_type": "markdown",
   "metadata": {
    "id": "HDRmm1M8IzRp"
   },
   "source": [
    "Dans cette cellule nous représentons graphiquement les performances du modèle durant son entraînement en spécifiant quelle epoch a été sélectionnée par notre callback"
   ]
  },
  {
   "cell_type": "code",
   "execution_count": null,
   "metadata": {
    "colab": {
     "base_uri": "https://localhost:8080/",
     "height": 721
    },
    "executionInfo": {
     "elapsed": 814,
     "status": "ok",
     "timestamp": 1738223150897,
     "user": {
      "displayName": "Antoine Carton-Leclercq",
      "userId": "16762079514641463759"
     },
     "user_tz": -60
    },
    "id": "jabLIDRvlbtX",
    "outputId": "e14d6093-203f-4c63-99ed-657361efe8a5"
   },
   "outputs": [],
   "source": [
    "plt.figure(figsize=(20, 8))\n",
    "\n",
    "# Tracer la sparse cross-entropy\n",
    "plt.subplot(121)\n",
    "plt.plot(train_loss)\n",
    "plt.plot(val_loss)\n",
    "plt.scatter(best_epoch_loss[0],best_epoch_loss[1],s=10)\n",
    "plt.title('Perte du modèle par époque (cross-entropy)')\n",
    "plt.ylabel('Perte (sparse_crossentropy)')\n",
    "plt.xlabel('Époque')\n",
    "plt.legend(['Entraînement', 'Validation','Best epoch'], loc='best')\n",
    "\n",
    "# Tracer l'accuracy\n",
    "plt.subplot(122)\n",
    "plt.plot(train_accuracy)\n",
    "plt.plot(val_accuracy)\n",
    "plt.scatter(best_epoch_acc[0],best_epoch_acc[1],s=10)\n",
    "plt.title('Accuracy par époque')\n",
    "plt.ylabel('Accuracy')\n",
    "plt.xlabel('Époque')\n",
    "plt.legend(['Entraînement', 'Validation', 'Best epoch'], loc='best')\n",
    "\n",
    "plt.savefig('../reports/figures/Loss_Accuracy_DL_Convol_1.png')\n",
    "plt.show()\n"
   ]
  },
  {
   "cell_type": "markdown",
   "metadata": {},
   "source": [
    "Dans cette cellule nous détaillons le rapport de classification de notre modèle entraîné sur l'échantillon de test et affichons la matrice du confusion de cette classification. Les deux éléments sont alors sauvegardés dans le dossier reports."
   ]
  },
  {
   "cell_type": "code",
   "execution_count": null,
   "metadata": {
    "colab": {
     "base_uri": "https://localhost:8080/",
     "height": 845
    },
    "executionInfo": {
     "elapsed": 37463,
     "status": "ok",
     "timestamp": 1738227343702,
     "user": {
      "displayName": "Antoine Carton-Leclercq",
      "userId": "16762079514641463759"
     },
     "user_tz": -60
    },
    "id": "36pqJoM34J9h",
    "outputId": "aac7dba8-2603-41e3-a0db-195296240acf"
   },
   "outputs": [],
   "source": [
    "from sklearn.metrics import classification_report\n",
    "import numpy as np\n",
    "from sklearn.metrics import confusion_matrix\n",
    "import seaborn as sn\n",
    "import pandas as pd\n",
    "\n",
    "test_pred_model = model.predict(test_ds)\n",
    "test_pred_class = test_pred_model.argmax(axis=1)\n",
    "y_test_class = np.concatenate([y for x, y in test_ds], axis=0)\n",
    "print(classification_report(y_test_class, test_pred_class))\n",
    "dict_classif=classification_report(y_test_class, test_pred_class)\n",
    "np.save('../reports/Classification_report_DL_Convol_1.txt', dict_classif)\n",
    "\n",
    "data = confusion_matrix(y_test_class, test_pred_class)\n",
    "df_cm = pd.DataFrame(data, columns=np.unique(y_test_class), index = np.unique(y_test_class))\n",
    "df_cm.index.name = 'Actual'\n",
    "df_cm.columns.name = 'Predicted'\n",
    "plt.figure(figsize = (10,7))\n",
    "sn.set(font_scale=1.4)#for label size\n",
    "sn.heatmap(df_cm, cmap=\"Blues\", annot=True,annot_kws={\"size\": 10},fmt='g')# font size\n",
    "plt.savefig('../reports/Figures/Confusion_matrix__DL_Convol_1.png')"
   ]
  },
  {
   "cell_type": "markdown",
   "metadata": {
    "id": "UAwpytrSJFXk"
   },
   "source": [
    "Dans cette cellule on plot des exemples de classification ratées et/ou réussies par notre modèles à l'aide d'une fonction custom."
   ]
  },
  {
   "cell_type": "code",
   "execution_count": null,
   "metadata": {
    "colab": {
     "base_uri": "https://localhost:8080/",
     "height": 572
    },
    "executionInfo": {
     "elapsed": 1048,
     "status": "ok",
     "timestamp": 1738227730795,
     "user": {
      "displayName": "Antoine Carton-Leclercq",
      "userId": "16762079514641463759"
     },
     "user_tz": -60
    },
    "id": "IPIVqZge4_8U",
    "outputId": "e4148924-cdb8-48bf-8c4b-f06fa1c6620f"
   },
   "outputs": [],
   "source": [
    "from Libraries import Plot_decisions_classif\n",
    "\n",
    "Plot_decisions_classif.plot_classification_results(model,test_ds,plot_errors=True,num_samples=3)\n",
    "plt.savefig('../reports/figures/False_predictions_CNN1.png')\n",
    "\n",
    "Plot_decisions_classif.plot_classification_results(model,test_ds,plot_errors=False,num_samples=3)\n",
    "plt.savefig('../reports/figures/True_predictions_CNN1.png')\n"
   ]
  },
  {
   "cell_type": "markdown",
   "metadata": {
    "id": "RhRYTBxIXgc-"
   },
   "source": [
    "## *Modèle convolutif 2*"
   ]
  },
  {
   "cell_type": "markdown",
   "metadata": {
    "id": "dXm0_EnAXkJI"
   },
   "source": [
    "Dans notre premier modèle nous avions 4 couches de convolutions aux filtres décroissants et 2 couches denses au nombre de neurones décroissants. Maintenant, nous allons essayer un nouveau modèle plus complexe"
   ]
  },
  {
   "cell_type": "markdown",
   "metadata": {
    "id": "aoDcKcvNYQlt"
   },
   "source": [
    "Mise en place du nouveau modèle, le nombre de filtres des couches convolutives augmente (32,64,128,256,512) et celui des couches denses diminue. On a ajouté une couche de convolution par rapport au modèle précédent. Nous avons également allégé le dropout afin de conserver le plus de données."
   ]
  },
  {
   "cell_type": "code",
   "execution_count": null,
   "metadata": {
    "colab": {
     "base_uri": "https://localhost:8080/",
     "height": 705
    },
    "executionInfo": {
     "elapsed": 1791,
     "status": "ok",
     "timestamp": 1738231363371,
     "user": {
      "displayName": "Antoine Carton-Leclercq",
      "userId": "16762079514641463759"
     },
     "user_tz": -60
    },
    "id": "vtyv-WxIXjXY",
    "outputId": "a358d821-10ef-48db-ff16-65230e085a28"
   },
   "outputs": [],
   "source": [
    "\n",
    "inputs = tf.keras.Input(shape=(299, 299, 1))\n",
    "x = data_augmentation(inputs)\n",
    "x = layers.Rescaling(1./255)(inputs)\n",
    "x = layers.Conv2D(32, (5,5), padding='same', activation='relu')(x)\n",
    "x = layers.MaxPooling2D(pool_size=(2,2))(x)\n",
    "x = layers.Conv2D(64, (5,5), padding='same', activation='relu')(x)\n",
    "x = layers.MaxPooling2D(pool_size=(2,2))(x)\n",
    "x = layers.Conv2D(128, (5,5), padding='same', activation='relu')(x)\n",
    "x = layers.MaxPooling2D(pool_size=(2,2))(x)\n",
    "x = layers.Conv2D(256, (3,3), padding='same', activation='relu')(x)\n",
    "x = layers.MaxPooling2D(pool_size=(2,2))(x)\n",
    "x = layers.Conv2D(512, (3,3), padding='same', activation='relu')(x)\n",
    "x = layers.MaxPooling2D(pool_size=(2,2))(x)\n",
    "x = layers.Dropout(0.3)(x)\n",
    "x = layers.Flatten()(x)\n",
    "# Pas besoin de 256 neurones, il faut descendre entre convol et dense\n",
    "x = layers.Dense(32, activation='relu')(x)\n",
    "x = layers.Dropout(0.2)(x)\n",
    "outputs = layers.Dense(4, activation='softmax')(x)\n",
    "\n",
    "model = tf.keras.Model(inputs=inputs, outputs=outputs)\n",
    "\n",
    "optimizer = tf.keras.optimizers.Adam(learning_rate=0.001)\n",
    "\n",
    "model.compile(optimizer=optimizer,\n",
    "                loss=\"sparse_categorical_crossentropy\",\n",
    "                metrics=['accuracy'])\n",
    "model.summary()"
   ]
  },
  {
   "cell_type": "markdown",
   "metadata": {},
   "source": [
    "Entraînement du modèle"
   ]
  },
  {
   "cell_type": "code",
   "execution_count": null,
   "metadata": {
    "colab": {
     "base_uri": "https://localhost:8080/"
    },
    "executionInfo": {
     "elapsed": 457675,
     "status": "ok",
     "timestamp": 1738231881014,
     "user": {
      "displayName": "Antoine Carton-Leclercq",
      "userId": "16762079514641463759"
     },
     "user_tz": -60
    },
    "id": "33rz8nIxlABV",
    "outputId": "39f85ddd-dd17-43db-bb97-302f6d481876"
   },
   "outputs": [],
   "source": [
    "# Ce Callback permet la sauvegarde du modèle en conservant les poids de l'epoch durant laquelle la valeur de la fonction de perte est la plus basse\n",
    "# Il est important de le redéfinir lorsque l'on change de modèle\n",
    "model_path=r\"../models/AC/model_DL_Convol2.keras\"\n",
    "\n",
    "model_checkpoint = tf.keras.callbacks.ModelCheckpoint(filepath=model_path,\n",
    "                                                      monitor='val_loss',\n",
    "                                                      verbose=0,\n",
    "                                                      save_best_only=True,\n",
    "                                                      mode='min')\n",
    "\n",
    "\n",
    "model_history = model.fit(\n",
    "    train_ds,\n",
    "    validation_data=val_ds,\n",
    "    epochs=50,\n",
    "    callbacks=[reduce_learning_rate, early_stopping, model_checkpoint],\n",
    "    class_weight=class_weight_dict\n",
    ")\n",
    "\n",
    "\n",
    "# Stocker les valeurs des fonctions de pertes et de l'accuracy durant chaque epoch de l'entraînement\n",
    "train_loss = model_history.history[\"loss\"]\n",
    "val_loss = model_history.history[\"val_loss\"]\n",
    "# Stocker les résultats de la meilleure epoch conservée par notre callback\n",
    "best_epoch_loss=(val_loss.index(min(val_loss)),min(val_loss))\n",
    "\n",
    "train_accuracy = model_history.history[\"accuracy\"]\n",
    "val_accuracy = model_history.history[\"val_accuracy\"]\n",
    "best_epoch_acc=(val_accuracy.index(min(val_accuracy)),min(val_accuracy))\n"
   ]
  },
  {
   "cell_type": "markdown",
   "metadata": {},
   "source": [
    "Plot de l'entraînement du modèle"
   ]
  },
  {
   "cell_type": "code",
   "execution_count": null,
   "metadata": {
    "colab": {
     "base_uri": "https://localhost:8080/",
     "height": 512
    },
    "executionInfo": {
     "elapsed": 1010,
     "status": "ok",
     "timestamp": 1738232150787,
     "user": {
      "displayName": "Antoine Carton-Leclercq",
      "userId": "16762079514641463759"
     },
     "user_tz": -60
    },
    "id": "WxQWSqyjY5vg",
    "outputId": "6b4c6427-9755-4a18-dc45-2bc4ef010826"
   },
   "outputs": [],
   "source": [
    "plt.figure(figsize=(20, 8))\n",
    "\n",
    "# Tracer la sparse cross-entropy\n",
    "plt.subplot(121)\n",
    "plt.plot(train_loss)\n",
    "plt.plot(val_loss)\n",
    "plt.scatter(best_epoch_loss[0],best_epoch_loss[1],s=10)\n",
    "plt.title('Perte du modèle par époque (cross-entropy)')\n",
    "plt.ylabel('Perte (sparse_crossentropy)')\n",
    "plt.xlabel('Époque')\n",
    "plt.legend(['Entraînement', 'Validation','Best epoch'], loc='best')\n",
    "\n",
    "# Tracer l'accuracy\n",
    "plt.subplot(122)\n",
    "plt.plot(train_accuracy)\n",
    "plt.plot(val_accuracy)\n",
    "plt.scatter(best_epoch_acc[0],best_epoch_acc[1],s=10)\n",
    "plt.title('Accuracy par époque')\n",
    "plt.ylabel('Accuracy')\n",
    "plt.xlabel('Époque')\n",
    "plt.legend(['Entraînement', 'Validation', 'Best epoch'], loc='best')\n",
    "\n",
    "plt.savefig('../reports/figures/Loss_Accuracy_DL_Convol_2.png')\n",
    "\n",
    "plt.show()\n",
    "\n"
   ]
  },
  {
   "cell_type": "markdown",
   "metadata": {},
   "source": [
    "Rapport de classification et matrice de confusion"
   ]
  },
  {
   "cell_type": "code",
   "execution_count": null,
   "metadata": {
    "colab": {
     "base_uri": "https://localhost:8080/",
     "height": 845
    },
    "executionInfo": {
     "elapsed": 21872,
     "status": "ok",
     "timestamp": 1738232535370,
     "user": {
      "displayName": "Antoine Carton-Leclercq",
      "userId": "16762079514641463759"
     },
     "user_tz": -60
    },
    "id": "5swHpOMisLls",
    "outputId": "57ad8ea3-2cb8-4d8f-ca05-20a427c34e76"
   },
   "outputs": [],
   "source": [
    "from sklearn.metrics import classification_report\n",
    "import numpy as np\n",
    "from sklearn.metrics import confusion_matrix\n",
    "import seaborn as sn\n",
    "import pandas as pd\n",
    "\n",
    "test_pred_model = model.predict(test_ds)\n",
    "test_pred_class = test_pred_model.argmax(axis=1)\n",
    "y_test_class = np.concatenate([y for x, y in test_ds], axis=0)\n",
    "print(classification_report(y_test_class, test_pred_class))\n",
    "dict_classif=classification_report(y_test_class, test_pred_class)\n",
    "np.save('../reports/Classification_report_DL_Convol_2', dict_classif)\n",
    "\n",
    "data = confusion_matrix(y_test_class, test_pred_class)\n",
    "df_cm = pd.DataFrame(data, columns=np.unique(y_test_class), index = np.unique(y_test_class))\n",
    "df_cm.index.name = 'Actual'\n",
    "df_cm.columns.name = 'Predicted'\n",
    "plt.figure(figsize = (10,7))\n",
    "sn.set(font_scale=1.4)#for label size\n",
    "sn.heatmap(df_cm, cmap=\"Blues\", annot=True,annot_kws={\"size\": 10},fmt='g')# font size\n",
    "plt.savefig('../reports/figures/Confusion_matrix__DL_Convol_2.png')"
   ]
  },
  {
   "cell_type": "markdown",
   "metadata": {
    "id": "ol4QmGJQGKpC"
   },
   "source": [
    "Représentation d'exemples de classification par le modèle."
   ]
  },
  {
   "cell_type": "code",
   "execution_count": null,
   "metadata": {},
   "outputs": [],
   "source": [
    "from Libraries import Plot_decisions_classif\n",
    "\n",
    "Plot_decisions_classif.plot_classification_results(model,test_ds,plot_errors=True,num_samples=3)\n",
    "plt.savefig('../reports/figures/False_predictions_CNN2.png')\n",
    "\n",
    "Plot_decisions_classif.plot_classification_results(model,test_ds,plot_errors=False,num_samples=3)\n",
    "plt.savefig('../reports/figures/True_predictions_CNN2.png')"
   ]
  },
  {
   "cell_type": "markdown",
   "metadata": {},
   "source": [
    "# Transfer Learning"
   ]
  },
  {
   "cell_type": "markdown",
   "metadata": {
    "id": "mBn4IonaTA2_"
   },
   "source": [
    "## *Transfer learning avec InceptionV3 sans augmentation de données*"
   ]
  },
  {
   "cell_type": "markdown",
   "metadata": {
    "id": "YPwq-NgQdF9d"
   },
   "source": [
    "Nous avons décidé d'utiliser InceptionV3 dans cette aprtie car ce modèle convolutif entraîne sur ImageNet a fait ses preuves dans les tâches de classifications multi-classes. En particulier, il a été utilisé dans l'imagerie scientifique et médicale afin de classififier des images issues des IRMs ou des microscopes.\n",
    "\n",
    "Le modèle InceptionV3 nécessite cependant un pré-traitement des images. Celles-ci doivent-être de 299 x 299 pixels, sous le format RGB et la valeur de leurs pixels doit être comprise entre -1 et 1. Nous passons donc dans la cellule suivante au pré-traitement de nos images."
   ]
  },
  {
   "cell_type": "code",
   "execution_count": null,
   "metadata": {
    "id": "oVIZn_o-dA4m"
   },
   "outputs": [],
   "source": [
    "import numpy as np\n",
    "from tensorflow.keras.applications.inception_v3 import preprocess_input\n",
    "import tensorflow as tf\n",
    "\n",
    "# Convertir 1 canal en 3 canaux\n",
    "def convert_to_rgb(image, label):\n",
    "    image = tf.image.grayscale_to_rgb(image)\n",
    "    return image, label\n",
    "\n",
    "train_ds = train_ds.map(convert_to_rgb)\n",
    "val_ds = val_ds.map(convert_to_rgb)\n",
    "test_ds = test_ds.map(convert_to_rgb)\n",
    "\n",
    "# Normalisation des valeurs de pixel entre -1 et 1\n",
    "def preprocess(image, label):\n",
    "    image = preprocess_input(image)  # Normalisation [-1, 1]\n",
    "    return image, label\n",
    "\n",
    "train_ds = train_ds.map(preprocess)\n",
    "val_ds = val_ds.map(preprocess)\n",
    "test_ds = test_ds.map(preprocess)"
   ]
  },
  {
   "cell_type": "markdown",
   "metadata": {},
   "source": [
    "Dans cette cellule nous mettons en place la strcuture du modèle. Dans un premier temps, nous compilons le modèle sans couche de données augmentées et nous gardons le modèle InceptionV3 tel quel, c'est à dire entraîné sur ImageNet en gelant toutes ses couches.\n",
    "\n",
    "Nous ajoutons simplement des couches denses au nombre de neurones décroissants (256,128,32,16,4) et des couches de dropout de plus en plus restrictives."
   ]
  },
  {
   "cell_type": "code",
   "execution_count": null,
   "metadata": {
    "colab": {
     "base_uri": "https://localhost:8080/",
     "height": 1000
    },
    "executionInfo": {
     "elapsed": 4463,
     "status": "ok",
     "timestamp": 1738234344241,
     "user": {
      "displayName": "Antoine Carton-Leclercq",
      "userId": "16762079514641463759"
     },
     "user_tz": -60
    },
    "id": "3wC6M4odsT79",
    "outputId": "2c73e2f8-c597-4273-8304-2698c84d49ee"
   },
   "outputs": [],
   "source": [
    "from tensorflow.keras.applications import InceptionV3\n",
    "from tensorflow.keras import layers, models\n",
    "from tensorflow.keras.layers import GlobalAveragePooling2D, Dense, Dropout, Flatten\n",
    "\n",
    "num_classes=4\n",
    "# Importation du modèle InceptionV3 pré-entraîné\n",
    "base_model = InceptionV3(weights='imagenet', include_top=False, input_shape=(299, 299, 3))\n",
    "# Gel de toutes ses couches\n",
    "base_model.trainable = False\n",
    "\n",
    "x= base_model.output\n",
    "x= GlobalAveragePooling2D()(x)\n",
    "x=Dense(256, activation='relu')(x)\n",
    "x=Dropout(0.1)(x)\n",
    "x=Dense(128, activation='relu')(x)\n",
    "x=Dense(32, activation='relu')(x)\n",
    "x=Dropout(0.2)(x)\n",
    "x=Dense(16, activation='relu')(x)\n",
    "x=Dropout(0.5)(x)\n",
    "outputs = layers.Dense(num_classes, activation='softmax')(x)\n",
    "\n",
    "model = tf.keras.Model(inputs=base_model.input, outputs=outputs)\n",
    "\n",
    "\n",
    "\n",
    "\n",
    "\n",
    "\n",
    "optimizer = tf.keras.optimizers.Adam(learning_rate=0.001)\n",
    "\n",
    "model.compile(optimizer=optimizer,\n",
    "                loss=\"sparse_categorical_crossentropy\",\n",
    "                metrics=['accuracy'])\n",
    "\n",
    "model.summary()"
   ]
  },
  {
   "cell_type": "markdown",
   "metadata": {
    "id": "E7bYZJcwaIYD"
   },
   "source": [
    "Dans cette cellule nous entraînons le modèle avec nos callbacks habituels, le biais de déséquilibre et le même nombre d'epochs."
   ]
  },
  {
   "cell_type": "code",
   "execution_count": null,
   "metadata": {
    "colab": {
     "base_uri": "https://localhost:8080/"
    },
    "executionInfo": {
     "elapsed": 3313124,
     "status": "ok",
     "timestamp": 1738237729775,
     "user": {
      "displayName": "Antoine Carton-Leclercq",
      "userId": "16762079514641463759"
     },
     "user_tz": -60
    },
    "id": "DNA4D4v3YDUX",
    "outputId": "78e52bd5-cbec-4fdd-d04c-b0f135daee0f"
   },
   "outputs": [],
   "source": [
    "# Ce Callback permet la sauvegarde du modèle en conservant les poids de l'epoch durant laquelle la valeur de la fonction de perte est la plus basse\n",
    "model_path=r\"../models/AC/model_TL_InceptionV3_1.keras\"\n",
    "\n",
    "model_checkpoint = tf.keras.callbacks.ModelCheckpoint(filepath=model_path,\n",
    "                                                      monitor='val_loss',\n",
    "                                                      verbose=0,\n",
    "                                                      save_best_only=True,\n",
    "                                                      mode='min')\n",
    "\n",
    "\n",
    "model_history = model.fit(\n",
    "      train_ds,\n",
    "      validation_data=val_ds,\n",
    "      epochs=50,\n",
    "      callbacks=[reduce_learning_rate, early_stopping, model_checkpoint],\n",
    "      class_weight=class_weight_dict\n",
    "  )"
   ]
  },
  {
   "cell_type": "markdown",
   "metadata": {
    "id": "0LgAS-cpI_hv"
   },
   "source": [
    "Dans cette cellule nous affichons le rapport de classification ainsi que la matrice de confusion de notre modèle."
   ]
  },
  {
   "cell_type": "code",
   "execution_count": null,
   "metadata": {
    "colab": {
     "base_uri": "https://localhost:8080/",
     "height": 845
    },
    "executionInfo": {
     "elapsed": 49781,
     "status": "ok",
     "timestamp": 1738239298771,
     "user": {
      "displayName": "Antoine Carton-Leclercq",
      "userId": "16762079514641463759"
     },
     "user_tz": -60
    },
    "id": "tDmYlKueZ_aq",
    "outputId": "14bbc159-0b45-4f64-d7f7-d4af3bdb775e"
   },
   "outputs": [],
   "source": [
    "from sklearn.metrics import classification_report\n",
    "import numpy as np\n",
    "from sklearn.metrics import confusion_matrix\n",
    "import seaborn as sn\n",
    "import pandas as pd\n",
    "\n",
    "test_pred_model = model.predict(test_ds)\n",
    "test_pred_class = test_pred_model.argmax(axis=1)\n",
    "y_test_class = np.concatenate([y for x, y in test_ds], axis=0)\n",
    "print(classification_report(y_test_class, test_pred_class))\n",
    "dict_classif=classification_report(y_test_class, test_pred_class)\n",
    "np.save('../reports/Classification_report_TL_InceptionV3_1', dict_classif)\n",
    "\n",
    "data = confusion_matrix(y_test_class, test_pred_class)\n",
    "df_cm = pd.DataFrame(data, columns=np.unique(y_test_class), index = np.unique(y_test_class))\n",
    "df_cm.index.name = 'Actual'\n",
    "df_cm.columns.name = 'Predicted'\n",
    "plt.figure(figsize = (10,7))\n",
    "sn.set(font_scale=1.4)#for label size\n",
    "sn.heatmap(df_cm, cmap=\"Blues\", annot=True,annot_kws={\"size\": 10},fmt='g')# font size\n",
    "plt.savefig('../reports/figures/Confusion_matrix__TL_InceptionV3_1.png')"
   ]
  },
  {
   "cell_type": "markdown",
   "metadata": {
    "id": "d5qloNMFKXOW"
   },
   "source": [
    "On voit ici que notre modèle de transfer learning InceptionV3  sans data augmentation nous donne des résultats moins bons que ceux obtenus avec un CNN classique."
   ]
  },
  {
   "cell_type": "markdown",
   "metadata": {},
   "source": [
    "## *InceptionV3 Avec Data Augmentation*"
   ]
  },
  {
   "cell_type": "markdown",
   "metadata": {
    "id": "ZK9ac3tuKhwZ"
   },
   "source": [
    "Ici on reprend le même modèle que précédemment, on y introduit cependant une couche de data augmentation en amont de InceptionV3."
   ]
  },
  {
   "cell_type": "code",
   "execution_count": null,
   "metadata": {
    "colab": {
     "base_uri": "https://localhost:8080/",
     "height": 1000
    },
    "collapsed": true,
    "executionInfo": {
     "elapsed": 2648,
     "status": "ok",
     "timestamp": 1738239598586,
     "user": {
      "displayName": "Antoine Carton-Leclercq",
      "userId": "16762079514641463759"
     },
     "user_tz": -60
    },
    "id": "magyVoOiJ7w0",
    "outputId": "6ce0629b-6f1b-4b65-d0cc-eeb4fee74b37"
   },
   "outputs": [],
   "source": [
    "\n",
    "from tensorflow.keras.applications import InceptionV3\n",
    "from tensorflow.keras import layers, models\n",
    "from tensorflow.keras.layers import GlobalAveragePooling2D, Dense, Dropout, Flatten\n",
    "\n",
    "num_classes=4\n",
    "base_model = InceptionV3(weights='imagenet', include_top=False, input_shape=(299, 299, 3))\n",
    "base_model.trainable = False\n",
    "\n",
    "\n",
    "x=base_model.input\n",
    "x=data_augmentation(x)\n",
    "x= base_model.output\n",
    "x= GlobalAveragePooling2D()(x)\n",
    "x=Dense(256, activation='relu')(x)\n",
    "x=Dropout(0.1)(x)\n",
    "x=Dense(128, activation='relu')(x)\n",
    "x=Dense(32, activation='relu')(x)\n",
    "x=Dropout(0.2)(x)\n",
    "x=Dense(16, activation='relu')(x)\n",
    "x=Dropout(0.5)(x)\n",
    "outputs = layers.Dense(num_classes, activation='softmax')(x)\n",
    "\n",
    "model = tf.keras.Model(inputs=base_model.input, outputs=outputs)\n",
    "\n",
    "optimizer = tf.keras.optimizers.Adam(learning_rate=0.001)\n",
    "\n",
    "model.compile(optimizer=optimizer,\n",
    "                loss=\"sparse_categorical_crossentropy\",\n",
    "                metrics=['accuracy'])\n",
    "\n",
    "model.summary()"
   ]
  },
  {
   "cell_type": "markdown",
   "metadata": {
    "id": "eetqO5xxbh56"
   },
   "source": [
    "Entraîner le modèle avec data augmentation"
   ]
  },
  {
   "cell_type": "code",
   "execution_count": null,
   "metadata": {
    "colab": {
     "base_uri": "https://localhost:8080/"
    },
    "executionInfo": {
     "elapsed": 2020354,
     "status": "ok",
     "timestamp": 1738241627182,
     "user": {
      "displayName": "Antoine Carton-Leclercq",
      "userId": "16762079514641463759"
     },
     "user_tz": -60
    },
    "id": "AXq1j3bqbYv8",
    "outputId": "80ff46c9-8388-4fca-d486-a21d5922ed13"
   },
   "outputs": [],
   "source": [
    "model_path=r\"../models/AC/model_TL_InceptionV3_AUGMENTED.keras\"\n",
    "\n",
    "model_checkpoint = tf.keras.callbacks.ModelCheckpoint(filepath=model_path,\n",
    "                                                      monitor='val_loss',\n",
    "                                                      verbose=0,\n",
    "                                                      save_best_only=True,\n",
    "                                                      mode='min')\n",
    "\n",
    "model_history = model.fit(\n",
    "      train_ds,\n",
    "      validation_data=val_ds,\n",
    "      epochs=50,\n",
    "      callbacks=[reduce_learning_rate, early_stopping, model_checkpoint],\n",
    "      class_weight=class_weight_dict\n",
    "  )"
   ]
  },
  {
   "cell_type": "code",
   "execution_count": null,
   "metadata": {
    "colab": {
     "base_uri": "https://localhost:8080/",
     "height": 762
    },
    "executionInfo": {
     "elapsed": 919,
     "status": "ok",
     "timestamp": 1738241645867,
     "user": {
      "displayName": "Antoine Carton-Leclercq",
      "userId": "16762079514641463759"
     },
     "user_tz": -60
    },
    "id": "MfSNqYgzbknK",
    "outputId": "25d7408d-2064-4b6c-813c-63d40d6a4035"
   },
   "outputs": [],
   "source": [
    "plt.figure(figsize=(20, 8))\n",
    "\n",
    "# Stocker les valeurs des fonctions de pertes et de l'accuracy durant chaque epoch de l'entraînement\n",
    "train_loss = model_history.history[\"loss\"]\n",
    "val_loss = model_history.history[\"val_loss\"]\n",
    "# Stocker les résultats de la meilleure epoch conservée par notre callback\n",
    "best_epoch_loss=(val_loss.index(min(val_loss)),min(val_loss))\n",
    "\n",
    "train_accuracy = model_history.history[\"accuracy\"]\n",
    "val_accuracy = model_history.history[\"val_accuracy\"]\n",
    "best_epoch_acc=(val_accuracy.index(min(val_accuracy)),min(val_accuracy))\n",
    "\n",
    "# Tracer la sparse cross-entropy\n",
    "plt.subplot(121)\n",
    "plt.plot(train_loss)\n",
    "plt.plot(val_loss)\n",
    "plt.scatter(best_epoch_loss[0],best_epoch_loss[1],s=10)\n",
    "plt.title('Perte du modèle par époque (cross-entropy)')\n",
    "plt.ylabel('Perte (sparse_crossentropy)')\n",
    "plt.xlabel('Époque')\n",
    "plt.legend(['Entraînement', 'Validation','Best epoch'], loc='best')\n",
    "\n",
    "# Tracer l'accuracy\n",
    "plt.subplot(122)\n",
    "plt.plot(train_accuracy)\n",
    "plt.plot(val_accuracy)\n",
    "plt.scatter(best_epoch_acc[0],best_epoch_acc[1],s=10)\n",
    "plt.title('Accuracy par époque')\n",
    "plt.ylabel('Accuracy')\n",
    "plt.xlabel('Époque')\n",
    "plt.legend(['Entraînement', 'Validation', 'Best epoch'], loc='best')\n",
    "\n",
    "plt.show()\n",
    "\n",
    "plt.savefig('../reports/figures/Loss_Accuracy_TL_InceptionV3_AUGMENTED.png')"
   ]
  },
  {
   "cell_type": "markdown",
   "metadata": {},
   "source": [
    "Rapport de classification et Matrice de confusion"
   ]
  },
  {
   "cell_type": "code",
   "execution_count": null,
   "metadata": {
    "colab": {
     "base_uri": "https://localhost:8080/",
     "height": 845
    },
    "executionInfo": {
     "elapsed": 50485,
     "status": "ok",
     "timestamp": 1738241701927,
     "user": {
      "displayName": "Antoine Carton-Leclercq",
      "userId": "16762079514641463759"
     },
     "user_tz": -60
    },
    "id": "mRKSIyTspFbh",
    "outputId": "f19f48ed-19cd-4c98-b315-5aaa7057e7bf"
   },
   "outputs": [],
   "source": [
    "from sklearn.metrics import classification_report\n",
    "import numpy as np\n",
    "from sklearn.metrics import confusion_matrix\n",
    "import seaborn as sn\n",
    "import pandas as pd\n",
    "\n",
    "test_pred_model = model.predict(test_ds)\n",
    "test_pred_class = test_pred_model.argmax(axis=1)\n",
    "y_test_class = np.concatenate([y for x, y in test_ds], axis=0)\n",
    "print(classification_report(y_test_class, test_pred_class))\n",
    "dict_classif=classification_report(y_test_class, test_pred_class)\n",
    "np.save('../reports/Classification_report_TL_InceptionV3_AUGMENTED', dict_classif)\n",
    "\n",
    "data = confusion_matrix(y_test_class, test_pred_class)\n",
    "df_cm = pd.DataFrame(data, columns=np.unique(y_test_class), index = np.unique(y_test_class))\n",
    "df_cm.index.name = 'Actual'\n",
    "df_cm.columns.name = 'Predicted'\n",
    "plt.figure(figsize = (10,7))\n",
    "sn.set(font_scale=1.4)#for label size\n",
    "sn.heatmap(df_cm, cmap=\"Blues\", annot=True,annot_kws={\"size\": 10},fmt='g')# font size\n",
    "plt.savefig('../reports/figures/Confusion_matrix__TL_InceptionV3_AUGMENTED.png')"
   ]
  },
  {
   "cell_type": "markdown",
   "metadata": {
    "id": "lDcnxHz7pxEt"
   },
   "source": [
    "Les résultats obtenus par notre modèle sont les mêmes avec des images augmentées que sans augmentation. Peut-être le dégel de quelques couches de InceptionV3 pourront nous donner une classification plus performante."
   ]
  },
  {
   "cell_type": "markdown",
   "metadata": {
    "id": "3hkDD0Y9qLBp"
   },
   "source": [
    "## *Transfer Learning avec InceptionV3: Dégel du dernier block.*"
   ]
  },
  {
   "cell_type": "markdown",
   "metadata": {},
   "source": [
    "Après avoir étudié les résultats de la classification faite par InceptionV3, il semblerait que nous sommes dans la bonne direction. Nous décidons alors de conserver l'augmentation des données réalisées précédemment et de ré-entraîner une partie du modèle InceptionV3.\n",
    "\n",
    "Nous ajoutons donc un terme permettant le dégel des 87 dernières couches d'InceptionV3, correspondant au dernier block de convolution de celui-ci."
   ]
  },
  {
   "cell_type": "code",
   "execution_count": null,
   "metadata": {
    "colab": {
     "base_uri": "https://localhost:8080/",
     "height": 1000
    },
    "executionInfo": {
     "elapsed": 15035,
     "status": "ok",
     "timestamp": 1738248400386,
     "user": {
      "displayName": "Antoine Carton-Leclercq",
      "userId": "16762079514641463759"
     },
     "user_tz": -60
    },
    "id": "7W_mPgskqjCb",
    "outputId": "c58da947-34ad-40a7-c021-2431df229df0"
   },
   "outputs": [],
   "source": [
    "from tensorflow.keras.applications import InceptionV3\n",
    "from tensorflow.keras import layers, models\n",
    "from tensorflow.keras.layers import GlobalAveragePooling2D, Dense, Dropout, Flatten\n",
    "\n",
    "num_classes=4\n",
    "\n",
    "# Charger le modèle pré-entraîné sans la couche de classification finale\n",
    "base_model = InceptionV3(weights='imagenet', include_top=False, input_shape=(299, 299, 3))\n",
    "for layer in base_model.layers:\n",
    "  layer.trainable = False\n",
    "# Geler toutes les couches du modèle de base\n",
    "\n",
    "# Dégel du dernier block du modèle (mixed10)\n",
    "for layer in base_model.layers[-87:]:  # Approximativement le dernier block. \n",
    "  layer.trainable = True\n",
    "\n",
    "# Ajouter des couches personnalisées pour la classification\n",
    "x=base_model.input\n",
    "x=data_augmentation(x)\n",
    "x= base_model.output\n",
    "x= GlobalAveragePooling2D()(x)\n",
    "x=Dense(256, activation='relu')(x)\n",
    "x=Dropout(0.1)(x)\n",
    "x=Dense(128, activation='relu')(x)\n",
    "x=Dense(32, activation='relu')(x)\n",
    "x=Dropout(0.2)(x)\n",
    "x=Dense(16, activation='relu')(x)\n",
    "x=Dropout(0.5)(x)\n",
    "outputs = layers.Dense(num_classes, activation='softmax')(x)\n",
    "\n",
    "model = tf.keras.Model(inputs=base_model.input, outputs=outputs)\n",
    "optimizer = tf.keras.optimizers.Adam(learning_rate=0.001)\n",
    "model.compile(optimizer=optimizer,\n",
    "              loss=\"sparse_categorical_crossentropy\",\n",
    "              metrics=['accuracy'])\n",
    "\n",
    "\n",
    "# Résumé du modèle\n",
    "model.summary()\n"
   ]
  },
  {
   "cell_type": "markdown",
   "metadata": {},
   "source": [
    "Nous entraînons alors le modèle sur nos données"
   ]
  },
  {
   "cell_type": "code",
   "execution_count": null,
   "metadata": {
    "colab": {
     "base_uri": "https://localhost:8080/"
    },
    "executionInfo": {
     "elapsed": 1111578,
     "status": "ok",
     "timestamp": 1738249517940,
     "user": {
      "displayName": "Antoine Carton-Leclercq",
      "userId": "16762079514641463759"
     },
     "user_tz": -60
    },
    "id": "ICwcev_rrEP4",
    "outputId": "0fb6a617-e011-48db-f170-79151c54cea3"
   },
   "outputs": [],
   "source": [
    "model_path=r\"../models/AC/model_TL_InceptionV3_RETRAINED.keras\"\n",
    "\n",
    "model_checkpoint = tf.keras.callbacks.ModelCheckpoint(filepath=model_path,\n",
    "                                                      monitor='val_loss',\n",
    "                                                      verbose=0,\n",
    "                                                      save_best_only=True,\n",
    "                                                      mode='min')\n",
    "\n",
    "model_history = model.fit(\n",
    "      train_ds,\n",
    "      validation_data=val_ds,\n",
    "      epochs=100,\n",
    "      callbacks=[reduce_learning_rate, early_stopping, model_checkpoint],\n",
    "      class_weight=class_weight_dict\n",
    "  )"
   ]
  },
  {
   "cell_type": "markdown",
   "metadata": {},
   "source": [
    "Nous représentons graphiquement les performances de celui-ci durant son entraînement."
   ]
  },
  {
   "cell_type": "code",
   "execution_count": null,
   "metadata": {
    "colab": {
     "base_uri": "https://localhost:8080/",
     "height": 512
    },
    "executionInfo": {
     "elapsed": 1016,
     "status": "ok",
     "timestamp": 1738251067679,
     "user": {
      "displayName": "Antoine Carton-Leclercq",
      "userId": "16762079514641463759"
     },
     "user_tz": -60
    },
    "id": "rPQe-gp-sA-z",
    "outputId": "8b60f67e-44d5-4f5b-c3f6-075c14904075"
   },
   "outputs": [],
   "source": [
    "plt.figure(figsize=(20, 8))\n",
    "\n",
    "# Stocker les valeurs des fonctions de pertes et de l'accuracy durant chaque epoch de l'entraînement\n",
    "train_loss = model_history.history[\"loss\"]\n",
    "val_loss = model_history.history[\"val_loss\"]\n",
    "# Stocker les résultats de la meilleure epoch conservée par notre callback\n",
    "best_epoch_loss=(val_loss.index(min(val_loss)),min(val_loss))\n",
    "\n",
    "train_accuracy = model_history.history[\"accuracy\"]\n",
    "val_accuracy = model_history.history[\"val_accuracy\"]\n",
    "best_epoch_acc=(val_accuracy.index(min(val_accuracy)),min(val_accuracy))\n",
    "\n",
    "# Tracer la sparse cross-entropy\n",
    "plt.subplot(121)\n",
    "plt.plot(train_loss)\n",
    "plt.plot(val_loss)\n",
    "plt.scatter(best_epoch_loss[0],best_epoch_loss[1],s=10)\n",
    "plt.title('Perte du modèle par époque (cross-entropy)')\n",
    "plt.ylabel('Perte (sparse_crossentropy)')\n",
    "plt.xlabel('Époque')\n",
    "plt.legend(['Entraînement', 'Validation','Best epoch'], loc='best')\n",
    "\n",
    "# Tracer l'accuracy\n",
    "plt.subplot(122)\n",
    "plt.plot(train_accuracy)\n",
    "plt.plot(val_accuracy)\n",
    "plt.scatter(best_epoch_acc[0],best_epoch_acc[1],s=10)\n",
    "plt.title('Accuracy par époque')\n",
    "plt.ylabel('Accuracy')\n",
    "plt.xlabel('Époque')\n",
    "plt.legend(['Entraînement', 'Validation', 'Best epoch'], loc='best')\n",
    "\n",
    "plt.savefig('../reports/figures/Loss_Accuracy_TL_InceptionV3_RETRAINED.png')\n",
    "plt.show()\n",
    "\n",
    "\n"
   ]
  },
  {
   "cell_type": "markdown",
   "metadata": {},
   "source": [
    "Nous affichons finalement son rapport de classification et sa matrice de confusion"
   ]
  },
  {
   "cell_type": "code",
   "execution_count": null,
   "metadata": {
    "colab": {
     "base_uri": "https://localhost:8080/",
     "height": 845
    },
    "executionInfo": {
     "elapsed": 33761,
     "status": "ok",
     "timestamp": 1738251108703,
     "user": {
      "displayName": "Antoine Carton-Leclercq",
      "userId": "16762079514641463759"
     },
     "user_tz": -60
    },
    "id": "6J1VpxYOzDgt",
    "outputId": "ef85c50c-142b-4332-c99f-4a8207141dec"
   },
   "outputs": [],
   "source": [
    "from sklearn.metrics import classification_report\n",
    "import numpy as np\n",
    "from sklearn.metrics import confusion_matrix\n",
    "import seaborn as sn\n",
    "import pandas as pd\n",
    "\n",
    "test_pred_model = model.predict(test_ds)\n",
    "test_pred_class = test_pred_model.argmax(axis=1)\n",
    "y_test_class = np.concatenate([y for x, y in test_ds], axis=0)\n",
    "print(classification_report(y_test_class, test_pred_class))\n",
    "dict_classif=classification_report(y_test_class, test_pred_class)\n",
    "np.save('../reports/Classification_report_TL_InceptionV3_RETRAINED', dict_classif)\n",
    "\n",
    "data = confusion_matrix(y_test_class, test_pred_class)\n",
    "df_cm = pd.DataFrame(data, columns=np.unique(y_test_class), index = np.unique(y_test_class))\n",
    "df_cm.index.name = 'Actual'\n",
    "df_cm.columns.name = 'Predicted'\n",
    "plt.figure(figsize = (10,7))\n",
    "sn.set(font_scale=1.4)#for label size\n",
    "sn.heatmap(df_cm, cmap=\"Blues\", annot=True,annot_kws={\"size\": 10},fmt='g')# font size\n",
    "plt.savefig('../reports/figures/Confusion_matrix__TL_InceptionV3_RETRAINED.png')"
   ]
  },
  {
   "cell_type": "markdown",
   "metadata": {},
   "source": [
    "Finalement, Nous affichons des exemples d'erreurs et de réussite de classification du modèle InceptionV3 modifié."
   ]
  },
  {
   "cell_type": "code",
   "execution_count": null,
   "metadata": {},
   "outputs": [],
   "source": [
    "from Libraries import Plot_decisions_classif\n",
    "\n",
    "Plot_decisions_classif.plot_classification_results(model,test_ds,plot_errors=True,num_samples=3)\n",
    "plt.savefig('../reports/figures/False_predictions_TL_InceptionV3_RETRAINED.png')\n",
    "\n",
    "Plot_decisions_classif.plot_classification_results(model,test_ds,plot_errors=False,num_samples=3)\n",
    "plt.savefig('../reports/figures/True_predictions_TL_InceptionV3_RETRAINED.png')"
   ]
  }
 ],
 "metadata": {
  "accelerator": "TPU",
  "colab": {
   "authorship_tag": "ABX9TyM29Om+1h5G/TFvLAGuqiYZ",
   "collapsed_sections": [
    "rIuzHmD-ESUl",
    "pRXcMQ2dIH7J",
    "oFTpIe2vIObc",
    "VcZlXs6in5me",
    "3GKfxKQSymum",
    "jx_t_Led1_l7",
    "SQNdDmXiXIde",
    "RhRYTBxIXgc-",
    "ZaoFI9Hnli-7",
    "mBn4IonaTA2_",
    "3hkDD0Y9qLBp"
   ],
   "gpuType": "V28",
   "machine_shape": "hm",
   "provenance": []
  },
  "kernelspec": {
   "display_name": "base",
   "language": "python",
   "name": "python3"
  },
  "language_info": {
   "codemirror_mode": {
    "name": "ipython",
    "version": 3
   },
   "file_extension": ".py",
   "mimetype": "text/x-python",
   "name": "python",
   "nbconvert_exporter": "python",
   "pygments_lexer": "ipython3",
   "version": "3.11.7"
  }
 },
 "nbformat": 4,
 "nbformat_minor": 0
}
