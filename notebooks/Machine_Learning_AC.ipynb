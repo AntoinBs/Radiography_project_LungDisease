{
  "cells": [
    {
      "cell_type": "markdown",
      "metadata": {
        "id": "Z5vvdsu95JjP"
      },
      "source": [
        "# ***Setting up Environment***"
      ]
    },
    {
      "cell_type": "markdown",
      "metadata": {},
      "source": []
    },
    {
      "cell_type": "code",
      "execution_count": 1,
      "metadata": {
        "colab": {
          "base_uri": "https://localhost:8080/"
        },
        "id": "CIeER1iS41tA",
        "outputId": "5b5c6ca4-c69e-4008-9b42-005c4cd257b3"
      },
      "outputs": [
        {
          "name": "stderr",
          "output_type": "stream",
          "text": [
            "\n",
            "A module that was compiled using NumPy 1.x cannot be run in\n",
            "NumPy 2.0.0 as it may crash. To support both 1.x and 2.x\n",
            "versions of NumPy, modules must be compiled with NumPy 2.0.\n",
            "Some module may need to rebuild instead e.g. with 'pybind11>=2.12'.\n",
            "\n",
            "If you are a user of the module, the easiest solution will be to\n",
            "downgrade to 'numpy<2' or try to upgrade the affected module.\n",
            "We expect that some modules will need time to support NumPy 2.\n",
            "\n",
            "Traceback (most recent call last):  File \"<frozen runpy>\", line 198, in _run_module_as_main\n",
            "  File \"<frozen runpy>\", line 88, in _run_code\n",
            "  File \"c:\\Users\\Cartiboi\\anaconda3\\Lib\\site-packages\\ipykernel_launcher.py\", line 17, in <module>\n",
            "    app.launch_new_instance()\n",
            "  File \"c:\\Users\\Cartiboi\\anaconda3\\Lib\\site-packages\\traitlets\\config\\application.py\", line 992, in launch_instance\n",
            "    app.start()\n",
            "  File \"c:\\Users\\Cartiboi\\anaconda3\\Lib\\site-packages\\ipykernel\\kernelapp.py\", line 701, in start\n",
            "    self.io_loop.start()\n",
            "  File \"c:\\Users\\Cartiboi\\anaconda3\\Lib\\site-packages\\tornado\\platform\\asyncio.py\", line 195, in start\n",
            "    self.asyncio_loop.run_forever()\n",
            "  File \"c:\\Users\\Cartiboi\\anaconda3\\Lib\\asyncio\\windows_events.py\", line 321, in run_forever\n",
            "    super().run_forever()\n",
            "  File \"c:\\Users\\Cartiboi\\anaconda3\\Lib\\asyncio\\base_events.py\", line 607, in run_forever\n",
            "    self._run_once()\n",
            "  File \"c:\\Users\\Cartiboi\\anaconda3\\Lib\\asyncio\\base_events.py\", line 1922, in _run_once\n",
            "    handle._run()\n",
            "  File \"c:\\Users\\Cartiboi\\anaconda3\\Lib\\asyncio\\events.py\", line 80, in _run\n",
            "    self._context.run(self._callback, *self._args)\n",
            "  File \"c:\\Users\\Cartiboi\\anaconda3\\Lib\\site-packages\\ipykernel\\kernelbase.py\", line 534, in dispatch_queue\n",
            "    await self.process_one()\n",
            "  File \"c:\\Users\\Cartiboi\\anaconda3\\Lib\\site-packages\\ipykernel\\kernelbase.py\", line 523, in process_one\n",
            "    await dispatch(*args)\n",
            "  File \"c:\\Users\\Cartiboi\\anaconda3\\Lib\\site-packages\\ipykernel\\kernelbase.py\", line 429, in dispatch_shell\n",
            "    await result\n",
            "  File \"c:\\Users\\Cartiboi\\anaconda3\\Lib\\site-packages\\ipykernel\\kernelbase.py\", line 767, in execute_request\n",
            "    reply_content = await reply_content\n",
            "  File \"c:\\Users\\Cartiboi\\anaconda3\\Lib\\site-packages\\ipykernel\\ipkernel.py\", line 429, in do_execute\n",
            "    res = shell.run_cell(\n",
            "  File \"c:\\Users\\Cartiboi\\anaconda3\\Lib\\site-packages\\ipykernel\\zmqshell.py\", line 549, in run_cell\n",
            "    return super().run_cell(*args, **kwargs)\n",
            "  File \"c:\\Users\\Cartiboi\\anaconda3\\Lib\\site-packages\\IPython\\core\\interactiveshell.py\", line 3051, in run_cell\n",
            "    result = self._run_cell(\n",
            "  File \"c:\\Users\\Cartiboi\\anaconda3\\Lib\\site-packages\\IPython\\core\\interactiveshell.py\", line 3106, in _run_cell\n",
            "    result = runner(coro)\n",
            "  File \"c:\\Users\\Cartiboi\\anaconda3\\Lib\\site-packages\\IPython\\core\\async_helpers.py\", line 129, in _pseudo_sync_runner\n",
            "    coro.send(None)\n",
            "  File \"c:\\Users\\Cartiboi\\anaconda3\\Lib\\site-packages\\IPython\\core\\interactiveshell.py\", line 3311, in run_cell_async\n",
            "    has_raised = await self.run_ast_nodes(code_ast.body, cell_name,\n",
            "  File \"c:\\Users\\Cartiboi\\anaconda3\\Lib\\site-packages\\IPython\\core\\interactiveshell.py\", line 3493, in run_ast_nodes\n",
            "    if await self.run_code(code, result, async_=asy):\n",
            "  File \"c:\\Users\\Cartiboi\\anaconda3\\Lib\\site-packages\\IPython\\core\\interactiveshell.py\", line 3553, in run_code\n",
            "    exec(code_obj, self.user_global_ns, self.user_ns)\n",
            "  File \"C:\\Users\\Cartiboi\\AppData\\Local\\Temp\\ipykernel_2236\\56569402.py\", line 1, in <module>\n",
            "    import pandas as pd;\n",
            "  File \"c:\\Users\\Cartiboi\\anaconda3\\Lib\\site-packages\\pandas\\__init__.py\", line 39, in <module>\n",
            "    from pandas.compat import (\n",
            "  File \"c:\\Users\\Cartiboi\\anaconda3\\Lib\\site-packages\\pandas\\compat\\__init__.py\", line 27, in <module>\n",
            "    from pandas.compat.pyarrow import (\n",
            "  File \"c:\\Users\\Cartiboi\\anaconda3\\Lib\\site-packages\\pandas\\compat\\pyarrow.py\", line 8, in <module>\n",
            "    import pyarrow as pa\n",
            "  File \"c:\\Users\\Cartiboi\\anaconda3\\Lib\\site-packages\\pyarrow\\__init__.py\", line 65, in <module>\n",
            "    import pyarrow.lib as _lib\n"
          ]
        },
        {
          "ename": "AttributeError",
          "evalue": "_ARRAY_API not found",
          "output_type": "error",
          "traceback": [
            "\u001b[1;31m---------------------------------------------------------------------------\u001b[0m",
            "\u001b[1;31mAttributeError\u001b[0m                            Traceback (most recent call last)",
            "\u001b[1;31mAttributeError\u001b[0m: _ARRAY_API not found"
          ]
        },
        {
          "name": "stderr",
          "output_type": "stream",
          "text": [
            "\n",
            "A module that was compiled using NumPy 1.x cannot be run in\n",
            "NumPy 2.0.0 as it may crash. To support both 1.x and 2.x\n",
            "versions of NumPy, modules must be compiled with NumPy 2.0.\n",
            "Some module may need to rebuild instead e.g. with 'pybind11>=2.12'.\n",
            "\n",
            "If you are a user of the module, the easiest solution will be to\n",
            "downgrade to 'numpy<2' or try to upgrade the affected module.\n",
            "We expect that some modules will need time to support NumPy 2.\n",
            "\n",
            "Traceback (most recent call last):  File \"<frozen runpy>\", line 198, in _run_module_as_main\n",
            "  File \"<frozen runpy>\", line 88, in _run_code\n",
            "  File \"c:\\Users\\Cartiboi\\anaconda3\\Lib\\site-packages\\ipykernel_launcher.py\", line 17, in <module>\n",
            "    app.launch_new_instance()\n",
            "  File \"c:\\Users\\Cartiboi\\anaconda3\\Lib\\site-packages\\traitlets\\config\\application.py\", line 992, in launch_instance\n",
            "    app.start()\n",
            "  File \"c:\\Users\\Cartiboi\\anaconda3\\Lib\\site-packages\\ipykernel\\kernelapp.py\", line 701, in start\n",
            "    self.io_loop.start()\n",
            "  File \"c:\\Users\\Cartiboi\\anaconda3\\Lib\\site-packages\\tornado\\platform\\asyncio.py\", line 195, in start\n",
            "    self.asyncio_loop.run_forever()\n",
            "  File \"c:\\Users\\Cartiboi\\anaconda3\\Lib\\asyncio\\windows_events.py\", line 321, in run_forever\n",
            "    super().run_forever()\n",
            "  File \"c:\\Users\\Cartiboi\\anaconda3\\Lib\\asyncio\\base_events.py\", line 607, in run_forever\n",
            "    self._run_once()\n",
            "  File \"c:\\Users\\Cartiboi\\anaconda3\\Lib\\asyncio\\base_events.py\", line 1922, in _run_once\n",
            "    handle._run()\n",
            "  File \"c:\\Users\\Cartiboi\\anaconda3\\Lib\\asyncio\\events.py\", line 80, in _run\n",
            "    self._context.run(self._callback, *self._args)\n",
            "  File \"c:\\Users\\Cartiboi\\anaconda3\\Lib\\site-packages\\ipykernel\\kernelbase.py\", line 534, in dispatch_queue\n",
            "    await self.process_one()\n",
            "  File \"c:\\Users\\Cartiboi\\anaconda3\\Lib\\site-packages\\ipykernel\\kernelbase.py\", line 523, in process_one\n",
            "    await dispatch(*args)\n",
            "  File \"c:\\Users\\Cartiboi\\anaconda3\\Lib\\site-packages\\ipykernel\\kernelbase.py\", line 429, in dispatch_shell\n",
            "    await result\n",
            "  File \"c:\\Users\\Cartiboi\\anaconda3\\Lib\\site-packages\\ipykernel\\kernelbase.py\", line 767, in execute_request\n",
            "    reply_content = await reply_content\n",
            "  File \"c:\\Users\\Cartiboi\\anaconda3\\Lib\\site-packages\\ipykernel\\ipkernel.py\", line 429, in do_execute\n",
            "    res = shell.run_cell(\n",
            "  File \"c:\\Users\\Cartiboi\\anaconda3\\Lib\\site-packages\\ipykernel\\zmqshell.py\", line 549, in run_cell\n",
            "    return super().run_cell(*args, **kwargs)\n",
            "  File \"c:\\Users\\Cartiboi\\anaconda3\\Lib\\site-packages\\IPython\\core\\interactiveshell.py\", line 3051, in run_cell\n",
            "    result = self._run_cell(\n",
            "  File \"c:\\Users\\Cartiboi\\anaconda3\\Lib\\site-packages\\IPython\\core\\interactiveshell.py\", line 3106, in _run_cell\n",
            "    result = runner(coro)\n",
            "  File \"c:\\Users\\Cartiboi\\anaconda3\\Lib\\site-packages\\IPython\\core\\async_helpers.py\", line 129, in _pseudo_sync_runner\n",
            "    coro.send(None)\n",
            "  File \"c:\\Users\\Cartiboi\\anaconda3\\Lib\\site-packages\\IPython\\core\\interactiveshell.py\", line 3311, in run_cell_async\n",
            "    has_raised = await self.run_ast_nodes(code_ast.body, cell_name,\n",
            "  File \"c:\\Users\\Cartiboi\\anaconda3\\Lib\\site-packages\\IPython\\core\\interactiveshell.py\", line 3493, in run_ast_nodes\n",
            "    if await self.run_code(code, result, async_=asy):\n",
            "  File \"c:\\Users\\Cartiboi\\anaconda3\\Lib\\site-packages\\IPython\\core\\interactiveshell.py\", line 3553, in run_code\n",
            "    exec(code_obj, self.user_global_ns, self.user_ns)\n",
            "  File \"C:\\Users\\Cartiboi\\AppData\\Local\\Temp\\ipykernel_2236\\56569402.py\", line 1, in <module>\n",
            "    import pandas as pd;\n",
            "  File \"c:\\Users\\Cartiboi\\anaconda3\\Lib\\site-packages\\pandas\\__init__.py\", line 62, in <module>\n",
            "    from pandas.core.api import (\n",
            "  File \"c:\\Users\\Cartiboi\\anaconda3\\Lib\\site-packages\\pandas\\core\\api.py\", line 9, in <module>\n",
            "    from pandas.core.dtypes.dtypes import (\n",
            "  File \"c:\\Users\\Cartiboi\\anaconda3\\Lib\\site-packages\\pandas\\core\\dtypes\\dtypes.py\", line 24, in <module>\n",
            "    from pandas._libs import (\n",
            "  File \"c:\\Users\\Cartiboi\\anaconda3\\Lib\\site-packages\\pyarrow\\__init__.py\", line 65, in <module>\n",
            "    import pyarrow.lib as _lib\n"
          ]
        },
        {
          "ename": "AttributeError",
          "evalue": "_ARRAY_API not found",
          "output_type": "error",
          "traceback": [
            "\u001b[1;31m---------------------------------------------------------------------------\u001b[0m",
            "\u001b[1;31mAttributeError\u001b[0m                            Traceback (most recent call last)",
            "\u001b[1;31mAttributeError\u001b[0m: _ARRAY_API not found"
          ]
        },
        {
          "name": "stderr",
          "output_type": "stream",
          "text": [
            "\n",
            "A module that was compiled using NumPy 1.x cannot be run in\n",
            "NumPy 2.0.0 as it may crash. To support both 1.x and 2.x\n",
            "versions of NumPy, modules must be compiled with NumPy 2.0.\n",
            "Some module may need to rebuild instead e.g. with 'pybind11>=2.12'.\n",
            "\n",
            "If you are a user of the module, the easiest solution will be to\n",
            "downgrade to 'numpy<2' or try to upgrade the affected module.\n",
            "We expect that some modules will need time to support NumPy 2.\n",
            "\n",
            "Traceback (most recent call last):  File \"<frozen runpy>\", line 198, in _run_module_as_main\n",
            "  File \"<frozen runpy>\", line 88, in _run_code\n",
            "  File \"c:\\Users\\Cartiboi\\anaconda3\\Lib\\site-packages\\ipykernel_launcher.py\", line 17, in <module>\n",
            "    app.launch_new_instance()\n",
            "  File \"c:\\Users\\Cartiboi\\anaconda3\\Lib\\site-packages\\traitlets\\config\\application.py\", line 992, in launch_instance\n",
            "    app.start()\n",
            "  File \"c:\\Users\\Cartiboi\\anaconda3\\Lib\\site-packages\\ipykernel\\kernelapp.py\", line 701, in start\n",
            "    self.io_loop.start()\n",
            "  File \"c:\\Users\\Cartiboi\\anaconda3\\Lib\\site-packages\\tornado\\platform\\asyncio.py\", line 195, in start\n",
            "    self.asyncio_loop.run_forever()\n",
            "  File \"c:\\Users\\Cartiboi\\anaconda3\\Lib\\asyncio\\windows_events.py\", line 321, in run_forever\n",
            "    super().run_forever()\n",
            "  File \"c:\\Users\\Cartiboi\\anaconda3\\Lib\\asyncio\\base_events.py\", line 607, in run_forever\n",
            "    self._run_once()\n",
            "  File \"c:\\Users\\Cartiboi\\anaconda3\\Lib\\asyncio\\base_events.py\", line 1922, in _run_once\n",
            "    handle._run()\n",
            "  File \"c:\\Users\\Cartiboi\\anaconda3\\Lib\\asyncio\\events.py\", line 80, in _run\n",
            "    self._context.run(self._callback, *self._args)\n",
            "  File \"c:\\Users\\Cartiboi\\anaconda3\\Lib\\site-packages\\ipykernel\\kernelbase.py\", line 534, in dispatch_queue\n",
            "    await self.process_one()\n",
            "  File \"c:\\Users\\Cartiboi\\anaconda3\\Lib\\site-packages\\ipykernel\\kernelbase.py\", line 523, in process_one\n",
            "    await dispatch(*args)\n",
            "  File \"c:\\Users\\Cartiboi\\anaconda3\\Lib\\site-packages\\ipykernel\\kernelbase.py\", line 429, in dispatch_shell\n",
            "    await result\n",
            "  File \"c:\\Users\\Cartiboi\\anaconda3\\Lib\\site-packages\\ipykernel\\kernelbase.py\", line 767, in execute_request\n",
            "    reply_content = await reply_content\n",
            "  File \"c:\\Users\\Cartiboi\\anaconda3\\Lib\\site-packages\\ipykernel\\ipkernel.py\", line 429, in do_execute\n",
            "    res = shell.run_cell(\n",
            "  File \"c:\\Users\\Cartiboi\\anaconda3\\Lib\\site-packages\\ipykernel\\zmqshell.py\", line 549, in run_cell\n",
            "    return super().run_cell(*args, **kwargs)\n",
            "  File \"c:\\Users\\Cartiboi\\anaconda3\\Lib\\site-packages\\IPython\\core\\interactiveshell.py\", line 3051, in run_cell\n",
            "    result = self._run_cell(\n",
            "  File \"c:\\Users\\Cartiboi\\anaconda3\\Lib\\site-packages\\IPython\\core\\interactiveshell.py\", line 3106, in _run_cell\n",
            "    result = runner(coro)\n",
            "  File \"c:\\Users\\Cartiboi\\anaconda3\\Lib\\site-packages\\IPython\\core\\async_helpers.py\", line 129, in _pseudo_sync_runner\n",
            "    coro.send(None)\n",
            "  File \"c:\\Users\\Cartiboi\\anaconda3\\Lib\\site-packages\\IPython\\core\\interactiveshell.py\", line 3311, in run_cell_async\n",
            "    has_raised = await self.run_ast_nodes(code_ast.body, cell_name,\n",
            "  File \"c:\\Users\\Cartiboi\\anaconda3\\Lib\\site-packages\\IPython\\core\\interactiveshell.py\", line 3493, in run_ast_nodes\n",
            "    if await self.run_code(code, result, async_=asy):\n",
            "  File \"c:\\Users\\Cartiboi\\anaconda3\\Lib\\site-packages\\IPython\\core\\interactiveshell.py\", line 3553, in run_code\n",
            "    exec(code_obj, self.user_global_ns, self.user_ns)\n",
            "  File \"C:\\Users\\Cartiboi\\AppData\\Local\\Temp\\ipykernel_2236\\56569402.py\", line 1, in <module>\n",
            "    import pandas as pd;\n",
            "  File \"c:\\Users\\Cartiboi\\anaconda3\\Lib\\site-packages\\pandas\\__init__.py\", line 62, in <module>\n",
            "    from pandas.core.api import (\n",
            "  File \"c:\\Users\\Cartiboi\\anaconda3\\Lib\\site-packages\\pandas\\core\\api.py\", line 28, in <module>\n",
            "    from pandas.core.arrays import Categorical\n",
            "  File \"c:\\Users\\Cartiboi\\anaconda3\\Lib\\site-packages\\pandas\\core\\arrays\\__init__.py\", line 1, in <module>\n",
            "    from pandas.core.arrays.arrow import ArrowExtensionArray\n",
            "  File \"c:\\Users\\Cartiboi\\anaconda3\\Lib\\site-packages\\pandas\\core\\arrays\\arrow\\__init__.py\", line 5, in <module>\n",
            "    from pandas.core.arrays.arrow.array import ArrowExtensionArray\n",
            "  File \"c:\\Users\\Cartiboi\\anaconda3\\Lib\\site-packages\\pandas\\core\\arrays\\arrow\\array.py\", line 50, in <module>\n",
            "    from pandas.core import (\n",
            "  File \"c:\\Users\\Cartiboi\\anaconda3\\Lib\\site-packages\\pandas\\core\\ops\\__init__.py\", line 8, in <module>\n",
            "    from pandas.core.ops.array_ops import (\n",
            "  File \"c:\\Users\\Cartiboi\\anaconda3\\Lib\\site-packages\\pandas\\core\\ops\\array_ops.py\", line 56, in <module>\n",
            "    from pandas.core.computation import expressions\n",
            "  File \"c:\\Users\\Cartiboi\\anaconda3\\Lib\\site-packages\\pandas\\core\\computation\\expressions.py\", line 21, in <module>\n",
            "    from pandas.core.computation.check import NUMEXPR_INSTALLED\n",
            "  File \"c:\\Users\\Cartiboi\\anaconda3\\Lib\\site-packages\\pandas\\core\\computation\\check.py\", line 5, in <module>\n",
            "    ne = import_optional_dependency(\"numexpr\", errors=\"warn\")\n",
            "  File \"c:\\Users\\Cartiboi\\anaconda3\\Lib\\site-packages\\pandas\\compat\\_optional.py\", line 135, in import_optional_dependency\n",
            "    module = importlib.import_module(name)\n",
            "  File \"c:\\Users\\Cartiboi\\anaconda3\\Lib\\importlib\\__init__.py\", line 126, in import_module\n",
            "    return _bootstrap._gcd_import(name[level:], package, level)\n",
            "  File \"c:\\Users\\Cartiboi\\anaconda3\\Lib\\site-packages\\numexpr\\__init__.py\", line 24, in <module>\n",
            "    from numexpr.interpreter import MAX_THREADS, use_vml, __BLOCK_SIZE1__\n"
          ]
        },
        {
          "ename": "AttributeError",
          "evalue": "_ARRAY_API not found",
          "output_type": "error",
          "traceback": [
            "\u001b[1;31m---------------------------------------------------------------------------\u001b[0m",
            "\u001b[1;31mAttributeError\u001b[0m                            Traceback (most recent call last)",
            "\u001b[1;31mAttributeError\u001b[0m: _ARRAY_API not found"
          ]
        },
        {
          "name": "stderr",
          "output_type": "stream",
          "text": [
            "\n",
            "A module that was compiled using NumPy 1.x cannot be run in\n",
            "NumPy 2.0.0 as it may crash. To support both 1.x and 2.x\n",
            "versions of NumPy, modules must be compiled with NumPy 2.0.\n",
            "Some module may need to rebuild instead e.g. with 'pybind11>=2.12'.\n",
            "\n",
            "If you are a user of the module, the easiest solution will be to\n",
            "downgrade to 'numpy<2' or try to upgrade the affected module.\n",
            "We expect that some modules will need time to support NumPy 2.\n",
            "\n",
            "Traceback (most recent call last):  File \"<frozen runpy>\", line 198, in _run_module_as_main\n",
            "  File \"<frozen runpy>\", line 88, in _run_code\n",
            "  File \"c:\\Users\\Cartiboi\\anaconda3\\Lib\\site-packages\\ipykernel_launcher.py\", line 17, in <module>\n",
            "    app.launch_new_instance()\n",
            "  File \"c:\\Users\\Cartiboi\\anaconda3\\Lib\\site-packages\\traitlets\\config\\application.py\", line 992, in launch_instance\n",
            "    app.start()\n",
            "  File \"c:\\Users\\Cartiboi\\anaconda3\\Lib\\site-packages\\ipykernel\\kernelapp.py\", line 701, in start\n",
            "    self.io_loop.start()\n",
            "  File \"c:\\Users\\Cartiboi\\anaconda3\\Lib\\site-packages\\tornado\\platform\\asyncio.py\", line 195, in start\n",
            "    self.asyncio_loop.run_forever()\n",
            "  File \"c:\\Users\\Cartiboi\\anaconda3\\Lib\\asyncio\\windows_events.py\", line 321, in run_forever\n",
            "    super().run_forever()\n",
            "  File \"c:\\Users\\Cartiboi\\anaconda3\\Lib\\asyncio\\base_events.py\", line 607, in run_forever\n",
            "    self._run_once()\n",
            "  File \"c:\\Users\\Cartiboi\\anaconda3\\Lib\\asyncio\\base_events.py\", line 1922, in _run_once\n",
            "    handle._run()\n",
            "  File \"c:\\Users\\Cartiboi\\anaconda3\\Lib\\asyncio\\events.py\", line 80, in _run\n",
            "    self._context.run(self._callback, *self._args)\n",
            "  File \"c:\\Users\\Cartiboi\\anaconda3\\Lib\\site-packages\\ipykernel\\kernelbase.py\", line 534, in dispatch_queue\n",
            "    await self.process_one()\n",
            "  File \"c:\\Users\\Cartiboi\\anaconda3\\Lib\\site-packages\\ipykernel\\kernelbase.py\", line 523, in process_one\n",
            "    await dispatch(*args)\n",
            "  File \"c:\\Users\\Cartiboi\\anaconda3\\Lib\\site-packages\\ipykernel\\kernelbase.py\", line 429, in dispatch_shell\n",
            "    await result\n",
            "  File \"c:\\Users\\Cartiboi\\anaconda3\\Lib\\site-packages\\ipykernel\\kernelbase.py\", line 767, in execute_request\n",
            "    reply_content = await reply_content\n",
            "  File \"c:\\Users\\Cartiboi\\anaconda3\\Lib\\site-packages\\ipykernel\\ipkernel.py\", line 429, in do_execute\n",
            "    res = shell.run_cell(\n",
            "  File \"c:\\Users\\Cartiboi\\anaconda3\\Lib\\site-packages\\ipykernel\\zmqshell.py\", line 549, in run_cell\n",
            "    return super().run_cell(*args, **kwargs)\n",
            "  File \"c:\\Users\\Cartiboi\\anaconda3\\Lib\\site-packages\\IPython\\core\\interactiveshell.py\", line 3051, in run_cell\n",
            "    result = self._run_cell(\n",
            "  File \"c:\\Users\\Cartiboi\\anaconda3\\Lib\\site-packages\\IPython\\core\\interactiveshell.py\", line 3106, in _run_cell\n",
            "    result = runner(coro)\n",
            "  File \"c:\\Users\\Cartiboi\\anaconda3\\Lib\\site-packages\\IPython\\core\\async_helpers.py\", line 129, in _pseudo_sync_runner\n",
            "    coro.send(None)\n",
            "  File \"c:\\Users\\Cartiboi\\anaconda3\\Lib\\site-packages\\IPython\\core\\interactiveshell.py\", line 3311, in run_cell_async\n",
            "    has_raised = await self.run_ast_nodes(code_ast.body, cell_name,\n",
            "  File \"c:\\Users\\Cartiboi\\anaconda3\\Lib\\site-packages\\IPython\\core\\interactiveshell.py\", line 3493, in run_ast_nodes\n",
            "    if await self.run_code(code, result, async_=asy):\n",
            "  File \"c:\\Users\\Cartiboi\\anaconda3\\Lib\\site-packages\\IPython\\core\\interactiveshell.py\", line 3553, in run_code\n",
            "    exec(code_obj, self.user_global_ns, self.user_ns)\n",
            "  File \"C:\\Users\\Cartiboi\\AppData\\Local\\Temp\\ipykernel_2236\\56569402.py\", line 1, in <module>\n",
            "    import pandas as pd;\n",
            "  File \"c:\\Users\\Cartiboi\\anaconda3\\Lib\\site-packages\\pandas\\__init__.py\", line 62, in <module>\n",
            "    from pandas.core.api import (\n",
            "  File \"c:\\Users\\Cartiboi\\anaconda3\\Lib\\site-packages\\pandas\\core\\api.py\", line 28, in <module>\n",
            "    from pandas.core.arrays import Categorical\n",
            "  File \"c:\\Users\\Cartiboi\\anaconda3\\Lib\\site-packages\\pandas\\core\\arrays\\__init__.py\", line 1, in <module>\n",
            "    from pandas.core.arrays.arrow import ArrowExtensionArray\n",
            "  File \"c:\\Users\\Cartiboi\\anaconda3\\Lib\\site-packages\\pandas\\core\\arrays\\arrow\\__init__.py\", line 5, in <module>\n",
            "    from pandas.core.arrays.arrow.array import ArrowExtensionArray\n",
            "  File \"c:\\Users\\Cartiboi\\anaconda3\\Lib\\site-packages\\pandas\\core\\arrays\\arrow\\array.py\", line 64, in <module>\n",
            "    from pandas.core.arrays.masked import BaseMaskedArray\n",
            "  File \"c:\\Users\\Cartiboi\\anaconda3\\Lib\\site-packages\\pandas\\core\\arrays\\masked.py\", line 60, in <module>\n",
            "    from pandas.core import (\n",
            "  File \"c:\\Users\\Cartiboi\\anaconda3\\Lib\\site-packages\\pandas\\core\\nanops.py\", line 52, in <module>\n",
            "    bn = import_optional_dependency(\"bottleneck\", errors=\"warn\")\n",
            "  File \"c:\\Users\\Cartiboi\\anaconda3\\Lib\\site-packages\\pandas\\compat\\_optional.py\", line 135, in import_optional_dependency\n",
            "    module = importlib.import_module(name)\n",
            "  File \"c:\\Users\\Cartiboi\\anaconda3\\Lib\\importlib\\__init__.py\", line 126, in import_module\n",
            "    return _bootstrap._gcd_import(name[level:], package, level)\n",
            "  File \"c:\\Users\\Cartiboi\\anaconda3\\Lib\\site-packages\\bottleneck\\__init__.py\", line 7, in <module>\n",
            "    from .move import (move_argmax, move_argmin, move_max, move_mean, move_median,\n"
          ]
        },
        {
          "ename": "AttributeError",
          "evalue": "_ARRAY_API not found",
          "output_type": "error",
          "traceback": [
            "\u001b[1;31m---------------------------------------------------------------------------\u001b[0m",
            "\u001b[1;31mAttributeError\u001b[0m                            Traceback (most recent call last)",
            "\u001b[1;31mAttributeError\u001b[0m: _ARRAY_API not found"
          ]
        },
        {
          "name": "stderr",
          "output_type": "stream",
          "text": [
            "\n",
            "A module that was compiled using NumPy 1.x cannot be run in\n",
            "NumPy 2.0.0 as it may crash. To support both 1.x and 2.x\n",
            "versions of NumPy, modules must be compiled with NumPy 2.0.\n",
            "Some module may need to rebuild instead e.g. with 'pybind11>=2.12'.\n",
            "\n",
            "If you are a user of the module, the easiest solution will be to\n",
            "downgrade to 'numpy<2' or try to upgrade the affected module.\n",
            "We expect that some modules will need time to support NumPy 2.\n",
            "\n",
            "Traceback (most recent call last):  File \"<frozen runpy>\", line 198, in _run_module_as_main\n",
            "  File \"<frozen runpy>\", line 88, in _run_code\n",
            "  File \"c:\\Users\\Cartiboi\\anaconda3\\Lib\\site-packages\\ipykernel_launcher.py\", line 17, in <module>\n",
            "    app.launch_new_instance()\n",
            "  File \"c:\\Users\\Cartiboi\\anaconda3\\Lib\\site-packages\\traitlets\\config\\application.py\", line 992, in launch_instance\n",
            "    app.start()\n",
            "  File \"c:\\Users\\Cartiboi\\anaconda3\\Lib\\site-packages\\ipykernel\\kernelapp.py\", line 701, in start\n",
            "    self.io_loop.start()\n",
            "  File \"c:\\Users\\Cartiboi\\anaconda3\\Lib\\site-packages\\tornado\\platform\\asyncio.py\", line 195, in start\n",
            "    self.asyncio_loop.run_forever()\n",
            "  File \"c:\\Users\\Cartiboi\\anaconda3\\Lib\\asyncio\\windows_events.py\", line 321, in run_forever\n",
            "    super().run_forever()\n",
            "  File \"c:\\Users\\Cartiboi\\anaconda3\\Lib\\asyncio\\base_events.py\", line 607, in run_forever\n",
            "    self._run_once()\n",
            "  File \"c:\\Users\\Cartiboi\\anaconda3\\Lib\\asyncio\\base_events.py\", line 1922, in _run_once\n",
            "    handle._run()\n",
            "  File \"c:\\Users\\Cartiboi\\anaconda3\\Lib\\asyncio\\events.py\", line 80, in _run\n",
            "    self._context.run(self._callback, *self._args)\n",
            "  File \"c:\\Users\\Cartiboi\\anaconda3\\Lib\\site-packages\\ipykernel\\kernelbase.py\", line 534, in dispatch_queue\n",
            "    await self.process_one()\n",
            "  File \"c:\\Users\\Cartiboi\\anaconda3\\Lib\\site-packages\\ipykernel\\kernelbase.py\", line 523, in process_one\n",
            "    await dispatch(*args)\n",
            "  File \"c:\\Users\\Cartiboi\\anaconda3\\Lib\\site-packages\\ipykernel\\kernelbase.py\", line 429, in dispatch_shell\n",
            "    await result\n",
            "  File \"c:\\Users\\Cartiboi\\anaconda3\\Lib\\site-packages\\ipykernel\\kernelbase.py\", line 767, in execute_request\n",
            "    reply_content = await reply_content\n",
            "  File \"c:\\Users\\Cartiboi\\anaconda3\\Lib\\site-packages\\ipykernel\\ipkernel.py\", line 429, in do_execute\n",
            "    res = shell.run_cell(\n",
            "  File \"c:\\Users\\Cartiboi\\anaconda3\\Lib\\site-packages\\ipykernel\\zmqshell.py\", line 549, in run_cell\n",
            "    return super().run_cell(*args, **kwargs)\n",
            "  File \"c:\\Users\\Cartiboi\\anaconda3\\Lib\\site-packages\\IPython\\core\\interactiveshell.py\", line 3051, in run_cell\n",
            "    result = self._run_cell(\n",
            "  File \"c:\\Users\\Cartiboi\\anaconda3\\Lib\\site-packages\\IPython\\core\\interactiveshell.py\", line 3106, in _run_cell\n",
            "    result = runner(coro)\n",
            "  File \"c:\\Users\\Cartiboi\\anaconda3\\Lib\\site-packages\\IPython\\core\\async_helpers.py\", line 129, in _pseudo_sync_runner\n",
            "    coro.send(None)\n",
            "  File \"c:\\Users\\Cartiboi\\anaconda3\\Lib\\site-packages\\IPython\\core\\interactiveshell.py\", line 3311, in run_cell_async\n",
            "    has_raised = await self.run_ast_nodes(code_ast.body, cell_name,\n",
            "  File \"c:\\Users\\Cartiboi\\anaconda3\\Lib\\site-packages\\IPython\\core\\interactiveshell.py\", line 3493, in run_ast_nodes\n",
            "    if await self.run_code(code, result, async_=asy):\n",
            "  File \"c:\\Users\\Cartiboi\\anaconda3\\Lib\\site-packages\\IPython\\core\\interactiveshell.py\", line 3553, in run_code\n",
            "    exec(code_obj, self.user_global_ns, self.user_ns)\n",
            "  File \"C:\\Users\\Cartiboi\\AppData\\Local\\Temp\\ipykernel_2236\\56569402.py\", line 23, in <module>\n",
            "    from lazypredict.Supervised import LazyClassifier;\n",
            "  File \"c:\\Users\\Cartiboi\\anaconda3\\Lib\\site-packages\\lazypredict\\Supervised.py\", line 30, in <module>\n",
            "    import lightgbm\n",
            "  File \"c:\\Users\\Cartiboi\\anaconda3\\Lib\\site-packages\\lightgbm\\__init__.py\", line 9, in <module>\n",
            "    from .basic import Booster, Dataset, Sequence, register_logger\n",
            "  File \"c:\\Users\\Cartiboi\\anaconda3\\Lib\\site-packages\\lightgbm\\basic.py\", line 22, in <module>\n",
            "    from .compat import (\n",
            "  File \"c:\\Users\\Cartiboi\\anaconda3\\Lib\\site-packages\\lightgbm\\compat.py\", line 152, in <module>\n",
            "    from dask.dataframe import DataFrame as dask_DataFrame\n",
            "  File \"c:\\Users\\Cartiboi\\anaconda3\\Lib\\site-packages\\dask\\dataframe\\__init__.py\", line 4, in <module>\n",
            "    import dask.dataframe._pyarrow_compat\n",
            "  File \"c:\\Users\\Cartiboi\\anaconda3\\Lib\\site-packages\\dask\\dataframe\\_pyarrow_compat.py\", line 10, in <module>\n",
            "    import pyarrow as pa\n",
            "  File \"c:\\Users\\Cartiboi\\anaconda3\\Lib\\site-packages\\pyarrow\\__init__.py\", line 65, in <module>\n",
            "    import pyarrow.lib as _lib\n"
          ]
        },
        {
          "ename": "AttributeError",
          "evalue": "_ARRAY_API not found",
          "output_type": "error",
          "traceback": [
            "\u001b[1;31m---------------------------------------------------------------------------\u001b[0m",
            "\u001b[1;31mAttributeError\u001b[0m                            Traceback (most recent call last)",
            "\u001b[1;31mAttributeError\u001b[0m: _ARRAY_API not found"
          ]
        },
        {
          "name": "stderr",
          "output_type": "stream",
          "text": [
            "\n",
            "A module that was compiled using NumPy 1.x cannot be run in\n",
            "NumPy 2.0.0 as it may crash. To support both 1.x and 2.x\n",
            "versions of NumPy, modules must be compiled with NumPy 2.0.\n",
            "Some module may need to rebuild instead e.g. with 'pybind11>=2.12'.\n",
            "\n",
            "If you are a user of the module, the easiest solution will be to\n",
            "downgrade to 'numpy<2' or try to upgrade the affected module.\n",
            "We expect that some modules will need time to support NumPy 2.\n",
            "\n",
            "Traceback (most recent call last):  File \"<frozen runpy>\", line 198, in _run_module_as_main\n",
            "  File \"<frozen runpy>\", line 88, in _run_code\n",
            "  File \"c:\\Users\\Cartiboi\\anaconda3\\Lib\\site-packages\\ipykernel_launcher.py\", line 17, in <module>\n",
            "    app.launch_new_instance()\n",
            "  File \"c:\\Users\\Cartiboi\\anaconda3\\Lib\\site-packages\\traitlets\\config\\application.py\", line 992, in launch_instance\n",
            "    app.start()\n",
            "  File \"c:\\Users\\Cartiboi\\anaconda3\\Lib\\site-packages\\ipykernel\\kernelapp.py\", line 701, in start\n",
            "    self.io_loop.start()\n",
            "  File \"c:\\Users\\Cartiboi\\anaconda3\\Lib\\site-packages\\tornado\\platform\\asyncio.py\", line 195, in start\n",
            "    self.asyncio_loop.run_forever()\n",
            "  File \"c:\\Users\\Cartiboi\\anaconda3\\Lib\\asyncio\\windows_events.py\", line 321, in run_forever\n",
            "    super().run_forever()\n",
            "  File \"c:\\Users\\Cartiboi\\anaconda3\\Lib\\asyncio\\base_events.py\", line 607, in run_forever\n",
            "    self._run_once()\n",
            "  File \"c:\\Users\\Cartiboi\\anaconda3\\Lib\\asyncio\\base_events.py\", line 1922, in _run_once\n",
            "    handle._run()\n",
            "  File \"c:\\Users\\Cartiboi\\anaconda3\\Lib\\asyncio\\events.py\", line 80, in _run\n",
            "    self._context.run(self._callback, *self._args)\n",
            "  File \"c:\\Users\\Cartiboi\\anaconda3\\Lib\\site-packages\\ipykernel\\kernelbase.py\", line 534, in dispatch_queue\n",
            "    await self.process_one()\n",
            "  File \"c:\\Users\\Cartiboi\\anaconda3\\Lib\\site-packages\\ipykernel\\kernelbase.py\", line 523, in process_one\n",
            "    await dispatch(*args)\n",
            "  File \"c:\\Users\\Cartiboi\\anaconda3\\Lib\\site-packages\\ipykernel\\kernelbase.py\", line 429, in dispatch_shell\n",
            "    await result\n",
            "  File \"c:\\Users\\Cartiboi\\anaconda3\\Lib\\site-packages\\ipykernel\\kernelbase.py\", line 767, in execute_request\n",
            "    reply_content = await reply_content\n",
            "  File \"c:\\Users\\Cartiboi\\anaconda3\\Lib\\site-packages\\ipykernel\\ipkernel.py\", line 429, in do_execute\n",
            "    res = shell.run_cell(\n",
            "  File \"c:\\Users\\Cartiboi\\anaconda3\\Lib\\site-packages\\ipykernel\\zmqshell.py\", line 549, in run_cell\n",
            "    return super().run_cell(*args, **kwargs)\n",
            "  File \"c:\\Users\\Cartiboi\\anaconda3\\Lib\\site-packages\\IPython\\core\\interactiveshell.py\", line 3051, in run_cell\n",
            "    result = self._run_cell(\n",
            "  File \"c:\\Users\\Cartiboi\\anaconda3\\Lib\\site-packages\\IPython\\core\\interactiveshell.py\", line 3106, in _run_cell\n",
            "    result = runner(coro)\n",
            "  File \"c:\\Users\\Cartiboi\\anaconda3\\Lib\\site-packages\\IPython\\core\\async_helpers.py\", line 129, in _pseudo_sync_runner\n",
            "    coro.send(None)\n",
            "  File \"c:\\Users\\Cartiboi\\anaconda3\\Lib\\site-packages\\IPython\\core\\interactiveshell.py\", line 3311, in run_cell_async\n",
            "    has_raised = await self.run_ast_nodes(code_ast.body, cell_name,\n",
            "  File \"c:\\Users\\Cartiboi\\anaconda3\\Lib\\site-packages\\IPython\\core\\interactiveshell.py\", line 3493, in run_ast_nodes\n",
            "    if await self.run_code(code, result, async_=asy):\n",
            "  File \"c:\\Users\\Cartiboi\\anaconda3\\Lib\\site-packages\\IPython\\core\\interactiveshell.py\", line 3553, in run_code\n",
            "    exec(code_obj, self.user_global_ns, self.user_ns)\n",
            "  File \"C:\\Users\\Cartiboi\\AppData\\Local\\Temp\\ipykernel_2236\\56569402.py\", line 23, in <module>\n",
            "    from lazypredict.Supervised import LazyClassifier;\n",
            "  File \"c:\\Users\\Cartiboi\\anaconda3\\Lib\\site-packages\\lazypredict\\Supervised.py\", line 30, in <module>\n",
            "    import lightgbm\n",
            "  File \"c:\\Users\\Cartiboi\\anaconda3\\Lib\\site-packages\\lightgbm\\__init__.py\", line 9, in <module>\n",
            "    from .basic import Booster, Dataset, Sequence, register_logger\n",
            "  File \"c:\\Users\\Cartiboi\\anaconda3\\Lib\\site-packages\\lightgbm\\basic.py\", line 22, in <module>\n",
            "    from .compat import (\n",
            "  File \"c:\\Users\\Cartiboi\\anaconda3\\Lib\\site-packages\\lightgbm\\compat.py\", line 152, in <module>\n",
            "    from dask.dataframe import DataFrame as dask_DataFrame\n",
            "  File \"c:\\Users\\Cartiboi\\anaconda3\\Lib\\site-packages\\dask\\dataframe\\__init__.py\", line 6, in <module>\n",
            "    from dask.dataframe import backends, dispatch, rolling\n",
            "  File \"c:\\Users\\Cartiboi\\anaconda3\\Lib\\site-packages\\dask\\dataframe\\rolling.py\", line 25, in <module>\n",
            "    from dask.dataframe.io import from_pandas\n",
            "  File \"c:\\Users\\Cartiboi\\anaconda3\\Lib\\site-packages\\dask\\dataframe\\io\\__init__.py\", line 3, in <module>\n",
            "    from dask.dataframe.io import demo\n",
            "  File \"c:\\Users\\Cartiboi\\anaconda3\\Lib\\site-packages\\dask\\dataframe\\io\\demo.py\", line 12, in <module>\n",
            "    from dask.dataframe._pyarrow import is_object_string_dtype\n",
            "  File \"c:\\Users\\Cartiboi\\anaconda3\\Lib\\site-packages\\dask\\dataframe\\_pyarrow.py\", line 12, in <module>\n",
            "    import pyarrow as pa\n",
            "  File \"c:\\Users\\Cartiboi\\anaconda3\\Lib\\site-packages\\pyarrow\\__init__.py\", line 65, in <module>\n",
            "    import pyarrow.lib as _lib\n"
          ]
        },
        {
          "ename": "AttributeError",
          "evalue": "_ARRAY_API not found",
          "output_type": "error",
          "traceback": [
            "\u001b[1;31m---------------------------------------------------------------------------\u001b[0m",
            "\u001b[1;31mAttributeError\u001b[0m                            Traceback (most recent call last)",
            "\u001b[1;31mAttributeError\u001b[0m: _ARRAY_API not found"
          ]
        },
        {
          "name": "stderr",
          "output_type": "stream",
          "text": [
            "\n",
            "A module that was compiled using NumPy 1.x cannot be run in\n",
            "NumPy 2.0.0 as it may crash. To support both 1.x and 2.x\n",
            "versions of NumPy, modules must be compiled with NumPy 2.0.\n",
            "Some module may need to rebuild instead e.g. with 'pybind11>=2.12'.\n",
            "\n",
            "If you are a user of the module, the easiest solution will be to\n",
            "downgrade to 'numpy<2' or try to upgrade the affected module.\n",
            "We expect that some modules will need time to support NumPy 2.\n",
            "\n",
            "Traceback (most recent call last):  File \"<frozen runpy>\", line 198, in _run_module_as_main\n",
            "  File \"<frozen runpy>\", line 88, in _run_code\n",
            "  File \"c:\\Users\\Cartiboi\\anaconda3\\Lib\\site-packages\\ipykernel_launcher.py\", line 17, in <module>\n",
            "    app.launch_new_instance()\n",
            "  File \"c:\\Users\\Cartiboi\\anaconda3\\Lib\\site-packages\\traitlets\\config\\application.py\", line 992, in launch_instance\n",
            "    app.start()\n",
            "  File \"c:\\Users\\Cartiboi\\anaconda3\\Lib\\site-packages\\ipykernel\\kernelapp.py\", line 701, in start\n",
            "    self.io_loop.start()\n",
            "  File \"c:\\Users\\Cartiboi\\anaconda3\\Lib\\site-packages\\tornado\\platform\\asyncio.py\", line 195, in start\n",
            "    self.asyncio_loop.run_forever()\n",
            "  File \"c:\\Users\\Cartiboi\\anaconda3\\Lib\\asyncio\\windows_events.py\", line 321, in run_forever\n",
            "    super().run_forever()\n",
            "  File \"c:\\Users\\Cartiboi\\anaconda3\\Lib\\asyncio\\base_events.py\", line 607, in run_forever\n",
            "    self._run_once()\n",
            "  File \"c:\\Users\\Cartiboi\\anaconda3\\Lib\\asyncio\\base_events.py\", line 1922, in _run_once\n",
            "    handle._run()\n",
            "  File \"c:\\Users\\Cartiboi\\anaconda3\\Lib\\asyncio\\events.py\", line 80, in _run\n",
            "    self._context.run(self._callback, *self._args)\n",
            "  File \"c:\\Users\\Cartiboi\\anaconda3\\Lib\\site-packages\\ipykernel\\kernelbase.py\", line 534, in dispatch_queue\n",
            "    await self.process_one()\n",
            "  File \"c:\\Users\\Cartiboi\\anaconda3\\Lib\\site-packages\\ipykernel\\kernelbase.py\", line 523, in process_one\n",
            "    await dispatch(*args)\n",
            "  File \"c:\\Users\\Cartiboi\\anaconda3\\Lib\\site-packages\\ipykernel\\kernelbase.py\", line 429, in dispatch_shell\n",
            "    await result\n",
            "  File \"c:\\Users\\Cartiboi\\anaconda3\\Lib\\site-packages\\ipykernel\\kernelbase.py\", line 767, in execute_request\n",
            "    reply_content = await reply_content\n",
            "  File \"c:\\Users\\Cartiboi\\anaconda3\\Lib\\site-packages\\ipykernel\\ipkernel.py\", line 429, in do_execute\n",
            "    res = shell.run_cell(\n",
            "  File \"c:\\Users\\Cartiboi\\anaconda3\\Lib\\site-packages\\ipykernel\\zmqshell.py\", line 549, in run_cell\n",
            "    return super().run_cell(*args, **kwargs)\n",
            "  File \"c:\\Users\\Cartiboi\\anaconda3\\Lib\\site-packages\\IPython\\core\\interactiveshell.py\", line 3051, in run_cell\n",
            "    result = self._run_cell(\n",
            "  File \"c:\\Users\\Cartiboi\\anaconda3\\Lib\\site-packages\\IPython\\core\\interactiveshell.py\", line 3106, in _run_cell\n",
            "    result = runner(coro)\n",
            "  File \"c:\\Users\\Cartiboi\\anaconda3\\Lib\\site-packages\\IPython\\core\\async_helpers.py\", line 129, in _pseudo_sync_runner\n",
            "    coro.send(None)\n",
            "  File \"c:\\Users\\Cartiboi\\anaconda3\\Lib\\site-packages\\IPython\\core\\interactiveshell.py\", line 3311, in run_cell_async\n",
            "    has_raised = await self.run_ast_nodes(code_ast.body, cell_name,\n",
            "  File \"c:\\Users\\Cartiboi\\anaconda3\\Lib\\site-packages\\IPython\\core\\interactiveshell.py\", line 3493, in run_ast_nodes\n",
            "    if await self.run_code(code, result, async_=asy):\n",
            "  File \"c:\\Users\\Cartiboi\\anaconda3\\Lib\\site-packages\\IPython\\core\\interactiveshell.py\", line 3553, in run_code\n",
            "    exec(code_obj, self.user_global_ns, self.user_ns)\n",
            "  File \"C:\\Users\\Cartiboi\\AppData\\Local\\Temp\\ipykernel_2236\\56569402.py\", line 23, in <module>\n",
            "    from lazypredict.Supervised import LazyClassifier;\n",
            "  File \"c:\\Users\\Cartiboi\\anaconda3\\Lib\\site-packages\\lazypredict\\Supervised.py\", line 30, in <module>\n",
            "    import lightgbm\n",
            "  File \"c:\\Users\\Cartiboi\\anaconda3\\Lib\\site-packages\\lightgbm\\__init__.py\", line 9, in <module>\n",
            "    from .basic import Booster, Dataset, Sequence, register_logger\n",
            "  File \"c:\\Users\\Cartiboi\\anaconda3\\Lib\\site-packages\\lightgbm\\basic.py\", line 22, in <module>\n",
            "    from .compat import (\n",
            "  File \"c:\\Users\\Cartiboi\\anaconda3\\Lib\\site-packages\\lightgbm\\compat.py\", line 209, in <module>\n",
            "    import pyarrow.compute as pa_compute\n",
            "  File \"c:\\Users\\Cartiboi\\anaconda3\\Lib\\site-packages\\pyarrow\\__init__.py\", line 65, in <module>\n",
            "    import pyarrow.lib as _lib\n"
          ]
        },
        {
          "ename": "AttributeError",
          "evalue": "_ARRAY_API not found",
          "output_type": "error",
          "traceback": [
            "\u001b[1;31m---------------------------------------------------------------------------\u001b[0m",
            "\u001b[1;31mAttributeError\u001b[0m                            Traceback (most recent call last)",
            "\u001b[1;31mAttributeError\u001b[0m: _ARRAY_API not found"
          ]
        }
      ],
      "source": [
        "\n",
        "import pandas as pd;\n",
        "import numpy as np;\n",
        "\n",
        "import os;\n",
        "import pickle;\n",
        "\n",
        "from sklearn.model_selection import train_test_split;\n",
        "from sklearn.preprocessing import StandardScaler;\n",
        "from sklearn.preprocessing import LabelEncoder;\n",
        "from sklearn.preprocessing import OneHotEncoder;\n",
        "from imblearn.over_sampling import RandomOverSampler, SMOTE;\n",
        "from imblearn.under_sampling import RandomUnderSampler,  ClusterCentroids;\n",
        "from imblearn.metrics import classification_report_imbalanced, geometric_mean_score;\n",
        "from sklearn.metrics import f1_score;\n",
        "import cv2;\n",
        "\n",
        "\n",
        "from sklearn.model_selection import train_test_split;\n",
        "import sklearn.datasets;\n",
        "from sklearn.metrics import accuracy_score;\n",
        "\n",
        "\n",
        "from lazypredict.Supervised import LazyClassifier;\n",
        "from xgboost import XGBClassifier;\n",
        "import lightgbm as lgb;\n",
        "from sklearn import model_selection;\n",
        "from sklearn import ensemble;\n",
        "from sklearn import svm;\n",
        "from sklearn.model_selection import train_test_split;\n",
        "from sklearn.model_selection import GridSearchCV, RandomizedSearchCV;\n",
        "from sklearn import preprocessing;\n",
        "from sklearn.ensemble import VotingClassifier;\n",
        "from sklearn.decomposition import PCA\n",
        "from sklearn.discriminant_analysis import LinearDiscriminantAnalysis as LDA\n",
        "from sklearn.ensemble import RandomForestClassifier\n",
        "import seaborn as sns;\n",
        "import matplotlib.pyplot as plt;"
      ]
    },
    {
      "cell_type": "markdown",
      "metadata": {
        "id": "KZjtn9gCOXX3"
      },
      "source": [
        "# Renaming files"
      ]
    },
    {
      "cell_type": "code",
      "execution_count": null,
      "metadata": {
        "collapsed": true,
        "id": "Oaaq-LI-ez98"
      },
      "outputs": [],
      "source": [
        "import os\n",
        "import re\n",
        "\n",
        "for label in ['COVID', 'Lung_Opacity', 'Viral_Pneumonia', 'Normal']:\n",
        "    # Chemin vers le dossier contenant vos images\n",
        "    image_folder = f'../data/raw/{label}/images'\n",
        "\n",
        "    # Vérifiez si le dossier existe\n",
        "    if not os.path.exists(image_folder):\n",
        "        print(f\"Dossier non trouvé : {image_folder}\")\n",
        "        continue\n",
        "\n",
        "    # Liste des fichiers dans le dossier\n",
        "    files = os.listdir(image_folder)\n",
        "    if not files:\n",
        "        print(f\"Aucun fichier trouvé dans le dossier : {image_folder}\")\n",
        "        continue\n",
        "\n",
        "    # Trier les fichiers de manière numérique\n",
        "    try:\n",
        "        sorted_files = sorted(files, key=lambda x: int(re.search(r'\\d+', x).group()))\n",
        "    except AttributeError:\n",
        "        print(f\"Certains fichiers ne contiennent pas de numéro dans le dossier {image_folder}\")\n",
        "        sorted_files = []\n",
        "\n",
        "    # Renommer les fichiers dans le dossier\n",
        "    for idx, file in enumerate(sorted_files):\n",
        "        old_path = os.path.join(image_folder, file)\n",
        "\n",
        "        # Vérifiez que le fichier est valide\n",
        "        if not os.path.isfile(old_path):\n",
        "            print(f\"Fichier non valide ou introuvable : {old_path}\")\n",
        "            continue\n",
        "\n",
        "        # Générer un nouveau nom pour chaque fichier\n",
        "        new_name = f\"{label}-{idx+1}.png\"\n",
        "        new_path = os.path.join(image_folder, new_name)\n",
        "\n",
        "        os.rename(old_path, new_path)\n",
        "        print(f\"Renamed {old_path} to {new_path}\")\n"
      ]
    },
    {
      "cell_type": "code",
      "execution_count": null,
      "metadata": {
        "id": "qEp7LClSPyyW"
      },
      "outputs": [],
      "source": [
        "import os\n",
        "\n",
        "# Chemin vers le dossier contenant vos images\n",
        "image_folder = '../data/raw/Viral_Pneumonia/images'\n",
        "\n",
        "# Parcourir les sous-dossiers et les fichiers\n",
        "for root, dirs, files in os.walk(image_folder):\n",
        "    for file in files:\n",
        "        # Vérifiez si le fichier contient un espace\n",
        "        if ' ' in file:\n",
        "            # Chemin actuel du fichier\n",
        "            old_path = os.path.join(root, file)\n",
        "            # Nouveau nom avec underscore\n",
        "            new_name = file.replace(' ', '_')\n",
        "            new_path = os.path.join(root, new_name)\n",
        "\n",
        "            # Renommer le fichier\n",
        "            os.rename(old_path, new_path)\n",
        "            print(f'Renamed: {old_path} -> {new_path}')\n",
        "\n",
        "\n",
        "\n"
      ]
    },
    {
      "cell_type": "markdown",
      "metadata": {
        "id": "M9QuKnwjV-uv"
      },
      "source": [
        "# ***Loading Data***"
      ]
    },
    {
      "cell_type": "code",
      "execution_count": null,
      "metadata": {
        "colab": {
          "base_uri": "https://localhost:8080/"
        },
        "collapsed": true,
        "id": "n96NnnB541tG",
        "outputId": "c4a2e08e-762f-42d6-8268-ab9fde7025f8"
      },
      "outputs": [
        {
          "name": "stdout",
          "output_type": "stream",
          "text": [
            "21165\n"
          ]
        }
      ],
      "source": [
        "import pandas as pd\n",
        "from pathlib import Path\n",
        "\n",
        "#Loading metadata\n",
        "\n",
        "#Load metadata in dataframes\n",
        "df_covid = pd.read_excel(r\"../data/raw/COVID/COVID.metadata.xlsx\")\n",
        "df_lung_opacity = pd.read_excel(r\"../data/raw/Lung_Opacity/Lung_Opacity.metadata.xlsx\")\n",
        "df_normal = pd.read_excel(r\"../data/raw/Normal/Normal.metadata.xlsx\")\n",
        "df_viral_pneumonia = pd.read_excel(r\"../data/raw/Viral_Pneumonia/Viral_Pneumonia.metadata.xlsx\")\n",
        "\n",
        "# Add LABELs for datset metadata and concatenate them\n",
        "for df, name in zip([df_covid, df_normal, df_viral_pneumonia, df_lung_opacity], ['COVID', 'Normal','Viral_Pneumonia','Lung_Opacity']):\n",
        "    df['LABEL'] = name\n",
        "# Concatenate all metadata together with tag for dataset\n",
        "metadata= pd.concat([df_covid, df_normal, df_viral_pneumonia, df_lung_opacity], axis=0, ignore_index=True)\n",
        "print(len(metadata))\n",
        "\n",
        "# Put origins of datasets in dataframe\n",
        "origin=[]\n",
        "\n",
        "\n",
        "# Create list of simplified origin names\n",
        "for url in metadata['URL']:\n",
        "    if 'rsna' in url:\n",
        "        origin.append('rsna')\n",
        "    elif 'bimcv' in url:\n",
        "        origin.append('bimcv')\n",
        "    elif 'paultimothymooney' in url:\n",
        "        origin.append('paultimothy')\n",
        "    elif 'armiro' in url:\n",
        "        origin.append('armiro')\n",
        "    elif 'eurorad' in url:\n",
        "        origin.append('eurorad')\n",
        "    elif 'ml_workgroup' in url:\n",
        "        origin.append('ml_workgroup')\n",
        "    elif 'ieee8023' in url:\n",
        "        origin.append('ieee8023')\n",
        "    else :\n",
        "        origin.append('sirm')\n",
        "\n",
        "# Transform list into dataframe\n",
        "origin_data=pd.Series(origin)\n",
        "\n",
        "# Add simplified origin column to data\n",
        "metadata['origin_data']= origin_data\n",
        "\n",
        "\n"
      ]
    },
    {
      "cell_type": "code",
      "execution_count": null,
      "metadata": {
        "id": "-wQ8hfQK_c91"
      },
      "outputs": [],
      "source": [
        "import os\n",
        "from pathlib import Path\n",
        "import pandas as pd\n",
        "\n",
        "metadata['FILE NAME'] = metadata['FILE NAME'].str.replace('NORMAL', 'Normal')\n",
        "metadata['FILE NAME'] = metadata['FILE NAME'].str.replace(' ','_')\n",
        "\n",
        "\n",
        "def add_url(df: pd.DataFrame, file_type: str = 'img', root_dir: Path = Path(\".\")) -> pd.DataFrame:\n",
        "    if file_type not in ['img', 'mask']:\n",
        "        raise ValueError(f\"Invalid file_type={file_type}. Accepted values are ['img', 'mask']\")\n",
        "\n",
        "    col = 'IMG_URL' if file_type == 'img' else 'MASK_URL'\n",
        "    folder = 'images' if file_type == 'img' else 'masks'\n",
        "\n",
        "    required_columns = ['FILE NAME', 'LABEL']\n",
        "    for required_col in required_columns:\n",
        "        if required_col not in df.columns:\n",
        "            raise ValueError(f\"Column '{required_col}' is missing from the DataFrame\")\n",
        "\n",
        "    def find_file_path(label, file_name):\n",
        "        folder_path = f'{root_dir}/data/raw/{label}/images'\n",
        "        try:\n",
        "            all_files = os.listdir(folder_path)\n",
        "        except FileNotFoundError:\n",
        "            print(f\"Dossier introuvable : {folder_path}\")\n",
        "            return None\n",
        "\n",
        "        matching_files = [f for f in all_files if file_name in f]\n",
        "        if matching_files:\n",
        "            return os.path.join(folder_path, matching_files[0])\n",
        "        else:\n",
        "            print(f\"Fichier introuvable pour : {file_name} dans {folder_path}\")\n",
        "            return None\n",
        "\n",
        "    def construct_path(row):\n",
        "        file_name = row['FILE NAME']\n",
        "        label = row['LABEL']\n",
        "        file_path = find_file_path(label, file_name)\n",
        "        return file_path\n",
        "\n",
        "    df[col] = df.apply(construct_path, axis=1)\n",
        "    return df\n",
        "\n",
        "\n",
        "\n",
        "\n",
        "\n",
        "\n",
        "\n",
        "\n",
        "metadata=add_url(df=metadata,file_type='img',root_dir=Path('/content/drive/MyDrive'))"
      ]
    },
    {
      "cell_type": "code",
      "execution_count": null,
      "metadata": {
        "id": "J9c05Y4NgJHs"
      },
      "outputs": [],
      "source": [
        "metadata.to_csv('../data/processed/metadata.csv', sep=',',index=False)"
      ]
    },
    {
      "cell_type": "code",
      "execution_count": null,
      "metadata": {
        "colab": {
          "base_uri": "https://localhost:8080/"
        },
        "id": "qcJH51kJhRj_",
        "outputId": "0082a1fc-745a-49f3-a682-8ab1f9096404"
      },
      "outputs": [
        {
          "name": "stderr",
          "output_type": "stream",
          "text": [
            "100%|██████████| 21165/21165 [16:16<00:00, 21.68it/s]\n"
          ]
        },
        {
          "name": "stdout",
          "output_type": "stream",
          "text": [
            "Data saved to img_flat.npy\n"
          ]
        }
      ],
      "source": [
        "import os\n",
        "import cv2\n",
        "from concurrent.futures import ThreadPoolExecutor\n",
        "import pandas as pd\n",
        "from tqdm import tqdm\n",
        "import numpy as np\n",
        "\n",
        "metadata=pd.read_csv('../data/processed/metadata.csv')\n",
        "\n",
        "# Exemple de dataframe pour illustrer\n",
        "# metadata = pd.DataFrame({'col1': ['image1', 'image2'], 'col6': ['path1.jpg', 'path2.jpg']})\n",
        "# data = []\n",
        "\n",
        "def load_and_flatten_image(row):\n",
        "    \"\"\"\n",
        "    Fonction pour charger une image en niveaux de gris, la redimensionner,\n",
        "    et la convertir en une liste 1D.\n",
        "    \"\"\"\n",
        "    name = row[0]  # Récupère le nom\n",
        "    path = os.path.join('../', row[1])\n",
        "\n",
        "    # Charger l'image\n",
        "    temp = cv2.imread(path, cv2.IMREAD_GRAYSCALE)\n",
        "    if temp is not None:\n",
        "        temp = temp.reshape(-1)  # Aplatir l'image\n",
        "        return temp\n",
        "    else:\n",
        "        print(f\"Image introuvable : {path}\")\n",
        "        return None\n",
        "\n",
        "# Fonction principale\n",
        "def load_images_in_parallel(metadata):\n",
        "    \"\"\"\n",
        "    Charger toutes les images en parallèle avec ThreadPoolExecutor.\n",
        "    \"\"\"\n",
        "    # Préparer les données sous forme de tuples (name, path)\n",
        "\n",
        "    rows = metadata.iloc[:, [0, metadata.shape[1] - 1]].itertuples(index=False)\n",
        "    data = []\n",
        "    with ThreadPoolExecutor() as executor:\n",
        "        # Charger les images en parallèle\n",
        "        results = list(tqdm(executor.map(load_and_flatten_image, rows), total=len(metadata)))\n",
        "    # Supprimer les None (images manquantes)\n",
        "    data = [res for res in results if res is not None]\n",
        "\n",
        "\n",
        "\n",
        "\n",
        "    return data\n",
        "\n",
        "# Appeler la fonction\n",
        "data = load_images_in_parallel(metadata)\n",
        "\n",
        "np.save('../data/processed/img_flat.npy', data)\n",
        "print('Data saved to img_flat.npy')\n",
        "data=pd.DataFrame(data)"
      ]
    },
    {
      "cell_type": "code",
      "execution_count": null,
      "metadata": {
        "id": "KHVjizStnnK7"
      },
      "outputs": [],
      "source": [
        "data=np.load('../data/processed/img_flat.npy')\n",
        "print(data.shape)\n",
        "data.astype('int8')\n",
        "data=pd.DataFrame(data)\n",
        "#data.to_csv('../data/processed/img_flat.csv',index=False)"
      ]
    },
    {
      "cell_type": "markdown",
      "metadata": {
        "id": "cMxPBOvoWM8z"
      },
      "source": [
        "# ***Separate data and apply PCA***\n",
        "\n",
        "*   Unbalanced\n",
        "*   Oversampled\n",
        "*   Undersampled\n",
        "\n",
        "\n"
      ]
    },
    {
      "cell_type": "code",
      "execution_count": null,
      "metadata": {
        "colab": {
          "base_uri": "https://localhost:8080/"
        },
        "id": "ri7PWDNBshis",
        "outputId": "604dacd0-3dcb-4dee-da78-eaf9c1163707"
      },
      "outputs": [
        {
          "name": "stdout",
          "output_type": "stream",
          "text": [
            "(21165, 89401)\n"
          ]
        }
      ],
      "source": [
        "import pandas as pd\n",
        "import numpy as np\n",
        "from sklearn.model_selection import train_test_split\n",
        "from sklearn.preprocessing import LabelEncoder\n",
        "from imblearn.under_sampling import RandomUnderSampler\n",
        "from imblearn.over_sampling import RandomOverSampler\n",
        "\n",
        "data=np.load('../data/processed/img_flat.npy')\n",
        "metadata=pd.read_csv('../data/processed/metadata.csv')\n",
        "print(data.shape)\n",
        "data.astype('int8')\n",
        "data=pd.DataFrame(data)\n",
        "\n",
        "y=metadata['LABEL']\n",
        "X=data\n",
        "\n",
        "encoder=LabelEncoder()\n",
        "y=encoder.fit_transform(y)\n",
        "y=y.astype('int8')\n",
        "\n",
        "X_train,X_test,y_train,y_test=train_test_split(X,y,test_size=0.2, random_state=321,stratify=y)\n",
        "del metadata, data"
      ]
    },
    {
      "cell_type": "code",
      "execution_count": null,
      "metadata": {
        "colab": {
          "base_uri": "https://localhost:8080/"
        },
        "id": "bVD5XwfdjhAY",
        "outputId": "f8d5f9aa-9ade-4dfc-fe2f-66d7b9fbcc82"
      },
      "outputs": [
        {
          "name": "stdout",
          "output_type": "stream",
          "text": [
            "Undersampled sample classes : {0: 1076, 1: 1076, 2: 1076, 3: 1076}\n",
            "Oversampled sample classes : {0: 8154, 1: 8154, 2: 8154, 3: 8154}\n"
          ]
        }
      ],
      "source": [
        "# Undersampling\n",
        "rUs= RandomUnderSampler()\n",
        "X_ru , y_ru= rUs.fit_resample(X_train, y_train)\n",
        "print('Undersampled sample classes :', dict(pd.Series(y_ru).value_counts()))\n",
        "\n",
        "# Oversampling\n",
        "rOs= RandomOverSampler()\n",
        "X_ro , y_ro= rOs.fit_resample(X_train, y_train)\n",
        "print('Oversampled sample classes :', dict(pd.Series(y_ro).value_counts()))"
      ]
    },
    {
      "cell_type": "code",
      "execution_count": null,
      "metadata": {
        "colab": {
          "base_uri": "https://localhost:8080/"
        },
        "id": "c_UIA7bRB5Tz",
        "outputId": "2d7fcb67-eb3b-4146-a634-ac096cb1b79b"
      },
      "outputs": [
        {
          "name": "stdout",
          "output_type": "stream",
          "text": [
            "5285\n",
            "1446\n",
            "4076\n"
          ]
        }
      ],
      "source": [
        "print(len(X_train)//3)\n",
        "print(len( X_ru)//6)\n",
        "print(len( X_ro)//6)"
      ]
    },
    {
      "cell_type": "code",
      "execution_count": null,
      "metadata": {
        "id": "_GH_Q80t41tJ"
      },
      "outputs": [],
      "source": [
        "from sklearn.decomposition import IncrementalPCA\n",
        "# Reduce dimensionality of training samples\n",
        "\n",
        "batch_size=2500\n",
        "pca=IncrementalPCA(n_components=116)\n",
        "pca_ru=IncrementalPCA(n_components=116)\n",
        "pca_ro=IncrementalPCA(n_components=116)\n",
        "\n",
        "for i in range(0,len(X_train),batch_size):\n",
        "  end_index=min(i+batch_size,len(X_train))\n",
        "  batch=X_train.iloc[i:end_index]\n",
        "  pca.partial_fit(batch)\n",
        "X_train_pca=pca.transform(X_train)\n",
        "del X_train\n",
        "\n",
        "\n",
        "for i in range(0,len(X_ru),batch_size):\n",
        "  end_index=min(i+batch_size,len(X_ru))\n",
        "  batch=X_ru.iloc[i:end_index]\n",
        "  pca_ru.partial_fit(batch)\n",
        "X_ru_pca=pca_ru.transform(X_ru)\n",
        "del X_ru\n",
        "\n",
        "for i in range(0,len(X_ro),batch_size):\n",
        "  end_index=min(i+batch_size,len(X_ro))\n",
        "  batch=X_ro.iloc[i:end_index]\n",
        "  pca_ro.partial_fit(batch)\n",
        "X_ro_pca=pca_ro.transform(X_ro)\n",
        "del X_ro\n",
        "\n",
        "# Reduce dimensionality of testing sample\n",
        "X_test_pca=pca.transform(X_test)\n",
        "X_test_ru_pca=pca_ru.transform(X_test)\n",
        "X_test_ro_pca=pca_ro.transform(X_test)\n"
      ]
    },
    {
      "cell_type": "markdown",
      "metadata": {
        "id": "0nh7imsGPc2V"
      },
      "source": [
        "Saving separated and preprocessed data"
      ]
    },
    {
      "cell_type": "code",
      "execution_count": 2,
      "metadata": {
        "colab": {
          "base_uri": "https://localhost:8080/",
          "height": 228
        },
        "id": "hB9-WrZaDKKy",
        "outputId": "3370ff4c-4a09-4683-b7ec-1221531035f7"
      },
      "outputs": [
        {
          "ename": "NameError",
          "evalue": "name 'X_train_pca' is not defined",
          "output_type": "error",
          "traceback": [
            "\u001b[1;31m---------------------------------------------------------------------------\u001b[0m",
            "\u001b[1;31mNameError\u001b[0m                                 Traceback (most recent call last)",
            "Cell \u001b[1;32mIn[2], line 1\u001b[0m\n\u001b[1;32m----> 1\u001b[0m np\u001b[38;5;241m.\u001b[39msave(\u001b[38;5;124m'\u001b[39m\u001b[38;5;124m../data/processed/X_train_pca.npy\u001b[39m\u001b[38;5;124m'\u001b[39m, X_train_pca)\n\u001b[0;32m      2\u001b[0m np\u001b[38;5;241m.\u001b[39msave(\u001b[38;5;124m'\u001b[39m\u001b[38;5;124m../data/processed/X_ru_pca.npy\u001b[39m\u001b[38;5;124m'\u001b[39m, X_ru_pca)\n\u001b[0;32m      3\u001b[0m np\u001b[38;5;241m.\u001b[39msave(\u001b[38;5;124m'\u001b[39m\u001b[38;5;124m../data/processed/X_ro_pca.npy\u001b[39m\u001b[38;5;124m'\u001b[39m, X_ro_pca)\n",
            "\u001b[1;31mNameError\u001b[0m: name 'X_train_pca' is not defined"
          ]
        }
      ],
      "source": [
        "np.save('../data/processed/X_train_pca.npy', X_train_pca)\n",
        "np.save('../data/processed/X_ru_pca.npy', X_ru_pca)\n",
        "np.save('../data/processed/X_ro_pca.npy', X_ro_pca)\n",
        "np.save('../data/processed/X_test_pca.npy', X_test_pca)\n",
        "np.save('../data/processed/X_test_ru_pca.npy', X_test_ru_pca)\n",
        "np.save('../data/processed/X_test_ro_pca.npy', X_test_ro_pca)\n",
        "np.save('../data/processed/y_train.npy', y_train)\n",
        "np.save('../data/processed/y_ru.npy', y_ru)\n",
        "np.save('../data/processed/y_ro.npy', y_ro)\n",
        "np.save('../data/processed/y_test.npy', y_test)"
      ]
    },
    {
      "cell_type": "markdown",
      "metadata": {
        "id": "FvA0mE1k_kaW"
      },
      "source": [
        "Permet d'identifier de nombre de composants nécessaire à la conservation de 90% de la variance. Ici on a identifié 116 composantes comme suffisantes"
      ]
    },
    {
      "cell_type": "code",
      "execution_count": null,
      "metadata": {
        "colab": {
          "base_uri": "https://localhost:8080/",
          "height": 309
        },
        "id": "c49q85FmvabX",
        "outputId": "fbebadf2-05f4-4f77-fe4f-034439935f7d"
      },
      "outputs": [],
      "source": [
        "# Plot dimension kept for 0.9 variance explained\n",
        "\n",
        "plt.subplots(figsize=(15,6))\n",
        "plt.subplot(1,3,1)\n",
        "plt.title('PCA Déséquilibré')\n",
        "plt.axhline(y = 0.9, color ='r', linestyle = '--')\n",
        "plt.plot(pca.explained_variance_ratio_.cumsum());\n",
        "plt.xlabel('Nombre de composantes')\n",
        "plt.ylabel('Part de variance expliquée')\n",
        "\n",
        "\n",
        "plt.subplot(1,3,2)\n",
        "plt.title('PCA Undersamplé')\n",
        "plt.axhline(y = 0.9, color ='r', linestyle = '--')\n",
        "plt.plot(pca_ru.explained_variance_ratio_.cumsum());\n",
        "plt.xlabel('Nombre de composantes')\n",
        "plt.ylabel('Part de variance expliquée')\n",
        "\n",
        "plt.subplot(1,3,3)\n",
        "plt.title('PCA Oversamplé')\n",
        "plt.axhline(y = 0.9, color ='r', linestyle = '--')\n",
        "plt.plot(pca_ro.explained_variance_ratio_.cumsum());\n",
        "plt.xlabel('Nombre de composantes')\n",
        "plt.ylabel('Part de variance expliquée')\n",
        "\n",
        "plt.savefig('../data/processed/Figures/PCA_variance_explained.png')\n",
        "plt.show()"
      ]
    },
    {
      "cell_type": "markdown",
      "metadata": {
        "id": "XaG5wIj4wJLs"
      },
      "source": [
        "# ***Model Selection***"
      ]
    },
    {
      "cell_type": "code",
      "execution_count": 2,
      "metadata": {
        "id": "TNeKdpNGDZ0I"
      },
      "outputs": [],
      "source": [
        "#Load DATA\n",
        "X_train_pca=np.load('../data/processed/X_train_pca.npy')\n",
        "X_ru_pca=np.load('../data/processed/X_ru_pca.npy')\n",
        "X_ro_pca=np.load('../data/processed/X_ro_pca.npy')\n",
        "X_test_pca=np.load('../data/processed/X_test_pca.npy')\n",
        "X_test_ru_pca=np.load('../data/processed/X_test_ru_pca.npy')\n",
        "X_test_ro_pca=np.load('../data/processed/X_test_ro_pca.npy')\n",
        "\n",
        "\n",
        "y_ro=np.load('../data/processed/y_ro.npy')\n",
        "y_ru=np.load('../data/processed/y_ru.npy')\n",
        "y_train=np.load('../data/processed/y_train.npy')\n",
        "y_test=np.load('../data/processed/y_test.npy')"
      ]
    },
    {
      "cell_type": "code",
      "execution_count": 69,
      "metadata": {
        "colab": {
          "base_uri": "https://localhost:8080/"
        },
        "id": "q_PQIggu41tS",
        "outputId": "2c6b5880-e5cf-41bc-d578-a208b5e0a932"
      },
      "outputs": [
        {
          "name": "stderr",
          "output_type": "stream",
          "text": [
            " 97%|█████████▋| 30/31 [00:45<00:01,  1.93s/it]"
          ]
        },
        {
          "name": "stdout",
          "output_type": "stream",
          "text": [
            "[LightGBM] [Info] Auto-choosing col-wise multi-threading, the overhead of testing was 0.003718 seconds.\n",
            "You can set `force_col_wise=true` to remove the overhead.\n",
            "[LightGBM] [Info] Total Bins 29580\n",
            "[LightGBM] [Info] Number of data points in the train set: 4304, number of used features: 116\n",
            "[LightGBM] [Info] Start training from score -1.386294\n",
            "[LightGBM] [Info] Start training from score -1.386294\n",
            "[LightGBM] [Info] Start training from score -1.386294\n",
            "[LightGBM] [Info] Start training from score -1.386294\n"
          ]
        },
        {
          "name": "stderr",
          "output_type": "stream",
          "text": [
            "100%|██████████| 31/31 [00:48<00:00,  1.55s/it]\n"
          ]
        }
      ],
      "source": [
        "from lazypredict.Supervised import LazyClassifier\n",
        "\n",
        "# Select models and samples\n",
        "\n",
        "# Lazypredict with full samples\n",
        "clf=LazyClassifier(verbose=0,ignore_warnings=True, custom_metric=None)\n",
        "models, predictions= clf.fit(X_train_pca,X_test_pca,y_train,y_test)\n",
        "models.to_csv(r'../data/processed/model_select_pca.csv', sep=',', index=True)\n",
        "\n",
        "# Lazypredict with undersample\n",
        "clf_ru=LazyClassifier(verbose=0,ignore_warnings=True, custom_metric=None)\n",
        "models_ru, predictions_ru= clf_ru.fit(X_ru_pca,X_test_ru_pca,y_ru,y_test)\n",
        "models_ru.to_csv(r'../data/processed/model_select_UR_pca.csv', sep=',', index=True)\n",
        "\n",
        "# Lazypredict with oversample\n",
        "clf_ro=LazyClassifier(verbose=0,ignore_warnings=True, custom_metric=None)\n",
        "models_ro, predictions_ro= clf_ro.fit(X_ro_pca,X_test_ro_pca,y_ro,y_test)\n",
        "models_ro.to_csv(r'../data/processed/model_select_OR_pca.csv', sep=',', index=True)\n",
        "\n",
        "\n"
      ]
    },
    {
      "cell_type": "code",
      "execution_count": 72,
      "metadata": {
        "colab": {
          "base_uri": "https://localhost:8080/"
        },
        "id": "c2JGeWnF41tU",
        "outputId": "809d5f7a-012b-444d-b1c2-693dfd188cba"
      },
      "outputs": [
        {
          "name": "stdout",
          "output_type": "stream",
          "text": [
            "Undersampled \n",
            " Empty DataFrame\n",
            "Columns: [Model, Accuracy, Balanced Accuracy, ROC AUC, F1 Score, Time Taken]\n",
            "Index: []\n"
          ]
        }
      ],
      "source": [
        "print('Undersampled \\n',models_ru)\n",
        "# print('Oversampled \\n', models_ro)\n",
        "# print('Unbalanced \\n', models)"
      ]
    },
    {
      "cell_type": "markdown",
      "metadata": {},
      "source": [
        "Plot Lazypredict results"
      ]
    },
    {
      "cell_type": "code",
      "execution_count": 62,
      "metadata": {},
      "outputs": [
        {
          "data": {
            "text/html": [
              "<div>\n",
              "<style scoped>\n",
              "    .dataframe tbody tr th:only-of-type {\n",
              "        vertical-align: middle;\n",
              "    }\n",
              "\n",
              "    .dataframe tbody tr th {\n",
              "        vertical-align: top;\n",
              "    }\n",
              "\n",
              "    .dataframe thead th {\n",
              "        text-align: right;\n",
              "    }\n",
              "</style>\n",
              "<table border=\"1\" class=\"dataframe\">\n",
              "  <thead>\n",
              "    <tr style=\"text-align: right;\">\n",
              "      <th></th>\n",
              "      <th>Model</th>\n",
              "      <th>Accuracy</th>\n",
              "      <th>Balanced Accuracy</th>\n",
              "      <th>ROC AUC</th>\n",
              "      <th>F1 Score</th>\n",
              "      <th>Time Taken</th>\n",
              "    </tr>\n",
              "  </thead>\n",
              "  <tbody>\n",
              "    <tr>\n",
              "      <th>0</th>\n",
              "      <td>SVC</td>\n",
              "      <td>0.82</td>\n",
              "      <td>0.79</td>\n",
              "      <td>NaN</td>\n",
              "      <td>0.82</td>\n",
              "      <td>24.54</td>\n",
              "    </tr>\n",
              "    <tr>\n",
              "      <th>1</th>\n",
              "      <td>XGBClassifier</td>\n",
              "      <td>0.81</td>\n",
              "      <td>0.78</td>\n",
              "      <td>NaN</td>\n",
              "      <td>0.81</td>\n",
              "      <td>3.39</td>\n",
              "    </tr>\n",
              "    <tr>\n",
              "      <th>2</th>\n",
              "      <td>LGBMClassifier</td>\n",
              "      <td>0.79</td>\n",
              "      <td>0.77</td>\n",
              "      <td>NaN</td>\n",
              "      <td>0.79</td>\n",
              "      <td>2.11</td>\n",
              "    </tr>\n",
              "    <tr>\n",
              "      <th>3</th>\n",
              "      <td>KNeighborsClassifier</td>\n",
              "      <td>0.77</td>\n",
              "      <td>0.75</td>\n",
              "      <td>NaN</td>\n",
              "      <td>0.77</td>\n",
              "      <td>0.41</td>\n",
              "    </tr>\n",
              "    <tr>\n",
              "      <th>4</th>\n",
              "      <td>QuadraticDiscriminantAnalysis</td>\n",
              "      <td>0.70</td>\n",
              "      <td>0.73</td>\n",
              "      <td>NaN</td>\n",
              "      <td>0.70</td>\n",
              "      <td>0.18</td>\n",
              "    </tr>\n",
              "  </tbody>\n",
              "</table>\n",
              "</div>"
            ],
            "text/plain": [
              "                           Model  Accuracy  Balanced Accuracy  ROC AUC  \\\n",
              "0                            SVC      0.82               0.79      NaN   \n",
              "1                  XGBClassifier      0.81               0.78      NaN   \n",
              "2                 LGBMClassifier      0.79               0.77      NaN   \n",
              "3           KNeighborsClassifier      0.77               0.75      NaN   \n",
              "4  QuadraticDiscriminantAnalysis      0.70               0.73      NaN   \n",
              "\n",
              "   F1 Score  Time Taken  \n",
              "0      0.82       24.54  \n",
              "1      0.81        3.39  \n",
              "2      0.79        2.11  \n",
              "3      0.77        0.41  \n",
              "4      0.70        0.18  "
            ]
          },
          "execution_count": 62,
          "metadata": {},
          "output_type": "execute_result"
        }
      ],
      "source": [
        "models=pd.read_csv(r'../data/processed/model_select_pca.csv', sep=',')\n",
        "models.head()"
      ]
    },
    {
      "cell_type": "code",
      "execution_count": 80,
      "metadata": {
        "colab": {
          "base_uri": "https://localhost:8080/",
          "height": 89
        },
        "id": "UsMzFzpeOS_c",
        "outputId": "d656aeec-138d-46d0-bf3c-e737b1d9c51a"
      },
      "outputs": [
        {
          "data": {
            "image/png": "[encoded data removed]",
            "text/plain": [
              "<Figure size 1000x600 with 1 Axes>"
            ]
          },
          "metadata": {},
          "output_type": "display_data"
        }
      ],
      "source": [
        "#Load models\n",
        "models=pd.read_csv(r'../data/processed/model_select_pca.csv', sep=',')\n",
        "models_ru=pd.read_csv(r'../data/processed/model_select_undersample_pca.csv', sep=',')\n",
        "models_ro=pd.read_csv(r'../data/processed/model_select_oversample.csv',sep=',')\n",
        "\n",
        "top_models = {'models':models.index[:5],  'models_ro':models_ro.index[:5]}  # Nom des 5 premiers modèles\n",
        "\n",
        "f1_scores = {\n",
        "    'models': models['F1 Score'][:5],\n",
        "    \n",
        "    'models_ro': models_ro['F1 Score'][:5],\n",
        "}\n",
        "\n",
        "# Tracer les courbes\n",
        "plt.figure(figsize=(10, 6))\n",
        "for key in top_models.keys():\n",
        "    plt.plot(top_models[key], f1_scores[key], marker='o', label=key)\n",
        "\n",
        "\n",
        "# Ajouter des labels et une légende\n",
        "plt.title('Comparaison des F1-Scores pour les 5 premiers modèles')\n",
        "plt.xlabel('Modèles')\n",
        "plt.ylabel('F1-Score')\n",
        "plt.ylim(0, 1)  # Optionnel : pour fixer les limites de l'axe Y\n",
        "plt.legend(title=\"Rapports\")\n",
        "plt.grid(True, linestyle='--', alpha=0.6)\n",
        "\n",
        "plt.xticks(range(len(top_models['models'])), models['Model'][:5], size='small')\n",
        "# Afficher le graphique\n",
        "plt.tight_layout()\n",
        "plt.savefig('../reports/figures/model_selection.jpg')\n",
        "plt.show()\n",
        "\n"
      ]
    },
    {
      "cell_type": "code",
      "execution_count": 81,
      "metadata": {},
      "outputs": [
        {
          "ename": "KeyError",
          "evalue": "'Model'",
          "output_type": "error",
          "traceback": [
            "\u001b[1;31m---------------------------------------------------------------------------\u001b[0m",
            "\u001b[1;31mKeyError\u001b[0m                                  Traceback (most recent call last)",
            "File \u001b[1;32mc:\\Users\\Cartiboi\\anaconda3\\Lib\\site-packages\\pandas\\core\\indexes\\base.py:3805\u001b[0m, in \u001b[0;36mIndex.get_loc\u001b[1;34m(self, key)\u001b[0m\n\u001b[0;32m   3804\u001b[0m \u001b[38;5;28;01mtry\u001b[39;00m:\n\u001b[1;32m-> 3805\u001b[0m     \u001b[38;5;28;01mreturn\u001b[39;00m \u001b[38;5;28mself\u001b[39m\u001b[38;5;241m.\u001b[39m_engine\u001b[38;5;241m.\u001b[39mget_loc(casted_key)\n\u001b[0;32m   3806\u001b[0m \u001b[38;5;28;01mexcept\u001b[39;00m \u001b[38;5;167;01mKeyError\u001b[39;00m \u001b[38;5;28;01mas\u001b[39;00m err:\n",
            "File \u001b[1;32mindex.pyx:167\u001b[0m, in \u001b[0;36mpandas._libs.index.IndexEngine.get_loc\u001b[1;34m()\u001b[0m\n",
            "File \u001b[1;32mindex.pyx:196\u001b[0m, in \u001b[0;36mpandas._libs.index.IndexEngine.get_loc\u001b[1;34m()\u001b[0m\n",
            "File \u001b[1;32mpandas\\\\_libs\\\\hashtable_class_helper.pxi:7081\u001b[0m, in \u001b[0;36mpandas._libs.hashtable.PyObjectHashTable.get_item\u001b[1;34m()\u001b[0m\n",
            "File \u001b[1;32mpandas\\\\_libs\\\\hashtable_class_helper.pxi:7089\u001b[0m, in \u001b[0;36mpandas._libs.hashtable.PyObjectHashTable.get_item\u001b[1;34m()\u001b[0m\n",
            "\u001b[1;31mKeyError\u001b[0m: 'Model'",
            "\nThe above exception was the direct cause of the following exception:\n",
            "\u001b[1;31mKeyError\u001b[0m                                  Traceback (most recent call last)",
            "Cell \u001b[1;32mIn[81], line 1\u001b[0m\n\u001b[1;32m----> 1\u001b[0m models_ro[\u001b[38;5;124m'\u001b[39m\u001b[38;5;124mModel\u001b[39m\u001b[38;5;124m'\u001b[39m][:\u001b[38;5;241m5\u001b[39m]\n",
            "File \u001b[1;32mc:\\Users\\Cartiboi\\anaconda3\\Lib\\site-packages\\pandas\\core\\frame.py:4102\u001b[0m, in \u001b[0;36mDataFrame.__getitem__\u001b[1;34m(self, key)\u001b[0m\n\u001b[0;32m   4100\u001b[0m \u001b[38;5;28;01mif\u001b[39;00m \u001b[38;5;28mself\u001b[39m\u001b[38;5;241m.\u001b[39mcolumns\u001b[38;5;241m.\u001b[39mnlevels \u001b[38;5;241m>\u001b[39m \u001b[38;5;241m1\u001b[39m:\n\u001b[0;32m   4101\u001b[0m     \u001b[38;5;28;01mreturn\u001b[39;00m \u001b[38;5;28mself\u001b[39m\u001b[38;5;241m.\u001b[39m_getitem_multilevel(key)\n\u001b[1;32m-> 4102\u001b[0m indexer \u001b[38;5;241m=\u001b[39m \u001b[38;5;28mself\u001b[39m\u001b[38;5;241m.\u001b[39mcolumns\u001b[38;5;241m.\u001b[39mget_loc(key)\n\u001b[0;32m   4103\u001b[0m \u001b[38;5;28;01mif\u001b[39;00m is_integer(indexer):\n\u001b[0;32m   4104\u001b[0m     indexer \u001b[38;5;241m=\u001b[39m [indexer]\n",
            "File \u001b[1;32mc:\\Users\\Cartiboi\\anaconda3\\Lib\\site-packages\\pandas\\core\\indexes\\base.py:3812\u001b[0m, in \u001b[0;36mIndex.get_loc\u001b[1;34m(self, key)\u001b[0m\n\u001b[0;32m   3807\u001b[0m     \u001b[38;5;28;01mif\u001b[39;00m \u001b[38;5;28misinstance\u001b[39m(casted_key, \u001b[38;5;28mslice\u001b[39m) \u001b[38;5;129;01mor\u001b[39;00m (\n\u001b[0;32m   3808\u001b[0m         \u001b[38;5;28misinstance\u001b[39m(casted_key, abc\u001b[38;5;241m.\u001b[39mIterable)\n\u001b[0;32m   3809\u001b[0m         \u001b[38;5;129;01mand\u001b[39;00m \u001b[38;5;28many\u001b[39m(\u001b[38;5;28misinstance\u001b[39m(x, \u001b[38;5;28mslice\u001b[39m) \u001b[38;5;28;01mfor\u001b[39;00m x \u001b[38;5;129;01min\u001b[39;00m casted_key)\n\u001b[0;32m   3810\u001b[0m     ):\n\u001b[0;32m   3811\u001b[0m         \u001b[38;5;28;01mraise\u001b[39;00m InvalidIndexError(key)\n\u001b[1;32m-> 3812\u001b[0m     \u001b[38;5;28;01mraise\u001b[39;00m \u001b[38;5;167;01mKeyError\u001b[39;00m(key) \u001b[38;5;28;01mfrom\u001b[39;00m \u001b[38;5;21;01merr\u001b[39;00m\n\u001b[0;32m   3813\u001b[0m \u001b[38;5;28;01mexcept\u001b[39;00m \u001b[38;5;167;01mTypeError\u001b[39;00m:\n\u001b[0;32m   3814\u001b[0m     \u001b[38;5;66;03m# If we have a listlike key, _check_indexing_error will raise\u001b[39;00m\n\u001b[0;32m   3815\u001b[0m     \u001b[38;5;66;03m#  InvalidIndexError. Otherwise we fall through and re-raise\u001b[39;00m\n\u001b[0;32m   3816\u001b[0m     \u001b[38;5;66;03m#  the TypeError.\u001b[39;00m\n\u001b[0;32m   3817\u001b[0m     \u001b[38;5;28mself\u001b[39m\u001b[38;5;241m.\u001b[39m_check_indexing_error(key)\n",
            "\u001b[1;31mKeyError\u001b[0m: 'Model'"
          ]
        }
      ],
      "source": [
        "models_ro['Model'][:5]"
      ]
    },
    {
      "cell_type": "markdown",
      "metadata": {
        "id": "Z33q_0f2xHi3"
      },
      "source": [
        "# ***Feature Selection***"
      ]
    },
    {
      "cell_type": "markdown",
      "metadata": {
        "id": "S2Gm-8Zi7FaV"
      },
      "source": [
        "For Unbalanced data"
      ]
    },
    {
      "cell_type": "code",
      "execution_count": 3,
      "metadata": {
        "id": "HkvDernn41tV"
      },
      "outputs": [
        {
          "name": "stdout",
          "output_type": "stream",
          "text": [
            "Fitting 5 folds for each of 36 candidates, totalling 180 fits\n",
            "{'SVC': {'best_params': {'C': 0.1, 'gamma': 1, 'kernel': 'poly'}, 'best_cv_score': np.float64(0.6706888600753966), 'test_accuracy': 0.6737538388849516}}\n"
          ]
        },
        {
          "data": {
            "image/png": "[encoded data removed]",
            "text/plain": [
              "<Figure size 1000x600 with 1 Axes>"
            ]
          },
          "metadata": {},
          "output_type": "display_data"
        }
      ],
      "source": [
        "from sklearn import model_selection\n",
        "from sklearn import ensemble\n",
        "from sklearn import svm\n",
        "from sklearn.model_selection import train_test_split\n",
        "from sklearn.model_selection import RandomizedSearchCV, GridSearchCV\n",
        "from sklearn import preprocessing\n",
        "import seaborn as sns\n",
        "import matplotlib.pyplot as plt\n",
        "from sklearn.metrics import accuracy_score\n",
        "import lightgbm as lgbm\n",
        "from sklearn.svm import SVC\n",
        "import pandas as pd\n",
        "import matplotlib.pyplot as plt\n",
        "import numpy as np\n",
        "clf_svc=SVC()\n",
        "\n",
        "svc_params = {\n",
        "    'C': [0.1, 1, 10],\n",
        "    'gamma': [1, 0.1, 0.01, 0.001],\n",
        "    'kernel': ['linear','poly','rbf']\n",
        "    }\n",
        "\n",
        "results={}\n",
        "\n",
        "\n",
        "\n",
        "############################## SVC Classifier #############################################\n",
        "\n",
        "grid_svc= GridSearchCV(estimator=clf_svc, param_grid=svc_params, scoring='f1_weighted', n_jobs=-1, verbose=2)\n",
        "# Create a DataFrame for easier manipulation\n",
        "df_train = pd.DataFrame(X_train_pca)\n",
        "df_train['label'] = y_train\n",
        "\n",
        "# Sample 500 data points per class\n",
        "sampled_data = []\n",
        "\n",
        "class_data = df_train.sample(n=400, random_state=42) # Use random_state for reproducibility\n",
        "sampled_data.append(class_data)\n",
        "\n",
        "# Concatenate the sampled data\n",
        "sampled_df = pd.concat(sampled_data)\n",
        "\n",
        "# Separate features and labels again\n",
        "X_train_sampled = sampled_df.drop('label', axis=1).values\n",
        "y_train_sampled = sampled_df['label'].values\n",
        "\n",
        "\n",
        "grid_svc.fit(X_train_sampled,y_train_sampled)\n",
        "\n",
        "best_params=grid_svc.best_params_\n",
        "best_score= grid_svc.best_score_\n",
        "\n",
        "y_pred=grid_svc.predict(X_test_pca)\n",
        "test_accuracy= accuracy_score(y_test, y_pred)  # Changed to accuracy_score for multi-class\n",
        "\n",
        "\n",
        "# Stocker les résultats\n",
        "results['SVC']= {\n",
        "            'best_params': best_params,\n",
        "            'best_cv_score': best_score,\n",
        "            'test_accuracy': test_accuracy\n",
        "        }\n",
        "\n",
        "\n",
        "print(results)\n",
        "\n",
        "# Récupérer les résultats\n",
        "result_search = grid_svc.cv_results_\n",
        "\n",
        "# Extraire les scores moyens pour chaque essai\n",
        "mean_test_scores = result_search['mean_test_score']\n",
        "\n",
        "# Tracer le F1-score en fonction des essais\n",
        "plt.figure(figsize=(10, 6))\n",
        "plt.plot(range(1, len(mean_test_scores) + 1), mean_test_scores, marker='o')\n",
        "plt.title('F1-Score vs. RandomizedSearchCV Iterations')\n",
        "plt.xlabel('Iteration')\n",
        "plt.ylabel('F1-Score')\n",
        "plt.grid(True)\n",
        "plt.savefig('../reports/figures/GridSearch_F1_score_pca.png')\n",
        "\n",
        "plt.show()\n",
        "\n",
        "\n",
        "np.save('../data/processed/results_pca.npy', results)"
      ]
    },
    {
      "cell_type": "markdown",
      "metadata": {
        "id": "2F9t0iIv7Nxt"
      },
      "source": [
        "For Undersampled data"
      ]
    },
    {
      "cell_type": "code",
      "execution_count": 86,
      "metadata": {
        "id": "P1HTXwci41tW"
      },
      "outputs": [
        {
          "name": "stdout",
          "output_type": "stream",
          "text": [
            "Best Parameters: {'C': 0.1, 'gamma': 1, 'kernel': 'poly'}\n",
            "Best CV Score: 0.6408370035444471\n",
            "Test Accuracy: 0.6428065201984409\n"
          ]
        },
        {
          "data": {
            "image/png": "[encoded data removed]",
            "text/plain": [
              "<Figure size 1000x600 with 1 Axes>"
            ]
          },
          "metadata": {},
          "output_type": "display_data"
        },
        {
          "name": "stdout",
          "output_type": "stream",
          "text": [
            "{'SVC': {'best_params': {'C': 0.1, 'gamma': 1, 'kernel': 'poly'}, 'best_cv_score': np.float64(0.6408370035444471), 'test_accuracy': 0.6428065201984409}}\n"
          ]
        }
      ],
      "source": [
        "\n",
        "from sklearn import model_selection\n",
        "from sklearn import ensemble\n",
        "from sklearn import svm\n",
        "from sklearn.model_selection import train_test_split\n",
        "from sklearn.model_selection import RandomizedSearchCV\n",
        "from sklearn import preprocessing\n",
        "import seaborn as sns\n",
        "import matplotlib.pyplot as plt\n",
        "from sklearn.metrics import accuracy_score\n",
        "import lightgbm as lgbm\n",
        "from sklearn.svm import SVC\n",
        "\n",
        "\n",
        "clf_svc=SVC()\n",
        "\n",
        "svc_params = {\n",
        "    'C': [0.1, 1, 10],\n",
        "    'gamma': [1, 0.1, 0.01, 0.001],\n",
        "    'kernel': ['linear','poly','rbf']\n",
        "    }\n",
        "\n",
        "results={}\n",
        "\n",
        "\n",
        "\n",
        "############################## SVC Classifier #############################################\n",
        "grid_svc= GridSearchCV(estimator=clf_svc, param_grid=svc_params, scoring='f1_weighted', n_jobs=-1)\n",
        "\n",
        "# Create a DataFrame for easier manipulation\n",
        "df_train = pd.DataFrame(X_ru_pca)\n",
        "df_train['label'] = y_ru\n",
        "\n",
        "# Sample 500 data points per class\n",
        "sampled_data = []\n",
        "for class_label in df_train['label'].unique():\n",
        "    class_data = df_train[df_train['label'] == class_label].sample(n=100, random_state=42) # Use random_state for reproducibility\n",
        "    sampled_data.append(class_data)\n",
        "\n",
        "# Concatenate the sampled data\n",
        "sampled_df = pd.concat(sampled_data)\n",
        "\n",
        "# Separate features and labels again\n",
        "X_train_sampled = sampled_df.drop('label', axis=1).values\n",
        "y_train_sampled = sampled_df['label'].values\n",
        "\n",
        "\n",
        "\n",
        "\n",
        "\n",
        "grid_svc.fit(X_train_sampled,y_train_sampled)\n",
        "\n",
        "best_params=grid_svc.best_params_\n",
        "best_score= grid_svc.best_score_\n",
        "\n",
        "y_pred=grid_svc.predict(X_test_ru_pca)\n",
        "test_accuracy= accuracy_score(y_test, y_pred)\n",
        "\n",
        "# Stocker les résultats\n",
        "results = {\n",
        "    'SVC': {\n",
        "        'best_params': best_params,\n",
        "        'best_cv_score': best_score,\n",
        "        'test_accuracy': test_accuracy\n",
        "    }\n",
        "}\n",
        "\n",
        "# Afficher les résultats\n",
        "print(\"Best Parameters:\", best_params)\n",
        "print(\"Best CV Score:\", best_score)\n",
        "print(\"Test Accuracy:\", test_accuracy)\n",
        "\n",
        "# Récupérer les résultats\n",
        "result_search = grid_svc.cv_results_\n",
        "\n",
        "# Extraire les scores moyens pour chaque essai\n",
        "mean_test_scores = result_search['mean_test_score']\n",
        "\n",
        "# Tracer le F1-score en fonction des essais\n",
        "plt.figure(figsize=(10, 6))\n",
        "plt.plot(range(1, len(mean_test_scores) + 1), mean_test_scores, marker='o')\n",
        "plt.title('F1-Score vs. RandomizedSearchCV Iterations')\n",
        "plt.xlabel('Iteration')\n",
        "plt.ylabel('F1-Score')\n",
        "plt.grid(True)\n",
        "plt.savefig('../reports/figures/GridSearch_F1_score_UR_pca.png')\n",
        "plt.show()\n",
        "\n",
        "\n",
        "\n",
        "\n",
        "np.save('../data/processed/results_UR_pca.npy', results)\n",
        "print(results)"
      ]
    },
    {
      "cell_type": "markdown",
      "metadata": {
        "id": "CJB2Hp7f8C4m"
      },
      "source": [
        "For Oversampled data\n"
      ]
    },
    {
      "cell_type": "code",
      "execution_count": 82,
      "metadata": {
        "id": "KdRBQzmt8ByS"
      },
      "outputs": [
        {
          "name": "stdout",
          "output_type": "stream",
          "text": [
            "Best Parameters: {'C': 0.1, 'gamma': 1, 'kernel': 'linear'}\n",
            "Best CV Score: 0.6804249619277465\n",
            "Test Accuracy: 0.5858729033782187\n"
          ]
        },
        {
          "data": {
            "image/png": "[encoded data removed]",
            "text/plain": [
              "<Figure size 1000x600 with 1 Axes>"
            ]
          },
          "metadata": {},
          "output_type": "display_data"
        },
        {
          "name": "stdout",
          "output_type": "stream",
          "text": [
            "{'SVC': {'best_params': {'C': 0.1, 'gamma': 1, 'kernel': 'linear'}, 'best_cv_score': np.float64(0.6804249619277465), 'test_accuracy': 0.5858729033782187}}\n"
          ]
        }
      ],
      "source": [
        "from sklearn import model_selection\n",
        "from sklearn import ensemble\n",
        "from sklearn import svm\n",
        "from sklearn.model_selection import train_test_split\n",
        "from sklearn.model_selection import RandomizedSearchCV\n",
        "from sklearn import preprocessing\n",
        "import seaborn as sns\n",
        "import matplotlib.pyplot as plt\n",
        "from sklearn.metrics import accuracy_score\n",
        "import lightgbm as lgbm\n",
        "from sklearn.svm import SVC\n",
        "\n",
        "\n",
        "\n",
        "\n",
        "clf_svc=SVC()\n",
        "\n",
        "svc_params = {\n",
        "    'C': [0.1, 1, 10],\n",
        "    'gamma': [1, 0.1, 0.01, 0.001],\n",
        "    'kernel': ['linear','poly','rbf']\n",
        "    }\n",
        "\n",
        "results={}\n",
        "\n",
        "\n",
        "############################## SVC Classifier #############################################\n",
        "grid_svc= GridSearchCV(estimator=clf_svc, param_grid=svc_params, scoring='f1_weighted', n_jobs=-1)\n",
        "\n",
        "\n",
        "# Create a DataFrame for easier manipulation\n",
        "df_train = pd.DataFrame(X_ro_pca)\n",
        "df_train['label'] = y_ro\n",
        "\n",
        "# Sample 500 data points per class\n",
        "sampled_data = []\n",
        "for class_label in df_train['label'].unique():\n",
        "    class_data = df_train[df_train['label'] == class_label].sample(n=100, random_state=42) # Use random_state for reproducibility\n",
        "    sampled_data.append(class_data)\n",
        "\n",
        "# Concatenate the sampled data\n",
        "sampled_df = pd.concat(sampled_data)\n",
        "\n",
        "# Separate features and labels again\n",
        "X_train_sampled = sampled_df.drop('label', axis=1).values\n",
        "y_train_sampled = sampled_df['label'].values\n",
        "\n",
        "\n",
        "grid_svc.fit(X_train_sampled,y_train_sampled)\n",
        "\n",
        "best_params=grid_svc.best_params_\n",
        "best_score= grid_svc.best_score_\n",
        "\n",
        "y_pred=grid_svc.predict(X_test_ro_pca)\n",
        "test_accuracy= accuracy_score(y_test, y_pred)\n",
        "\n",
        "# Stocker les résultats\n",
        "results = {\n",
        "    'SVC': {\n",
        "        'best_params': best_params,\n",
        "        'best_cv_score': best_score,\n",
        "        'test_accuracy': test_accuracy\n",
        "    }\n",
        "}\n",
        "\n",
        "# Afficher les résultats\n",
        "print(\"Best Parameters:\", best_params)\n",
        "print(\"Best CV Score:\", best_score)\n",
        "print(\"Test Accuracy:\", test_accuracy)\n",
        "\n",
        "# Récupérer les résultats\n",
        "result_search = grid_svc.cv_results_\n",
        "\n",
        "# Extraire les scores moyens pour chaque essai\n",
        "mean_test_scores = result_search['mean_test_score']\n",
        "\n",
        "# Tracer le F1-score en fonction des essais\n",
        "plt.figure(figsize=(10, 6))\n",
        "plt.plot(range(1, len(mean_test_scores) + 1), mean_test_scores, marker='o')\n",
        "plt.title('F1-Score vs. GridSearchCV Iterations')\n",
        "plt.xlabel('Iteration')\n",
        "plt.ylabel('F1-Score')\n",
        "plt.grid(True)\n",
        "\n",
        "plt.savefig('../reports/figures/GridSearch_F1_score_OR_pca.png')\n",
        "plt.show()\n",
        "\n",
        "\n",
        "\n",
        "\n",
        "np.save('../data/processed/results_OR_pca.npy', results)\n",
        "\n",
        "print(results)"
      ]
    },
    {
      "cell_type": "markdown",
      "metadata": {},
      "source": [
        "# ***Model fitting***"
      ]
    },
    {
      "cell_type": "markdown",
      "metadata": {},
      "source": [
        "SVC models"
      ]
    },
    {
      "cell_type": "code",
      "execution_count": null,
      "metadata": {
        "id": "jH0VN1V4AJBh"
      },
      "outputs": [],
      "source": [
        "import pickle\n",
        "import sklearn.model_selection\n",
        "from sklearn.svm import LinearSVC\n",
        "from imblearn.metrics import classification_report_imbalanced\n",
        "from sklearn.metrics import accuracy_score\n",
        "from sklearn.svm import SVC\n",
        "\n",
        "\n",
        "\n",
        "\n",
        "svc_unba=SVC(C= 1, gamma= 0.1, kernel= 'poly')\n",
        "svc_or=LinearSVC(C= 1, max_iter=1000, tol=1e-4)\n",
        "#svc_or=SVC(C= 1, gamma=0.1,kernel='linear', tol=1e-4)\n",
        "\n",
        "#######  Unbalanced\n",
        "print('Model fitting')\n",
        "svc_unba.fit(X_train_pca,y_train)\n",
        "print('Model fitted')\n",
        "print('predicting')\n",
        "y_pred_unba=svc_unba.predict(X_test_pca)\n",
        "print('predicting done')\n",
        "print('calculating accuracy')\n",
        "test_accuracy_unba= accuracy_score(y_test, y_pred_unba)\n",
        "print('accuracy calculated')\n",
        "print(test_accuracy_unba)\n",
        "classif=classification_report_imbalanced(y_test,y_pred_unba, output_dict=True)\n",
        "classif=pd.DataFrame(classif)\n",
        "classif.to_csv('/content/drive/MyDrive/data/processed/SVC_Unbalanced_report.csv', index=True)\n",
        "#Saving trained model\n",
        "print('saving model')\n",
        "SVC_unbalanced='/content/drive/MyDrive/data/processed/AC_ML_SVC_Unbalanced.pkl'\n",
        "with open(SVC_unbalanced,'wb') as file:\n",
        "    pickle.dump(svc_unba,file)\n",
        "\n",
        "\n",
        "\n",
        "#######  Oversampled\n",
        "print('Model fitting')\n",
        "svc_or.fit(X_ro_pca,y_ro)\n",
        "print('Model fitted')\n",
        "print('predicting')\n",
        "y_pred_ro=svc_or.predict(X_test_ro_pca)\n",
        "print('predicting done')\n",
        "print('calculating accuracy')\n",
        "test_accuracy_ro= accuracy_score(y_test, y_pred_ro)\n",
        "print('accuracy calculated')\n",
        "print(test_accuracy_ro)\n",
        "classif_ro=classification_report_imbalanced(y_test,y_pred_ro, output_dict=True)\n",
        "classif_ro=pd.DataFrame(classif_ro)\n",
        "classif.to_csv('/content/drive/MyDrive/data/processed/SVC_Oversampled_report.csv', index=True)\n",
        "#Saving trained model\n",
        "print('saving model')\n",
        "SVC_oversampled='/content/drive/MyDrive/data/processed/AC_ML_SVC_Oversampled.pkl'\n",
        "with open(SVC_oversampled,'wb') as file:\n",
        "    pickle.dump(svc_or,file)"
      ]
    },
    {
      "cell_type": "markdown",
      "metadata": {},
      "source": [
        "SVC results plotting"
      ]
    },
    {
      "cell_type": "code",
      "execution_count": null,
      "metadata": {},
      "outputs": [],
      "source": [
        "import matplotlib.pyplot as plt\n",
        "import numpy as np\n",
        "import pandas as pd\n",
        "\n",
        "# Exemple de rapports (à remplacer par vos données réelles)\n",
        "# Les F1-scores doivent être extraits de vos rapports\n",
        "\n",
        "f1_classif = [classif['0'][3], classif['1'][3], classif['2'][3], classif['3'][3], classif['avg_pre'][3]]  # Par exemple pour classif\n",
        "f1_classif_ro = [classif_ro['0'][3], classif_ro['1'][3], classif_ro['2'][3], classif_ro['3'][3], classif_ro['avg_pre'][3]]  # Par exemple pour classif_ro\n",
        "\n",
        "# Classes\n",
        "classes = ['Classe 0', 'Classe 1', 'Classe 2', 'Classe 3', 'Average']\n",
        "\n",
        "# Créer un DataFrame pour plus de flexibilité\n",
        "df = pd.DataFrame({\n",
        "    'classif': f1_classif,\n",
        "\n",
        "    'classif_ro': f1_classif_ro,\n",
        "}, index=classes)\n",
        "\n",
        "# Tracer le graphique\n",
        "x = np.arange(len(classes))  # La position des groupes de barres\n",
        "width = 0.25  # Largeur des barres\n",
        "\n",
        "fig, ax = plt.subplots(figsize=(10, 6))\n",
        "\n",
        "# Ajouter les barres\n",
        "ax.bar(x - width, df['classif'], width, label='Raw')\n",
        "ax.bar(x + width, df['classif_ro'], width, label='Oversample')\n",
        "\n",
        "# Ajouter des labels et une légende\n",
        "ax.set_xlabel('Classes')\n",
        "ax.set_ylabel('F1-Score')\n",
        "ax.set_title('SVC Comparaison des F1-Scores par Classe')\n",
        "ax.set_xticks(range(len(classes)))\n",
        "ax.set_xticklabels(classes)\n",
        "ax.legend()\n",
        "\n",
        "# Ajouter les valeurs au-dessus des barres\n",
        "for i in range(len(classes)):\n",
        "    ax.text(x[i] - width, df['classif'][i] + 0.01, f\"{df['classif'][i]:.2f}\", ha='right')\n",
        "    ax.text(x[i] + width, df['classif_ro'][i] + 0.01, f\"{df['classif_ro'][i]:.2f}\", ha='left')\n",
        "\n",
        "plt.tight_layout()\n",
        "fig.savefig('/content/drive/MyDrive/data/processed/Figures/SVC_Models_fitting.png')\n",
        "plt.show()"
      ]
    },
    {
      "cell_type": "markdown",
      "metadata": {},
      "source": [
        "XGB Models"
      ]
    },
    {
      "cell_type": "code",
      "execution_count": null,
      "metadata": {},
      "outputs": [],
      "source": [
        "xgb_unba=XGBClassifier(device='gpu',colsample_bytree= 0.7, max_depth= 3, tree_method= 'gpu_hist')\n",
        "xgb_or=XGBClassifier(device='gpu',colsample_bytree= 0.7, max_depth= 3, tree_method= 'gpu_hist')\n",
        "\n",
        "#######  Unbalanced\n",
        "xgb_unba.fit(X_train_pca,y_train)\n",
        "y_pred_unba=xgb_unba.predict(X_test_pca)\n",
        "test_accuracy_unba= accuracy_score(y_test, y_pred_unba)\n",
        "classif=classification_report_imbalanced(y_test,y_pred_unba, output_dict=True)\n",
        "classif=pd.DataFrame(classif)\n",
        "classif.to_csv('/content/drive/MyDrive/data/processed/XGB_Unbalanced_report.csv', index=True)\n",
        "\n",
        "#Saving trained model\n",
        "print('saving model')\n",
        "XGB_unbalanced='/content/drive/MyDrive/data/processed/AC_ML_XGB_Unbalanced.pkl'\n",
        "with open(XGB_unbalanced,'wb') as file:\n",
        "    pickle.dump(xgb_unba,file)\n",
        "\n",
        "\n",
        "#######  Oversampled\n",
        "xgb_or.fit(X_ro_pca,y_ro)\n",
        "y_pred_or=xgb_or.predict(X_test_ro_pca)\n",
        "test_accuracy_or= accuracy_score(y_test, y_pred_or)\n",
        "classif_ro=classification_report_imbalanced(y_test,y_pred_or, output_dict=True)\n",
        "classif_ro=pd.DataFrame(classif_ro)\n",
        "classif_ro.to_csv('/content/drive/MyDrive/data/processed/XGB_Oversampled_report.csv', index=True)\n",
        "\n",
        "#Saving trained model\n",
        "print('saving model')\n",
        "XGB_oversampled='/content/drive/MyDrive/data/processed/AC_ML_XGB_Oversampled.pkl'\n",
        "with open(XGB_oversampled,'wb') as file:\n",
        "    pickle.dump(xgb_or,file)\n"
      ]
    },
    {
      "cell_type": "markdown",
      "metadata": {},
      "source": [
        "XGB results plotting"
      ]
    },
    {
      "cell_type": "code",
      "execution_count": null,
      "metadata": {},
      "outputs": [],
      "source": [
        "import matplotlib.pyplot as plt\n",
        "import numpy as np\n",
        "import pandas as pd\n",
        "\n",
        "# Exemple de rapports (à remplacer par vos données réelles)\n",
        "# Les F1-scores doivent être extraits de vos rapports\n",
        "\n",
        "f1_classif = [classif['0'][3], classif['1'][3], classif['2'][3], classif['3'][3], classif['avg_pre'][3]]  # Par exemple pour classif\n",
        "f1_classif_ro = [classif_ro['0'][3], classif_ro['1'][3], classif_ro['2'][3], classif_ro['3'][3], classif_ro['avg_pre'][3]]  # Par exemple pour classif_ro\n",
        "\n",
        "# Classes\n",
        "classes = ['Classe 0', 'Classe 1', 'Classe 2', 'Classe 3', 'Average']\n",
        "\n",
        "# Créer un DataFrame pour plus de flexibilité\n",
        "df = pd.DataFrame({\n",
        "    'classif': f1_classif,\n",
        "\n",
        "    'classif_ro': f1_classif_ro,\n",
        "}, index=classes)\n",
        "\n",
        "# Tracer le graphique\n",
        "x = np.arange(len(classes))  # La position des groupes de barres\n",
        "width = 0.25  # Largeur des barres\n",
        "\n",
        "fig, ax = plt.subplots(figsize=(10, 6))\n",
        "\n",
        "# Ajouter les barres\n",
        "ax.bar(x - width, df['classif'], width, label='Raw')\n",
        "ax.bar(x + width, df['classif_ro'], width, label='Oversample')\n",
        "\n",
        "# Ajouter des labels et une légende\n",
        "ax.set_xlabel('Classes')\n",
        "ax.set_ylabel('F1-Score')\n",
        "ax.set_title('XGB Comparaison des F1-Scores par Classe')\n",
        "ax.set_xticks(range(len(classes)))\n",
        "ax.set_xticklabels(classes)\n",
        "ax.legend()\n",
        "\n",
        "# Ajouter les valeurs au-dessus des barres\n",
        "for i in range(len(classes)):\n",
        "    ax.text(x[i] - width, df['classif'][i] + 0.01, f\"{df['classif'][i]:.2f}\", ha='right')\n",
        "    ax.text(x[i] + width, df['classif_ro'][i] + 0.01, f\"{df['classif_ro'][i]:.2f}\", ha='left')\n",
        "\n",
        "plt.tight_layout()\n",
        "fig.savefig('/content/drive/MyDrive/data/processed/Figures/XGB_Models_fitting.png')\n",
        "plt.show()"
      ]
    },
    {
      "cell_type": "markdown",
      "metadata": {},
      "source": [
        "# ***Models Cross-validation***"
      ]
    },
    {
      "cell_type": "markdown",
      "metadata": {},
      "source": [
        "KFold cross-validation for XGB Oversampled"
      ]
    },
    {
      "cell_type": "code",
      "execution_count": null,
      "metadata": {},
      "outputs": [],
      "source": [
        "from sklearn.model_selection import KFold\n",
        "from sklearn.model_selection import cross_val_score\n",
        "# Instance of KFold\n",
        "k = 10\n",
        "kf = KFold(n_splits=k, shuffle=True, random_state=42)\n",
        "\n",
        "# Group all data together\n",
        "X_roval=np.vstack((X_ro_pca, X_test_ro_pca))\n",
        "y_roval=np.hstack((y_ro,y_test))\n",
        "\n",
        "model_pkl_file='/content/drive/MyDrive/data/processed/AC_ML_XGB_Oversampled.pkl'\n",
        "with open(model_pkl_file, 'rb') as file:\n",
        "    model = pickle.load(file)\n",
        "\n",
        "print(model.score(X_roval, y_roval))\n",
        "\n",
        "scores = cross_val_score(model, X_roval, y_roval, cv=kf, scoring='f1_weighted')\n",
        "print(scores)\n",
        "print('Pour une moyenne de:', np.mean(scores))"
      ]
    },
    {
      "cell_type": "markdown",
      "metadata": {},
      "source": [
        "KFold cross-validation for XGB Unbalanced"
      ]
    },
    {
      "cell_type": "code",
      "execution_count": null,
      "metadata": {},
      "outputs": [],
      "source": [
        "from sklearn.model_selection import KFold\n",
        "from sklearn.model_selection import cross_val_score\n",
        "# Instance of KFold\n",
        "k = 10\n",
        "kf = KFold(n_splits=k, shuffle=True, random_state=42)\n",
        "\n",
        "# Group all data together\n",
        "X_val=np.vstack((X_train_pca, X_test_pca))\n",
        "y_val=np.hstack((y_train,y_test))\n",
        "\n",
        "model_pkl_file='/content/drive/MyDrive/data/processed/AC_ML_XGB_Unbalanced.pkl'\n",
        "with open(model_pkl_file, 'rb') as file:\n",
        "    model = pickle.load(file)\n",
        "\n",
        "print(model.score(X_roval, y_roval))\n",
        "\n",
        "scores = cross_val_score(model, X_val, y_val, cv=kf, scoring='f1_weighted')\n",
        "print(scores)\n",
        "print('Pour une moyenne de:', np.mean(scores))\n"
      ]
    },
    {
      "cell_type": "markdown",
      "metadata": {},
      "source": [
        "KFold cross-validation for SVC Oversampled"
      ]
    },
    {
      "cell_type": "code",
      "execution_count": null,
      "metadata": {},
      "outputs": [],
      "source": [
        "from sklearn.model_selection import KFold\n",
        "from sklearn.model_selection import cross_val_score\n",
        "import pickle\n",
        "\n",
        "model_pkl_file='/content/drive/MyDrive/data/processed/AC_ML_SVC_Oversampled.pkl'\n",
        "with open(model_pkl_file, 'rb') as file:\n",
        "    model = pickle.load(file)\n",
        "\n",
        "# Instance of KFold\n",
        "k = 10\n",
        "kf = KFold(n_splits=k, shuffle=True, random_state=42)\n",
        "\n",
        "# Group all data together\n",
        "X_roval=np.vstack((X_ro_pca, X_test_ro_pca))\n",
        "y_roval=np.hstack((y_ro,y_test))\n",
        "\n",
        "scores = cross_val_score(model, X_roval, y_roval, cv=kf, scoring='f1_weighted')\n",
        "print(scores)\n",
        "print('Pour une moyenne de:', np.mean(scores))"
      ]
    },
    {
      "cell_type": "markdown",
      "metadata": {},
      "source": [
        "KFold cross-validation for SVC Unbalanced"
      ]
    },
    {
      "cell_type": "code",
      "execution_count": null,
      "metadata": {},
      "outputs": [],
      "source": [
        "from sklearn.model_selection import KFold\n",
        "from sklearn.model_selection import cross_val_score\n",
        "import pickle\n",
        "\n",
        "\n",
        "model_pkl_file='/content/drive/MyDrive/data/processed/AC_ML_SVC_Unbalanced.pkl'\n",
        "with open(model_pkl_file, 'rb') as file:\n",
        "    model = pickle.load(file)\n",
        "\n",
        "# Instance of KFold\n",
        "k = 10\n",
        "kf = KFold(n_splits=k, shuffle=True, random_state=42)\n",
        "\n",
        "# Group all data together\n",
        "X_val=np.vstack((X_train_pca, X_test_pca))\n",
        "y_val=np.hstack((y_train,y_test))\n",
        "\n",
        "#model=svc_unba\n",
        "\n",
        "print(model.score(X_roval, y_roval))\n",
        "\n",
        "scores = cross_val_score(model, X_val, y_val, cv=kf, scoring='f1_weighted')\n",
        "print(scores)\n",
        "print('Pour une moyenne de:', np.mean(scores))"
      ]
    }
  ],
  "metadata": {
    "accelerator": "GPU",
    "colab": {
      "collapsed_sections": [
        "Z5vvdsu95JjP",
        "KZjtn9gCOXX3",
        "M9QuKnwjV-uv",
        "cMxPBOvoWM8z"
      ],
      "gpuType": "T4",
      "machine_shape": "hm",
      "provenance": []
    },
    "kernelspec": {
      "display_name": "base",
      "language": "python",
      "name": "python3"
    },
    "language_info": {
      "codemirror_mode": {
        "name": "ipython",
        "version": 3
      },
      "file_extension": ".py",
      "mimetype": "text/x-python",
      "name": "python",
      "nbconvert_exporter": "python",
      "pygments_lexer": "ipython3",
      "version": "3.11.7"
    }
  },
  "nbformat": 4,
  "nbformat_minor": 0
}
