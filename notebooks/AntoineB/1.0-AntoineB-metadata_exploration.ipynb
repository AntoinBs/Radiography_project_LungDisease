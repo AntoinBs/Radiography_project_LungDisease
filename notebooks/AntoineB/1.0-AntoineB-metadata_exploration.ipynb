{
 "cells": [
  {
   "cell_type": "code",
   "execution_count": 1,
   "metadata": {},
   "outputs": [],
   "source": [
    "import pandas as pd"
   ]
  },
  {
   "cell_type": "code",
   "execution_count": 2,
   "metadata": {},
   "outputs": [],
   "source": [
    "# Lecture des métadatas des données\n",
    "# module required : openpyxl\n",
    "df_covid = pd.read_excel(r\"..\\..\\data\\raw\\COVID.metadata.xlsx\")\n",
    "df_normal = pd.read_excel(r\"..\\..\\data\\raw\\Normal.metadata.xlsx\")\n",
    "df_viral_pneumonia = pd.read_excel(r\"..\\..\\data\\raw\\Viral Pneumonia.metadata.xlsx\")\n",
    "df_lung_opacity = pd.read_excel(r\"..\\..\\data\\raw\\Lung_Opacity.metadata.xlsx\")"
   ]
  },
  {
   "cell_type": "code",
   "execution_count": 3,
   "metadata": {},
   "outputs": [
    {
     "name": "stdout",
     "output_type": "stream",
     "text": [
      "Index(['FILE NAME', 'FORMAT', 'SIZE', 'URL'], dtype='object')\n",
      "Index(['FILE NAME', 'FORMAT', 'SIZE', 'URL'], dtype='object')\n",
      "Index(['FILE NAME', 'FORMAT', 'SIZE', 'URL'], dtype='object')\n",
      "Index(['FILE NAME', 'FORMAT', 'SIZE', 'URL'], dtype='object')\n"
     ]
    }
   ],
   "source": [
    "# Les colonnes sont bien les mêmes\n",
    "print(df_covid.columns)\n",
    "print(df_normal.columns)\n",
    "print(df_viral_pneumonia.columns)\n",
    "print(df_lung_opacity.columns)"
   ]
  },
  {
   "cell_type": "code",
   "execution_count": 4,
   "metadata": {},
   "outputs": [],
   "source": [
    "# Ajout d'une colonne LABEL pour identifier le type de pathologie\n",
    "for df, name in zip([df_covid, df_normal, df_viral_pneumonia, df_lung_opacity], ['COVID', 'NORMAL', 'VIRAL PNEUMONIA', 'LUNG OPACITY']):\n",
    "    df['LABEL'] = name"
   ]
  },
  {
   "cell_type": "code",
   "execution_count": 5,
   "metadata": {},
   "outputs": [],
   "source": [
    "# Rassemblement des 4 dataframe en un seul\n",
    "df = pd.concat([df_covid, df_normal, df_viral_pneumonia, df_lung_opacity], axis=0, ignore_index=True)"
   ]
  },
  {
   "cell_type": "code",
   "execution_count": 7,
   "metadata": {},
   "outputs": [
    {
     "name": "stdout",
     "output_type": "stream",
     "text": [
      "21165\n"
     ]
    }
   ],
   "source": [
    "# Nous avons 21 165 lignes. Vérifions qu'il n'y ait pas de doublons\n",
    "print(df['FILE NAME'].nunique()) # Pas de doublons dans les noms de fichiers"
   ]
  },
  {
   "cell_type": "code",
   "execution_count": 8,
   "metadata": {},
   "outputs": [
    {
     "name": "stdout",
     "output_type": "stream",
     "text": [
      "['PNG']\n"
     ]
    }
   ],
   "source": [
    "print(df['FORMAT'].unique()) # Un seul type d'image : PNG"
   ]
  },
  {
   "cell_type": "code",
   "execution_count": 9,
   "metadata": {},
   "outputs": [
    {
     "name": "stdout",
     "output_type": "stream",
     "text": [
      "['256*256']\n"
     ]
    }
   ],
   "source": [
    "print(df['SIZE'].unique()) # Une seule taille d'image : 256x256px\n",
    "# Cette information semble imprécise : sur kaggle (source des données), il est indiqué une taille d'images de 299x299px\n",
    "# Après parcours des images, les radiographie ont une résolution de 299x299px et les masques 256x256px"
   ]
  },
  {
   "cell_type": "code",
   "execution_count": 10,
   "metadata": {},
   "outputs": [
    {
     "name": "stdout",
     "output_type": "stream",
     "text": [
      "['https://sirm.org/category/senza-categoria/covid-19/'\n",
      " 'https://github.com/ml-workgroup/covid-19-image-repository/tree/master/png'\n",
      " 'https://eurorad.org' 'https://github.com/armiro/COVID-CXNet'\n",
      " 'https://github.com/ieee8023/covid-chestxray-dataset'\n",
      " 'https://bimcv.cipf.es/bimcv-projects/bimcv-covid19/#1590858128006-9e640421-6711'\n",
      " 'https://www.kaggle.com/c/rsna-pneumonia-detection-challenge/data'\n",
      " 'https://www.kaggle.com/paultimothymooney/chest-xray-pneumonia']\n"
     ]
    }
   ],
   "source": [
    "print(df['URL'].unique())"
   ]
  },
  {
   "cell_type": "markdown",
   "metadata": {},
   "source": [
    "La colonne représente le lien vers la sources des images.\n",
    "Le premier lien est H.S."
   ]
  },
  {
   "cell_type": "code",
   "execution_count": 12,
   "metadata": {},
   "outputs": [],
   "source": [
    "# Enregistrement du dataframe des métadonnées\n",
    "df.to_csv(r'..\\..\\data\\processed\\metadatas.csv', sep=',', encoding='utf-8', index=False, header=True)"
   ]
  }
 ],
 "metadata": {
  "kernelspec": {
   "display_name": ".venv",
   "language": "python",
   "name": "python3"
  },
  "language_info": {
   "codemirror_mode": {
    "name": "ipython",
    "version": 3
   },
   "file_extension": ".py",
   "mimetype": "text/x-python",
   "name": "python",
   "nbconvert_exporter": "python",
   "pygments_lexer": "ipython3",
   "version": "3.12.2"
  }
 },
 "nbformat": 4,
 "nbformat_minor": 2
}
