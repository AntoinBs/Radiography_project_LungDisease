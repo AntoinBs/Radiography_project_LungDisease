{
 "cells": [
  {
   "cell_type": "code",
   "execution_count": 1,
   "metadata": {},
   "outputs": [],
   "source": [
    "import pandas as pd\n",
    "import cv2\n",
    "import matplotlib.pyplot as plt\n",
    "\n",
    "from Libraries.get_absolute_path import get_absolute_path"
   ]
  },
  {
   "cell_type": "code",
   "execution_count": 2,
   "metadata": {},
   "outputs": [],
   "source": [
    "# Ouverture des métadonnées\n",
    "df = pd.read_csv(r'CSV\\metadatas_with_url.csv')"
   ]
  },
  {
   "cell_type": "markdown",
   "metadata": {},
   "source": [
    "# Etape 1 - Augmenter un masque"
   ]
  },
  {
   "cell_type": "code",
   "execution_count": 3,
   "metadata": {},
   "outputs": [
    {
     "data": {
      "text/plain": [
       "([], [])"
      ]
     },
     "execution_count": 3,
     "metadata": {},
     "output_type": "execute_result"
    },
    {
     "data": {
      "image/png": "[encoded data removed]",
      "text/plain": [
       "<Figure size 1000x500 with 2 Axes>"
      ]
     },
     "metadata": {},
     "output_type": "display_data"
    }
   ],
   "source": [
    "mask = cv2.imread(get_absolute_path(df.loc[0, \"MASK_URL\"]), cv2.IMREAD_GRAYSCALE)\n",
    "\n",
    "# Dans notre cas, la méthode d'interpolation la plus adaptée pour augmenter l'image semble être une interpolation nearest car elle ne va pas créer de\n",
    "# valeur intermédiare entre 0 et 255, ce qui pourrait introduire des biais dans le modèle en fusionant avec les images d'origine\n",
    "mask_resized = cv2.resize(mask, dsize=(299,299), interpolation=cv2.INTER_NEAREST)\n",
    "\n",
    "plt.figure(figsize=(10,5))\n",
    "plt.subplot(121)\n",
    "plt.imshow(mask, cmap='gray')\n",
    "plt.title(f\"Masque d'origine : ({mask.shape[0]}x{mask.shape[1]})px\")\n",
    "plt.xticks([])\n",
    "plt.yticks([])\n",
    "\n",
    "plt.subplot(122)\n",
    "plt.imshow(mask_resized, cmap='gray')\n",
    "plt.title(f\"Masque augmenté : ({mask_resized.shape[0]}x{mask_resized.shape[1]})px\")\n",
    "plt.xticks([])\n",
    "plt.yticks([])"
   ]
  },
  {
   "cell_type": "markdown",
   "metadata": {},
   "source": [
    "# Etape 2 - Augmenter tout les masques et les stocker"
   ]
  },
  {
   "cell_type": "code",
   "execution_count": 4,
   "metadata": {},
   "outputs": [],
   "source": [
    "import os\n",
    "from pathlib import Path\n",
    "\n",
    "def save_img(img : cv2.imread, file_name : str, path : str):\n",
    "    # Fonction qui enregistre une image à l'endroit spécifié, avec le nom file_name\n",
    "    path = get_absolute_path(path)\n",
    "    try :\n",
    "        initial_dir = Path(__file__).resolve().parent # __file__ is accessible in .py files but not in .ipynb files\n",
    "    except NameError:\n",
    "        initial_dir = Path(os.getcwd()).resolve() # for .ipynb files\n",
    "    os.chdir(path)\n",
    "    cv2.imwrite(file_name, img)\n",
    "    initial_dir = get_absolute_path(initial_dir)\n",
    "    os.chdir(initial_dir)"
   ]
  },
  {
   "cell_type": "code",
   "execution_count": 6,
   "metadata": {},
   "outputs": [],
   "source": [
    "# Parcours de tous les masques, augmentation en 299x299 puis enregistrement des nouveaux masques augmentés\n",
    "for mask_url, file_name, label in zip(df[\"MASK_URL\"], df['FILE NAME'], df['LABEL']):\n",
    "    mask_url = get_absolute_path(mask_url) # get absolute path\n",
    "    mask = cv2.imread(mask_url, cv2.IMREAD_GRAYSCALE)\n",
    "    mask_resized = cv2.resize(mask, dsize=(299,299), interpolation=cv2.INTER_NEAREST)\n",
    "    file_name = file_name + '.png'\n",
    "    path = Path(\"data\", \"processed\", label, \"masks\")\n",
    "    path = get_absolute_path(path)\n",
    "    save_img(mask_resized, file_name, path)"
   ]
  },
  {
   "cell_type": "code",
   "execution_count": 8,
   "metadata": {},
   "outputs": [],
   "source": [
    "# Enregistrement des chemins d'accès dans les métadonnées\n",
    "for file, format, label in zip(df['FILE NAME'], df['FORMAT'], df['LABEL']):\n",
    "        format = format.lower() # set format in lowercase\n",
    "        file_name = file + '.' + format # concatenate file and format to make global file_name\n",
    "        path = Path(\"data\", \"processed\", label, 'masks', file_name) # build Path from the variables in the current line of dataset\n",
    "        df.loc[(df['FILE NAME'] == file), 'MASK_RESIZED_URL'] = path # update the path in DataFrame\n"
   ]
  },
  {
   "cell_type": "code",
   "execution_count": 9,
   "metadata": {},
   "outputs": [
    {
     "data": {
      "text/html": [
       "<div>\n",
       "<style scoped>\n",
       "    .dataframe tbody tr th:only-of-type {\n",
       "        vertical-align: middle;\n",
       "    }\n",
       "\n",
       "    .dataframe tbody tr th {\n",
       "        vertical-align: top;\n",
       "    }\n",
       "\n",
       "    .dataframe thead th {\n",
       "        text-align: right;\n",
       "    }\n",
       "</style>\n",
       "<table border=\"1\" class=\"dataframe\">\n",
       "  <thead>\n",
       "    <tr style=\"text-align: right;\">\n",
       "      <th></th>\n",
       "      <th>FILE NAME</th>\n",
       "      <th>FORMAT</th>\n",
       "      <th>SIZE</th>\n",
       "      <th>URL</th>\n",
       "      <th>LABEL</th>\n",
       "      <th>IMG_URL</th>\n",
       "      <th>MASK_URL</th>\n",
       "      <th>MASK_RESIZED_URL</th>\n",
       "    </tr>\n",
       "  </thead>\n",
       "  <tbody>\n",
       "    <tr>\n",
       "      <th>0</th>\n",
       "      <td>COVID-1</td>\n",
       "      <td>PNG</td>\n",
       "      <td>256*256</td>\n",
       "      <td>https://sirm.org/category/senza-categoria/covi...</td>\n",
       "      <td>COVID</td>\n",
       "      <td>data\\raw\\COVID\\images\\COVID-1.png</td>\n",
       "      <td>data\\raw\\COVID\\masks\\COVID-1.png</td>\n",
       "      <td>data\\processed\\COVID\\masks\\COVID-1.png</td>\n",
       "    </tr>\n",
       "    <tr>\n",
       "      <th>1</th>\n",
       "      <td>COVID-2</td>\n",
       "      <td>PNG</td>\n",
       "      <td>256*256</td>\n",
       "      <td>https://sirm.org/category/senza-categoria/covi...</td>\n",
       "      <td>COVID</td>\n",
       "      <td>data\\raw\\COVID\\images\\COVID-2.png</td>\n",
       "      <td>data\\raw\\COVID\\masks\\COVID-2.png</td>\n",
       "      <td>data\\processed\\COVID\\masks\\COVID-2.png</td>\n",
       "    </tr>\n",
       "    <tr>\n",
       "      <th>2</th>\n",
       "      <td>COVID-3</td>\n",
       "      <td>PNG</td>\n",
       "      <td>256*256</td>\n",
       "      <td>https://sirm.org/category/senza-categoria/covi...</td>\n",
       "      <td>COVID</td>\n",
       "      <td>data\\raw\\COVID\\images\\COVID-3.png</td>\n",
       "      <td>data\\raw\\COVID\\masks\\COVID-3.png</td>\n",
       "      <td>data\\processed\\COVID\\masks\\COVID-3.png</td>\n",
       "    </tr>\n",
       "    <tr>\n",
       "      <th>3</th>\n",
       "      <td>COVID-4</td>\n",
       "      <td>PNG</td>\n",
       "      <td>256*256</td>\n",
       "      <td>https://sirm.org/category/senza-categoria/covi...</td>\n",
       "      <td>COVID</td>\n",
       "      <td>data\\raw\\COVID\\images\\COVID-4.png</td>\n",
       "      <td>data\\raw\\COVID\\masks\\COVID-4.png</td>\n",
       "      <td>data\\processed\\COVID\\masks\\COVID-4.png</td>\n",
       "    </tr>\n",
       "    <tr>\n",
       "      <th>4</th>\n",
       "      <td>COVID-5</td>\n",
       "      <td>PNG</td>\n",
       "      <td>256*256</td>\n",
       "      <td>https://sirm.org/category/senza-categoria/covi...</td>\n",
       "      <td>COVID</td>\n",
       "      <td>data\\raw\\COVID\\images\\COVID-5.png</td>\n",
       "      <td>data\\raw\\COVID\\masks\\COVID-5.png</td>\n",
       "      <td>data\\processed\\COVID\\masks\\COVID-5.png</td>\n",
       "    </tr>\n",
       "  </tbody>\n",
       "</table>\n",
       "</div>"
      ],
      "text/plain": [
       "  FILE NAME FORMAT     SIZE  \\\n",
       "0   COVID-1    PNG  256*256   \n",
       "1   COVID-2    PNG  256*256   \n",
       "2   COVID-3    PNG  256*256   \n",
       "3   COVID-4    PNG  256*256   \n",
       "4   COVID-5    PNG  256*256   \n",
       "\n",
       "                                                 URL  LABEL  \\\n",
       "0  https://sirm.org/category/senza-categoria/covi...  COVID   \n",
       "1  https://sirm.org/category/senza-categoria/covi...  COVID   \n",
       "2  https://sirm.org/category/senza-categoria/covi...  COVID   \n",
       "3  https://sirm.org/category/senza-categoria/covi...  COVID   \n",
       "4  https://sirm.org/category/senza-categoria/covi...  COVID   \n",
       "\n",
       "                             IMG_URL                          MASK_URL  \\\n",
       "0  data\\raw\\COVID\\images\\COVID-1.png  data\\raw\\COVID\\masks\\COVID-1.png   \n",
       "1  data\\raw\\COVID\\images\\COVID-2.png  data\\raw\\COVID\\masks\\COVID-2.png   \n",
       "2  data\\raw\\COVID\\images\\COVID-3.png  data\\raw\\COVID\\masks\\COVID-3.png   \n",
       "3  data\\raw\\COVID\\images\\COVID-4.png  data\\raw\\COVID\\masks\\COVID-4.png   \n",
       "4  data\\raw\\COVID\\images\\COVID-5.png  data\\raw\\COVID\\masks\\COVID-5.png   \n",
       "\n",
       "                         MASK_RESIZED_URL  \n",
       "0  data\\processed\\COVID\\masks\\COVID-1.png  \n",
       "1  data\\processed\\COVID\\masks\\COVID-2.png  \n",
       "2  data\\processed\\COVID\\masks\\COVID-3.png  \n",
       "3  data\\processed\\COVID\\masks\\COVID-4.png  \n",
       "4  data\\processed\\COVID\\masks\\COVID-5.png  "
      ]
     },
     "execution_count": 9,
     "metadata": {},
     "output_type": "execute_result"
    }
   ],
   "source": [
    "df.head()"
   ]
  },
  {
   "cell_type": "code",
   "execution_count": 10,
   "metadata": {},
   "outputs": [],
   "source": [
    "# Enregistrement des métadonnées avec les liens des masques augmentés\n",
    "df.to_csv(r'..\\..\\data\\processed\\metadatas_with_url.csv', sep=',', encoding='utf-8', index=False, header=True)"
   ]
  }
 ],
 "metadata": {
  "kernelspec": {
   "display_name": ".venv",
   "language": "python",
   "name": "python3"
  },
  "language_info": {
   "codemirror_mode": {
    "name": "ipython",
    "version": 3
   },
   "file_extension": ".py",
   "mimetype": "text/x-python",
   "name": "python",
   "nbconvert_exporter": "python",
   "pygments_lexer": "ipython3",
   "version": "3.12.2"
  }
 },
 "nbformat": 4,
 "nbformat_minor": 2
}
