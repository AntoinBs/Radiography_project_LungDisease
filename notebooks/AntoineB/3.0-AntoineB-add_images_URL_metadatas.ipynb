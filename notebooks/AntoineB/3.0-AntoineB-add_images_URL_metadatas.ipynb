{
 "cells": [
  {
   "cell_type": "code",
   "execution_count": 1,
   "metadata": {},
   "outputs": [],
   "source": [
    "import pandas as pd\n",
    "from pathlib import Path\n",
    "import os"
   ]
  },
  {
   "cell_type": "code",
   "execution_count": 7,
   "metadata": {},
   "outputs": [],
   "source": [
    "def get_repo_path(path : 'str', repo_name : 'str' = 'NOV24-BDS---Covid19-groupe-1') -> 'str':\n",
    "    \"\"\"\n",
    "    This function return the repository path depending on its name 'repo_name'. This function is working only if the current program is running in child folders\n",
    "    of repository.\n",
    "    args:\n",
    "        path: str - path including the repository name repo_name (default : 'NOV24-BDS---Covid19-groupe-1')\n",
    "        repo_name: str - repository's name (default : 'NOV24-BDS---Covid19-groupe-1')\n",
    "    returns:\n",
    "        repo_path: str - repository's absolute path\n",
    "    \"\"\"\n",
    "    parts = path.parts # split path in list of each folders names\n",
    "    for i, part in enumerate(parts):\n",
    "        if part == repo_name:\n",
    "            return(Path(*parts[:i+1])) # return the new path through the repo_name\n",
    "    raise ValueError(f'There is no repo directory {repo_name} (set by repo_name) in the path') # raise ValueError if no repo_name find in path"
   ]
  },
  {
   "cell_type": "code",
   "execution_count": 6,
   "metadata": {},
   "outputs": [],
   "source": [
    "def get_absolute_path(path : str, repo_name : 'str' = 'NOV24-BDS---Covid19-groupe-1') -> str:\n",
    "    r\"\"\"\n",
    "    This function return the absolute path of path which must be relative path from repo folder (ex: data\\raw\\COVID\\images\\COVID-1.png)\n",
    "    args:\n",
    "        path : str - relative path from repo folder(ex: 'data\\raw\\COVID\\images\\COVID-1.png')\n",
    "        repo_name : str - repository's name (default : 'NOV24-BDS---Covid19-groupe-1')\n",
    "    returns:\n",
    "        absolute_path : str - absolute path of path\n",
    "    \"\"\"\n",
    "    # get the folder in which the current program is \n",
    "    try :\n",
    "        parent_folder_path = Path(__file__).resolve().parent # __file__ is accessible in .py files but not in .ipynb files\n",
    "    except NameError:\n",
    "        import os\n",
    "        parent_folder_path = Path(os.getcwd()).resolve() # for .ipynb files\n",
    "    repo_path = get_repo_path(path = parent_folder_path, repo_name = repo_name) # get the github repo root path on the local computer\n",
    "    return repo_path / path # return the repo_path concatenate with path which is relative path from the repo"
   ]
  },
  {
   "cell_type": "code",
   "execution_count": 2,
   "metadata": {},
   "outputs": [],
   "source": [
    "# Ouverture du fichier de métadonnées\n",
    "df = pd.read_csv(r\"..\\..\\data\\processed\\metadatas.csv\")"
   ]
  },
  {
   "cell_type": "code",
   "execution_count": 3,
   "metadata": {},
   "outputs": [],
   "source": [
    "from notebooks.AntoineB.Libraries.add_url import add_url\n",
    "\n",
    "# Ajout des liens des images et masques dans les métadonnées\n",
    "add_url(df)\n",
    "add_url(df, file_type='mask')"
   ]
  },
  {
   "cell_type": "code",
   "execution_count": 5,
   "metadata": {},
   "outputs": [
    {
     "data": {
      "text/html": [
       "<div>\n",
       "<style scoped>\n",
       "    .dataframe tbody tr th:only-of-type {\n",
       "        vertical-align: middle;\n",
       "    }\n",
       "\n",
       "    .dataframe tbody tr th {\n",
       "        vertical-align: top;\n",
       "    }\n",
       "\n",
       "    .dataframe thead th {\n",
       "        text-align: right;\n",
       "    }\n",
       "</style>\n",
       "<table border=\"1\" class=\"dataframe\">\n",
       "  <thead>\n",
       "    <tr style=\"text-align: right;\">\n",
       "      <th></th>\n",
       "      <th>FILE NAME</th>\n",
       "      <th>FORMAT</th>\n",
       "      <th>SIZE</th>\n",
       "      <th>URL</th>\n",
       "      <th>LABEL</th>\n",
       "      <th>IMG_URL</th>\n",
       "      <th>MASK_URL</th>\n",
       "    </tr>\n",
       "  </thead>\n",
       "  <tbody>\n",
       "    <tr>\n",
       "      <th>21160</th>\n",
       "      <td>Lung_Opacity-6008</td>\n",
       "      <td>PNG</td>\n",
       "      <td>256*256</td>\n",
       "      <td>https://www.kaggle.com/c/rsna-pneumonia-detect...</td>\n",
       "      <td>LUNG OPACITY</td>\n",
       "      <td>data\\raw\\LUNG OPACITY\\images\\Lung_Opacity-6008...</td>\n",
       "      <td>data\\raw\\LUNG OPACITY\\masks\\Lung_Opacity-6008.png</td>\n",
       "    </tr>\n",
       "    <tr>\n",
       "      <th>21161</th>\n",
       "      <td>Lung_Opacity-6009</td>\n",
       "      <td>PNG</td>\n",
       "      <td>256*256</td>\n",
       "      <td>https://www.kaggle.com/c/rsna-pneumonia-detect...</td>\n",
       "      <td>LUNG OPACITY</td>\n",
       "      <td>data\\raw\\LUNG OPACITY\\images\\Lung_Opacity-6009...</td>\n",
       "      <td>data\\raw\\LUNG OPACITY\\masks\\Lung_Opacity-6009.png</td>\n",
       "    </tr>\n",
       "    <tr>\n",
       "      <th>21162</th>\n",
       "      <td>Lung_Opacity-6010</td>\n",
       "      <td>PNG</td>\n",
       "      <td>256*256</td>\n",
       "      <td>https://www.kaggle.com/c/rsna-pneumonia-detect...</td>\n",
       "      <td>LUNG OPACITY</td>\n",
       "      <td>data\\raw\\LUNG OPACITY\\images\\Lung_Opacity-6010...</td>\n",
       "      <td>data\\raw\\LUNG OPACITY\\masks\\Lung_Opacity-6010.png</td>\n",
       "    </tr>\n",
       "    <tr>\n",
       "      <th>21163</th>\n",
       "      <td>Lung_Opacity-6011</td>\n",
       "      <td>PNG</td>\n",
       "      <td>256*256</td>\n",
       "      <td>https://www.kaggle.com/c/rsna-pneumonia-detect...</td>\n",
       "      <td>LUNG OPACITY</td>\n",
       "      <td>data\\raw\\LUNG OPACITY\\images\\Lung_Opacity-6011...</td>\n",
       "      <td>data\\raw\\LUNG OPACITY\\masks\\Lung_Opacity-6011.png</td>\n",
       "    </tr>\n",
       "    <tr>\n",
       "      <th>21164</th>\n",
       "      <td>Lung_Opacity-6012</td>\n",
       "      <td>PNG</td>\n",
       "      <td>256*256</td>\n",
       "      <td>https://www.kaggle.com/c/rsna-pneumonia-detect...</td>\n",
       "      <td>LUNG OPACITY</td>\n",
       "      <td>data\\raw\\LUNG OPACITY\\images\\Lung_Opacity-6012...</td>\n",
       "      <td>data\\raw\\LUNG OPACITY\\masks\\Lung_Opacity-6012.png</td>\n",
       "    </tr>\n",
       "  </tbody>\n",
       "</table>\n",
       "</div>"
      ],
      "text/plain": [
       "               FILE NAME FORMAT     SIZE  \\\n",
       "21160  Lung_Opacity-6008    PNG  256*256   \n",
       "21161  Lung_Opacity-6009    PNG  256*256   \n",
       "21162  Lung_Opacity-6010    PNG  256*256   \n",
       "21163  Lung_Opacity-6011    PNG  256*256   \n",
       "21164  Lung_Opacity-6012    PNG  256*256   \n",
       "\n",
       "                                                     URL         LABEL  \\\n",
       "21160  https://www.kaggle.com/c/rsna-pneumonia-detect...  LUNG OPACITY   \n",
       "21161  https://www.kaggle.com/c/rsna-pneumonia-detect...  LUNG OPACITY   \n",
       "21162  https://www.kaggle.com/c/rsna-pneumonia-detect...  LUNG OPACITY   \n",
       "21163  https://www.kaggle.com/c/rsna-pneumonia-detect...  LUNG OPACITY   \n",
       "21164  https://www.kaggle.com/c/rsna-pneumonia-detect...  LUNG OPACITY   \n",
       "\n",
       "                                                 IMG_URL  \\\n",
       "21160  data\\raw\\LUNG OPACITY\\images\\Lung_Opacity-6008...   \n",
       "21161  data\\raw\\LUNG OPACITY\\images\\Lung_Opacity-6009...   \n",
       "21162  data\\raw\\LUNG OPACITY\\images\\Lung_Opacity-6010...   \n",
       "21163  data\\raw\\LUNG OPACITY\\images\\Lung_Opacity-6011...   \n",
       "21164  data\\raw\\LUNG OPACITY\\images\\Lung_Opacity-6012...   \n",
       "\n",
       "                                                MASK_URL  \n",
       "21160  data\\raw\\LUNG OPACITY\\masks\\Lung_Opacity-6008.png  \n",
       "21161  data\\raw\\LUNG OPACITY\\masks\\Lung_Opacity-6009.png  \n",
       "21162  data\\raw\\LUNG OPACITY\\masks\\Lung_Opacity-6010.png  \n",
       "21163  data\\raw\\LUNG OPACITY\\masks\\Lung_Opacity-6011.png  \n",
       "21164  data\\raw\\LUNG OPACITY\\masks\\Lung_Opacity-6012.png  "
      ]
     },
     "execution_count": 5,
     "metadata": {},
     "output_type": "execute_result"
    }
   ],
   "source": [
    "df.tail()"
   ]
  },
  {
   "cell_type": "code",
   "execution_count": 38,
   "metadata": {},
   "outputs": [],
   "source": [
    "# Enregistrement des nouvelles métadonnées\n",
    "df.to_csv(r'..\\..\\data\\processed\\metadatas.csv', sep=',', encoding='utf-8', index=False, header=True)"
   ]
  }
 ],
 "metadata": {
  "kernelspec": {
   "display_name": ".venv",
   "language": "python",
   "name": "python3"
  },
  "language_info": {
   "codemirror_mode": {
    "name": "ipython",
    "version": 3
   },
   "file_extension": ".py",
   "mimetype": "text/x-python",
   "name": "python",
   "nbconvert_exporter": "python",
   "pygments_lexer": "ipython3",
   "version": "3.12.2"
  }
 },
 "nbformat": 4,
 "nbformat_minor": 2
}
